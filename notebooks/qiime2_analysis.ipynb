{
 "cells": [
  {
   "cell_type": "code",
   "execution_count": 1,
   "id": "c1d43570",
   "metadata": {},
   "outputs": [
    {
     "name": "stdout",
     "output_type": "stream",
     "text": [
      "q2cli version 2025.4.0\r\n",
      "Run `qiime info` for more version details.\r\n"
     ]
    }
   ],
   "source": [
    "!qiime --version"
   ]
  },
  {
   "cell_type": "markdown",
   "id": "54a3c287",
   "metadata": {},
   "source": [
    "# Metadata"
   ]
  },
  {
   "cell_type": "code",
   "execution_count": 2,
   "id": "a4dee9b9",
   "metadata": {},
   "outputs": [],
   "source": [
    "import pandas as pd\n",
    "import numpy as np"
   ]
  },
  {
   "cell_type": "code",
   "execution_count": 43,
   "id": "80e65d09",
   "metadata": {},
   "outputs": [],
   "source": [
    "import warnings\n",
    "warnings.simplefilter(action='ignore', category=FutureWarning)"
   ]
  },
  {
   "cell_type": "code",
   "execution_count": 5,
   "id": "f0c4d038",
   "metadata": {},
   "outputs": [],
   "source": [
    "md = pd.read_csv('../../data/14834_metadata.txt', sep='\\t')\n",
    "hmo_stat = pd.read_csv('../../data/metab_HMO_secretor_status.csv', index_col=0)\n",
    "dws = pd.read_csv('../../data/other_metadata/metab_observational-metadata-with-secretor.csv',\n",
    "                 index_col=0)"
   ]
  },
  {
   "cell_type": "code",
   "execution_count": 6,
   "id": "4166b50f",
   "metadata": {},
   "outputs": [
    {
     "data": {
      "text/html": [
       "<div>\n",
       "<style scoped>\n",
       "    .dataframe tbody tr th:only-of-type {\n",
       "        vertical-align: middle;\n",
       "    }\n",
       "\n",
       "    .dataframe tbody tr th {\n",
       "        vertical-align: top;\n",
       "    }\n",
       "\n",
       "    .dataframe thead th {\n",
       "        text-align: right;\n",
       "    }\n",
       "</style>\n",
       "<table border=\"1\" class=\"dataframe\">\n",
       "  <thead>\n",
       "    <tr style=\"text-align: right;\">\n",
       "      <th></th>\n",
       "      <th>hmo_Secretor</th>\n",
       "      <th>hmo_id</th>\n",
       "    </tr>\n",
       "    <tr>\n",
       "      <th>SampleID</th>\n",
       "      <th></th>\n",
       "      <th></th>\n",
       "    </tr>\n",
       "  </thead>\n",
       "  <tbody>\n",
       "    <tr>\n",
       "      <th>23486</th>\n",
       "      <td>0</td>\n",
       "      <td>23486</td>\n",
       "    </tr>\n",
       "    <tr>\n",
       "      <th>32136</th>\n",
       "      <td>1</td>\n",
       "      <td>32136</td>\n",
       "    </tr>\n",
       "    <tr>\n",
       "      <th>40010</th>\n",
       "      <td>1</td>\n",
       "      <td>40010</td>\n",
       "    </tr>\n",
       "    <tr>\n",
       "      <th>41095</th>\n",
       "      <td>1</td>\n",
       "      <td>41095</td>\n",
       "    </tr>\n",
       "    <tr>\n",
       "      <th>41865</th>\n",
       "      <td>0</td>\n",
       "      <td>41865</td>\n",
       "    </tr>\n",
       "  </tbody>\n",
       "</table>\n",
       "</div>"
      ],
      "text/plain": [
       "         hmo_Secretor hmo_id\n",
       "SampleID                    \n",
       "23486               0  23486\n",
       "32136               1  32136\n",
       "40010               1  40010\n",
       "41095               1  41095\n",
       "41865               0  41865"
      ]
     },
     "execution_count": 6,
     "metadata": {},
     "output_type": "execute_result"
    }
   ],
   "source": [
    "hmo_stat['hmo_id'] = hmo_stat.index.astype(str)\n",
    "hmo_stat.head()"
   ]
  },
  {
   "cell_type": "code",
   "execution_count": 7,
   "id": "6d22a093",
   "metadata": {},
   "outputs": [
    {
     "data": {
      "text/plain": [
       "(130, 2)"
      ]
     },
     "execution_count": 7,
     "metadata": {},
     "output_type": "execute_result"
    }
   ],
   "source": [
    "hmo_stat.shape"
   ]
  },
  {
   "cell_type": "code",
   "execution_count": 8,
   "id": "07a5695d",
   "metadata": {},
   "outputs": [
    {
     "data": {
      "text/plain": [
       "(533, 22)"
      ]
     },
     "execution_count": 8,
     "metadata": {},
     "output_type": "execute_result"
    }
   ],
   "source": [
    "dws.shape"
   ]
  },
  {
   "cell_type": "code",
   "execution_count": 9,
   "id": "72537eee",
   "metadata": {},
   "outputs": [
    {
     "data": {
      "text/html": [
       "<div>\n",
       "<style scoped>\n",
       "    .dataframe tbody tr th:only-of-type {\n",
       "        vertical-align: middle;\n",
       "    }\n",
       "\n",
       "    .dataframe tbody tr th {\n",
       "        vertical-align: top;\n",
       "    }\n",
       "\n",
       "    .dataframe thead th {\n",
       "        text-align: right;\n",
       "    }\n",
       "</style>\n",
       "<table border=\"1\" class=\"dataframe\">\n",
       "  <thead>\n",
       "    <tr style=\"text-align: right;\">\n",
       "      <th></th>\n",
       "      <th>hmo_Secretor</th>\n",
       "      <th>hmo_id</th>\n",
       "      <th>drink_water_safe</th>\n",
       "    </tr>\n",
       "    <tr>\n",
       "      <th>SampleID</th>\n",
       "      <th></th>\n",
       "      <th></th>\n",
       "      <th></th>\n",
       "    </tr>\n",
       "  </thead>\n",
       "  <tbody>\n",
       "    <tr>\n",
       "      <th>32208</th>\n",
       "      <td>NaN</td>\n",
       "      <td>NaN</td>\n",
       "      <td>nothing</td>\n",
       "    </tr>\n",
       "    <tr>\n",
       "      <th>23544</th>\n",
       "      <td>NaN</td>\n",
       "      <td>NaN</td>\n",
       "      <td>nothing</td>\n",
       "    </tr>\n",
       "    <tr>\n",
       "      <th>22843</th>\n",
       "      <td>NaN</td>\n",
       "      <td>NaN</td>\n",
       "      <td>nothing</td>\n",
       "    </tr>\n",
       "    <tr>\n",
       "      <th>51798</th>\n",
       "      <td>NaN</td>\n",
       "      <td>NaN</td>\n",
       "      <td>boil</td>\n",
       "    </tr>\n",
       "    <tr>\n",
       "      <th>23208</th>\n",
       "      <td>NaN</td>\n",
       "      <td>NaN</td>\n",
       "      <td>nothing</td>\n",
       "    </tr>\n",
       "  </tbody>\n",
       "</table>\n",
       "</div>"
      ],
      "text/plain": [
       "         hmo_Secretor hmo_id drink_water_safe\n",
       "SampleID                                     \n",
       "32208             NaN    NaN          nothing\n",
       "23544             NaN    NaN          nothing\n",
       "22843             NaN    NaN          nothing\n",
       "51798             NaN    NaN             boil\n",
       "23208             NaN    NaN          nothing"
      ]
     },
     "execution_count": 9,
     "metadata": {},
     "output_type": "execute_result"
    }
   ],
   "source": [
    "ad_md = pd.merge(hmo_stat, dws[['drink_water_safe']], \n",
    "                 how='right', left_index=True, right_index=True)\n",
    "ad_md.head()"
   ]
  },
  {
   "cell_type": "code",
   "execution_count": 10,
   "id": "c43ee225",
   "metadata": {},
   "outputs": [],
   "source": [
    "for index, row in md.iterrows():\n",
    "        if isinstance(row['tube_id'], str) and row['tube_id'].startswith('14834.'):\n",
    "            md.loc[index, 'tube_id'] = row['tube_id'][6:]"
   ]
  },
  {
   "cell_type": "code",
   "execution_count": 11,
   "id": "ed453c11",
   "metadata": {},
   "outputs": [],
   "source": [
    "if 'host_age_infant' in md.columns:\n",
    "    md['host_age_infant'] = md['host_age_infant'].replace('not applicable', -1)"
   ]
  },
  {
   "cell_type": "code",
   "execution_count": 12,
   "id": "85ef57e5",
   "metadata": {},
   "outputs": [],
   "source": [
    "md['sample_name'] = md['qiita_study_id'].astype(str)+\".\"+md['tube_id'].astype(str)\n",
    "md.set_index('sample_name', inplace=True)"
   ]
  },
  {
   "cell_type": "code",
   "execution_count": 13,
   "id": "563c5e3b",
   "metadata": {},
   "outputs": [
    {
     "data": {
      "text/plain": [
       "(2124, 66)"
      ]
     },
     "execution_count": 13,
     "metadata": {},
     "output_type": "execute_result"
    }
   ],
   "source": [
    "md.shape"
   ]
  },
  {
   "cell_type": "code",
   "execution_count": 14,
   "id": "d46c455b",
   "metadata": {},
   "outputs": [
    {
     "data": {
      "text/plain": [
       "(2124, 70)"
      ]
     },
     "execution_count": 14,
     "metadata": {},
     "output_type": "execute_result"
    }
   ],
   "source": [
    "md2 = pd.merge(md.reset_index(), ad_md, left_on='sample_barcode', right_on='hmo_id', how='left')\n",
    "md2.shape"
   ]
  },
  {
   "cell_type": "code",
   "execution_count": 15,
   "id": "dfa6c2e8",
   "metadata": {},
   "outputs": [],
   "source": [
    "md2.set_index('sample_name', inplace=True)\n",
    "md2.drop(columns=['hmo_id'], inplace=True)"
   ]
  },
  {
   "cell_type": "code",
   "execution_count": 16,
   "id": "9396536f",
   "metadata": {},
   "outputs": [],
   "source": [
    "# Create a dictionary to store the determined status for each host_subject_id\n",
    "status_dict = {}\n",
    "\n",
    "# Iterate through the DataFrame to determine the correct status for each host_subject_id\n",
    "for index, row in md2.iterrows():\n",
    "    subject_id = row['host_subject_id']\n",
    "    status = row['hmo_Secretor']\n",
    "\n",
    "    if status in ['0', '1']:\n",
    "        if subject_id not in status_dict:\n",
    "            status_dict[subject_id] = status\n",
    "\n",
    "# Iterate through the DataFrame again to update the status values\n",
    "for index, row in md2.iterrows():\n",
    "    subject_id = row['host_subject_id']\n",
    "    if subject_id in status_dict:\n",
    "        md2.loc[index, 'hmo_Secretor'] = status_dict[subject_id]"
   ]
  },
  {
   "cell_type": "code",
   "execution_count": 17,
   "id": "5065679e",
   "metadata": {},
   "outputs": [],
   "source": [
    "# Create a dictionary to store the determined 'drink_water_safe' for each family_id\n",
    "status_dict = {}\n",
    "\n",
    "# Iterate through the DataFrame to determine the correct 'drink_water_safe' for each family_id\n",
    "for index, row in md2.iterrows():\n",
    "    family_id = row['family_id']\n",
    "    status = row['drink_water_safe']\n",
    "\n",
    "    if pd.notna(status) and status != 'unknown':\n",
    "        if family_id not in status_dict:\n",
    "            status_dict[family_id] = status\n",
    "\n",
    "# Iterate through the DataFrame again to update the 'drink_water_safe' values\n",
    "for index, row in md2.iterrows():\n",
    "    family_id = row['family_id']\n",
    "    if family_id in status_dict:\n",
    "        md2.loc[index, 'drink_water_safe'] = status_dict[family_id]"
   ]
  },
  {
   "cell_type": "code",
   "execution_count": 18,
   "id": "df2e6ee2",
   "metadata": {},
   "outputs": [],
   "source": [
    "# Create a dictionary to store the determined status for each host_subject_id\n",
    "status_dict = {}\n",
    "\n",
    "# Iterate through the DataFrame to determine the correct status for each host_subject_id\n",
    "for index, row in md2.iterrows():\n",
    "    subject_id = row['family_id']\n",
    "    status = row['hmo_Secretor']\n",
    "\n",
    "    if status in ['0', '1']:\n",
    "        if subject_id not in status_dict:\n",
    "            status_dict[subject_id] = status\n",
    "\n",
    "# Iterate through the DataFrame again to update the status values\n",
    "for index, row in md2.iterrows():\n",
    "    subject_id = row['family_id']\n",
    "    if subject_id in status_dict:\n",
    "        md2.loc[index, 'hmo_Secretor'] = status_dict[subject_id]"
   ]
  },
  {
   "cell_type": "code",
   "execution_count": 19,
   "id": "93dba024",
   "metadata": {},
   "outputs": [
    {
     "data": {
      "text/plain": [
       "hmo_Secretor\n",
       "1          1204\n",
       "0           536\n",
       "unknown       3\n",
       "Name: count, dtype: int64"
      ]
     },
     "execution_count": 19,
     "metadata": {},
     "output_type": "execute_result"
    }
   ],
   "source": [
    "md2.hmo_Secretor.value_counts()"
   ]
  },
  {
   "cell_type": "code",
   "execution_count": 20,
   "id": "a5351c4b",
   "metadata": {},
   "outputs": [],
   "source": [
    "def categorize(value):\n",
    "        if value == 'nothing':\n",
    "            return 'Untreated'\n",
    "        else:\n",
    "            return 'Treated'"
   ]
  },
  {
   "cell_type": "code",
   "execution_count": 21,
   "id": "ee33e383",
   "metadata": {},
   "outputs": [
    {
     "data": {
      "text/html": [
       "<div>\n",
       "<style scoped>\n",
       "    .dataframe tbody tr th:only-of-type {\n",
       "        vertical-align: middle;\n",
       "    }\n",
       "\n",
       "    .dataframe tbody tr th {\n",
       "        vertical-align: top;\n",
       "    }\n",
       "\n",
       "    .dataframe thead th {\n",
       "        text-align: right;\n",
       "    }\n",
       "</style>\n",
       "<table border=\"1\" class=\"dataframe\">\n",
       "  <thead>\n",
       "    <tr style=\"text-align: right;\">\n",
       "      <th></th>\n",
       "      <th>age_enrollment_study</th>\n",
       "      <th>collection_date</th>\n",
       "      <th>collection_timestamp</th>\n",
       "      <th>country</th>\n",
       "      <th>description</th>\n",
       "      <th>dna_extracted</th>\n",
       "      <th>elevation</th>\n",
       "      <th>empo_1</th>\n",
       "      <th>empo_2</th>\n",
       "      <th>empo_3</th>\n",
       "      <th>...</th>\n",
       "      <th>sample_barcode</th>\n",
       "      <th>sample_type</th>\n",
       "      <th>scientific_name</th>\n",
       "      <th>specimen_name</th>\n",
       "      <th>taxon_id</th>\n",
       "      <th>title</th>\n",
       "      <th>tube_id</th>\n",
       "      <th>hmo_Secretor</th>\n",
       "      <th>drink_water_safe</th>\n",
       "      <th>drink_water_safe_simplified</th>\n",
       "    </tr>\n",
       "    <tr>\n",
       "      <th>sample_name</th>\n",
       "      <th></th>\n",
       "      <th></th>\n",
       "      <th></th>\n",
       "      <th></th>\n",
       "      <th></th>\n",
       "      <th></th>\n",
       "      <th></th>\n",
       "      <th></th>\n",
       "      <th></th>\n",
       "      <th></th>\n",
       "      <th></th>\n",
       "      <th></th>\n",
       "      <th></th>\n",
       "      <th></th>\n",
       "      <th></th>\n",
       "      <th></th>\n",
       "      <th></th>\n",
       "      <th></th>\n",
       "      <th></th>\n",
       "      <th></th>\n",
       "      <th></th>\n",
       "    </tr>\n",
       "  </thead>\n",
       "  <tbody>\n",
       "    <tr>\n",
       "      <th>14834.100328</th>\n",
       "      <td>0</td>\n",
       "      <td>2021</td>\n",
       "      <td>2021</td>\n",
       "      <td>Bangladesh</td>\n",
       "      <td>infant stool</td>\n",
       "      <td>True</td>\n",
       "      <td>32</td>\n",
       "      <td>Host-associated</td>\n",
       "      <td>Host-associated (non-saline)</td>\n",
       "      <td>Animal (non-saline)</td>\n",
       "      <td>...</td>\n",
       "      <td>100328</td>\n",
       "      <td>feces</td>\n",
       "      <td>human gut metagenome</td>\n",
       "      <td>infantstool.193days.100328</td>\n",
       "      <td>408170</td>\n",
       "      <td>sepsis observational cohort schedule a</td>\n",
       "      <td>100328</td>\n",
       "      <td>1</td>\n",
       "      <td>nothing</td>\n",
       "      <td>Untreated</td>\n",
       "    </tr>\n",
       "    <tr>\n",
       "      <th>14834.100334</th>\n",
       "      <td>0</td>\n",
       "      <td>2021</td>\n",
       "      <td>2021</td>\n",
       "      <td>Bangladesh</td>\n",
       "      <td>infant stool</td>\n",
       "      <td>True</td>\n",
       "      <td>32</td>\n",
       "      <td>Host-associated</td>\n",
       "      <td>Host-associated (non-saline)</td>\n",
       "      <td>Animal (non-saline)</td>\n",
       "      <td>...</td>\n",
       "      <td>100334</td>\n",
       "      <td>feces</td>\n",
       "      <td>human gut metagenome</td>\n",
       "      <td>infantstool.180days.100334</td>\n",
       "      <td>408170</td>\n",
       "      <td>sepsis observational cohort schedule a</td>\n",
       "      <td>100334</td>\n",
       "      <td>0</td>\n",
       "      <td>filter</td>\n",
       "      <td>Treated</td>\n",
       "    </tr>\n",
       "    <tr>\n",
       "      <th>14834.100707</th>\n",
       "      <td>0</td>\n",
       "      <td>2021</td>\n",
       "      <td>2021</td>\n",
       "      <td>Bangladesh</td>\n",
       "      <td>maternal stool</td>\n",
       "      <td>True</td>\n",
       "      <td>32</td>\n",
       "      <td>Host-associated</td>\n",
       "      <td>Host-associated (non-saline)</td>\n",
       "      <td>Animal (non-saline)</td>\n",
       "      <td>...</td>\n",
       "      <td>100707</td>\n",
       "      <td>feces</td>\n",
       "      <td>human gut metagenome</td>\n",
       "      <td>maternalstool.180days.100707</td>\n",
       "      <td>408170</td>\n",
       "      <td>sepsis observational cohort schedule a</td>\n",
       "      <td>100707</td>\n",
       "      <td>1</td>\n",
       "      <td>nothing</td>\n",
       "      <td>Untreated</td>\n",
       "    </tr>\n",
       "    <tr>\n",
       "      <th>14834.100787</th>\n",
       "      <td>1</td>\n",
       "      <td>2021</td>\n",
       "      <td>2021</td>\n",
       "      <td>Bangladesh</td>\n",
       "      <td>maternal stool</td>\n",
       "      <td>True</td>\n",
       "      <td>32</td>\n",
       "      <td>Host-associated</td>\n",
       "      <td>Host-associated (non-saline)</td>\n",
       "      <td>Animal (non-saline)</td>\n",
       "      <td>...</td>\n",
       "      <td>100787</td>\n",
       "      <td>feces</td>\n",
       "      <td>human gut metagenome</td>\n",
       "      <td>maternalstool.194days.100787</td>\n",
       "      <td>408170</td>\n",
       "      <td>sepsis observational cohort schedule a</td>\n",
       "      <td>100787</td>\n",
       "      <td>1</td>\n",
       "      <td>nothing</td>\n",
       "      <td>Untreated</td>\n",
       "    </tr>\n",
       "    <tr>\n",
       "      <th>14834.100797</th>\n",
       "      <td>1</td>\n",
       "      <td>2021</td>\n",
       "      <td>2021</td>\n",
       "      <td>Bangladesh</td>\n",
       "      <td>maternal stool</td>\n",
       "      <td>True</td>\n",
       "      <td>32</td>\n",
       "      <td>Host-associated</td>\n",
       "      <td>Host-associated (non-saline)</td>\n",
       "      <td>Animal (non-saline)</td>\n",
       "      <td>...</td>\n",
       "      <td>100797</td>\n",
       "      <td>feces</td>\n",
       "      <td>human gut metagenome</td>\n",
       "      <td>maternalstool.180days.100797</td>\n",
       "      <td>408170</td>\n",
       "      <td>sepsis observational cohort schedule a</td>\n",
       "      <td>100797</td>\n",
       "      <td>1</td>\n",
       "      <td>nothing</td>\n",
       "      <td>Untreated</td>\n",
       "    </tr>\n",
       "  </tbody>\n",
       "</table>\n",
       "<p>5 rows × 69 columns</p>\n",
       "</div>"
      ],
      "text/plain": [
       "             age_enrollment_study  collection_date  collection_timestamp  \\\n",
       "sample_name                                                                \n",
       "14834.100328                    0             2021                  2021   \n",
       "14834.100334                    0             2021                  2021   \n",
       "14834.100707                    0             2021                  2021   \n",
       "14834.100787                    1             2021                  2021   \n",
       "14834.100797                    1             2021                  2021   \n",
       "\n",
       "                 country     description  dna_extracted  elevation  \\\n",
       "sample_name                                                          \n",
       "14834.100328  Bangladesh    infant stool           True         32   \n",
       "14834.100334  Bangladesh    infant stool           True         32   \n",
       "14834.100707  Bangladesh  maternal stool           True         32   \n",
       "14834.100787  Bangladesh  maternal stool           True         32   \n",
       "14834.100797  Bangladesh  maternal stool           True         32   \n",
       "\n",
       "                       empo_1                        empo_2  \\\n",
       "sample_name                                                   \n",
       "14834.100328  Host-associated  Host-associated (non-saline)   \n",
       "14834.100334  Host-associated  Host-associated (non-saline)   \n",
       "14834.100707  Host-associated  Host-associated (non-saline)   \n",
       "14834.100787  Host-associated  Host-associated (non-saline)   \n",
       "14834.100797  Host-associated  Host-associated (non-saline)   \n",
       "\n",
       "                           empo_3  ... sample_barcode sample_type  \\\n",
       "sample_name                        ...                              \n",
       "14834.100328  Animal (non-saline)  ...         100328       feces   \n",
       "14834.100334  Animal (non-saline)  ...         100334       feces   \n",
       "14834.100707  Animal (non-saline)  ...         100707       feces   \n",
       "14834.100787  Animal (non-saline)  ...         100787       feces   \n",
       "14834.100797  Animal (non-saline)  ...         100797       feces   \n",
       "\n",
       "                   scientific_name                 specimen_name taxon_id  \\\n",
       "sample_name                                                                 \n",
       "14834.100328  human gut metagenome    infantstool.193days.100328   408170   \n",
       "14834.100334  human gut metagenome    infantstool.180days.100334   408170   \n",
       "14834.100707  human gut metagenome  maternalstool.180days.100707   408170   \n",
       "14834.100787  human gut metagenome  maternalstool.194days.100787   408170   \n",
       "14834.100797  human gut metagenome  maternalstool.180days.100797   408170   \n",
       "\n",
       "                                               title tube_id hmo_Secretor  \\\n",
       "sample_name                                                                 \n",
       "14834.100328  sepsis observational cohort schedule a  100328            1   \n",
       "14834.100334  sepsis observational cohort schedule a  100334            0   \n",
       "14834.100707  sepsis observational cohort schedule a  100707            1   \n",
       "14834.100787  sepsis observational cohort schedule a  100787            1   \n",
       "14834.100797  sepsis observational cohort schedule a  100797            1   \n",
       "\n",
       "             drink_water_safe drink_water_safe_simplified  \n",
       "sample_name                                                \n",
       "14834.100328          nothing                   Untreated  \n",
       "14834.100334           filter                     Treated  \n",
       "14834.100707          nothing                   Untreated  \n",
       "14834.100787          nothing                   Untreated  \n",
       "14834.100797          nothing                   Untreated  \n",
       "\n",
       "[5 rows x 69 columns]"
      ]
     },
     "execution_count": 21,
     "metadata": {},
     "output_type": "execute_result"
    }
   ],
   "source": [
    "md2['drink_water_safe_simplified'] = md2['drink_water_safe'].astype(str).apply(categorize)\n",
    "md2.head()"
   ]
  },
  {
   "cell_type": "code",
   "execution_count": 22,
   "id": "c50c39bd",
   "metadata": {},
   "outputs": [],
   "source": [
    "md2['sample_type_binary'] = md2['sample_type'].apply(lambda x: x if x in ['control blank', 'control positive'] else 'sample')"
   ]
  },
  {
   "cell_type": "code",
   "execution_count": 23,
   "id": "833d963b",
   "metadata": {},
   "outputs": [],
   "source": [
    "md2['host_age_infant'] = md2['host_age_infant'].astype(float)"
   ]
  },
  {
   "cell_type": "code",
   "execution_count": 24,
   "id": "f4fc6f32",
   "metadata": {},
   "outputs": [],
   "source": [
    "def find_nearest_age(age):\n",
    "    age_categories = [0, 7, 14, 30, 60, 90, 180]\n",
    "    nearest_age = min(age_categories, key=lambda x: abs(x - age))\n",
    "    return nearest_age"
   ]
  },
  {
   "cell_type": "code",
   "execution_count": 25,
   "id": "ea0c609c",
   "metadata": {},
   "outputs": [],
   "source": [
    "md2['host_age_infant_cat'] = md2['host_age_infant'].apply(find_nearest_age).astype(str) # Ensure it is a string"
   ]
  },
  {
   "cell_type": "code",
   "execution_count": 26,
   "id": "b772c5fb",
   "metadata": {},
   "outputs": [
    {
     "data": {
      "text/plain": [
       "host_age_infant_cat\n",
       "0      638\n",
       "14     342\n",
       "7      315\n",
       "60     249\n",
       "30     233\n",
       "90     188\n",
       "180    159\n",
       "Name: count, dtype: int64"
      ]
     },
     "execution_count": 26,
     "metadata": {},
     "output_type": "execute_result"
    }
   ],
   "source": [
    "md2.host_age_infant_cat.value_counts()"
   ]
  },
  {
   "cell_type": "code",
   "execution_count": 27,
   "id": "7e025382",
   "metadata": {},
   "outputs": [
    {
     "data": {
      "text/plain": [
       "hmo_Secretor_str\n",
       "secretor          1204\n",
       "not a secretor     536\n",
       "unknown            381\n",
       "Name: count, dtype: int64"
      ]
     },
     "execution_count": 27,
     "metadata": {},
     "output_type": "execute_result"
    }
   ],
   "source": [
    "md2['hmo_Secretor_str'] = md2['hmo_Secretor'].map({'0': 'not a secretor', \n",
    "                                                    '1': 'secretor', \n",
    "                                                    np.nan: 'unknown'})\n",
    "md2['hmo_Secretor_str'].value_counts()"
   ]
  },
  {
   "cell_type": "code",
   "execution_count": 28,
   "id": "3a5990e9",
   "metadata": {},
   "outputs": [
    {
     "data": {
      "text/plain": [
       "sample_type2\n",
       "infant_feces                       385\n",
       "adult_feces                        385\n",
       "infant_skin of arm                 350\n",
       "infant_tongue                      350\n",
       "not applicable_control blank       261\n",
       "adult_breast milk                  219\n",
       "not applicable_control positive     88\n",
       "adult_vaginal mucus                 50\n",
       "infant_plasma                       34\n",
       "not applicable_not a specimen        2\n",
       "Name: count, dtype: int64"
      ]
     },
     "execution_count": 28,
     "metadata": {},
     "output_type": "execute_result"
    }
   ],
   "source": [
    "md2['sample_type2'] = md2['host_life_stage'].astype(str)+\"_\"+md2['sample_type'].astype(str)\n",
    "md2['sample_type2'].value_counts()"
   ]
  },
  {
   "cell_type": "code",
   "execution_count": 29,
   "id": "c7d61893",
   "metadata": {},
   "outputs": [
    {
     "data": {
      "text/plain": [
       "delivery_bf-cat\n",
       "Vaginal_nan                      699\n",
       "C-section_nan                    688\n",
       "not applicable_not applicable    351\n",
       "C-section_EBF                    131\n",
       "Vaginal_EBF                      115\n",
       "Vaginal_Partial BF                47\n",
       "C-section_Predominant BF          37\n",
       "Vaginal_Predominant BF            34\n",
       "C-section_Partial BF              21\n",
       "C-section_not applicable           1\n",
       "Name: count, dtype: int64"
      ]
     },
     "execution_count": 29,
     "metadata": {},
     "output_type": "execute_result"
    }
   ],
   "source": [
    "md2['delivery_bf-cat'] = md2['mode_delivery'].astype(str)+\"_\"+md2['fp_long_cat'].astype(str)\n",
    "md2['delivery_bf-cat'].value_counts()"
   ]
  },
  {
   "cell_type": "code",
   "execution_count": 30,
   "id": "45829eb0",
   "metadata": {},
   "outputs": [],
   "source": [
    "ss = {'adult':'Source', 'infant':'Sink', 'not applicable':'not applicable'}\n",
    "md2['SourceSink'] = md2['host_life_stage'].map(ss)"
   ]
  },
  {
   "cell_type": "code",
   "execution_count": 31,
   "id": "76b807c6",
   "metadata": {},
   "outputs": [],
   "source": [
    "md2['30d_cat'] = md2['host_age_infant'].apply(lambda x: '30 days of age or less' if x <= 30 else 'older than 30 days')"
   ]
  },
  {
   "cell_type": "code",
   "execution_count": 32,
   "id": "5ae456be",
   "metadata": {},
   "outputs": [
    {
     "data": {
      "text/plain": [
       "sample_name\n",
       "14834.100328                         True\n",
       "14834.100334                         True\n",
       "14834.100707                         True\n",
       "14834.100787                         True\n",
       "14834.100797                         True\n",
       "                                    ...  \n",
       "14834.KATHARO.SEP.21.11H            False\n",
       "14834.donotuse.SEP.15.12E           False\n",
       "14834.donotuse.SEP.7.8E             False\n",
       "14834.infantstool.21days.41875       True\n",
       "14834.maternalstool.21days.41875     True\n",
       "Name: sample_type, Length: 2124, dtype: bool"
      ]
     },
     "execution_count": 32,
     "metadata": {},
     "output_type": "execute_result"
    }
   ],
   "source": [
    "md2['sample_type']=='feces'"
   ]
  },
  {
   "cell_type": "code",
   "execution_count": 33,
   "id": "ab19ba9e",
   "metadata": {},
   "outputs": [
    {
     "data": {
      "text/html": [
       "<div>\n",
       "<style scoped>\n",
       "    .dataframe tbody tr th:only-of-type {\n",
       "        vertical-align: middle;\n",
       "    }\n",
       "\n",
       "    .dataframe tbody tr th {\n",
       "        vertical-align: top;\n",
       "    }\n",
       "\n",
       "    .dataframe thead th {\n",
       "        text-align: right;\n",
       "    }\n",
       "</style>\n",
       "<table border=\"1\" class=\"dataframe\">\n",
       "  <thead>\n",
       "    <tr style=\"text-align: right;\">\n",
       "      <th></th>\n",
       "      <th>age_enrollment_study</th>\n",
       "      <th>collection_date</th>\n",
       "      <th>collection_timestamp</th>\n",
       "      <th>country</th>\n",
       "      <th>description</th>\n",
       "      <th>dna_extracted</th>\n",
       "      <th>elevation</th>\n",
       "      <th>empo_1</th>\n",
       "      <th>empo_2</th>\n",
       "      <th>empo_3</th>\n",
       "      <th>...</th>\n",
       "      <th>drink_water_safe</th>\n",
       "      <th>drink_water_safe_simplified</th>\n",
       "      <th>sample_type_binary</th>\n",
       "      <th>host_age_infant_cat</th>\n",
       "      <th>hmo_Secretor_str</th>\n",
       "      <th>sample_type2</th>\n",
       "      <th>delivery_bf-cat</th>\n",
       "      <th>SourceSink</th>\n",
       "      <th>30d_cat</th>\n",
       "      <th>variability</th>\n",
       "    </tr>\n",
       "    <tr>\n",
       "      <th>sample_name</th>\n",
       "      <th></th>\n",
       "      <th></th>\n",
       "      <th></th>\n",
       "      <th></th>\n",
       "      <th></th>\n",
       "      <th></th>\n",
       "      <th></th>\n",
       "      <th></th>\n",
       "      <th></th>\n",
       "      <th></th>\n",
       "      <th></th>\n",
       "      <th></th>\n",
       "      <th></th>\n",
       "      <th></th>\n",
       "      <th></th>\n",
       "      <th></th>\n",
       "      <th></th>\n",
       "      <th></th>\n",
       "      <th></th>\n",
       "      <th></th>\n",
       "      <th></th>\n",
       "    </tr>\n",
       "  </thead>\n",
       "  <tbody>\n",
       "    <tr>\n",
       "      <th>14834.100328</th>\n",
       "      <td>0</td>\n",
       "      <td>2021</td>\n",
       "      <td>2021</td>\n",
       "      <td>Bangladesh</td>\n",
       "      <td>infant stool</td>\n",
       "      <td>True</td>\n",
       "      <td>32</td>\n",
       "      <td>Host-associated</td>\n",
       "      <td>Host-associated (non-saline)</td>\n",
       "      <td>Animal (non-saline)</td>\n",
       "      <td>...</td>\n",
       "      <td>nothing</td>\n",
       "      <td>Untreated</td>\n",
       "      <td>sample</td>\n",
       "      <td>180</td>\n",
       "      <td>secretor</td>\n",
       "      <td>infant_feces</td>\n",
       "      <td>Vaginal_Partial BF</td>\n",
       "      <td>Sink</td>\n",
       "      <td>older than 30 days</td>\n",
       "      <td>infant more variable than adult</td>\n",
       "    </tr>\n",
       "    <tr>\n",
       "      <th>14834.100334</th>\n",
       "      <td>0</td>\n",
       "      <td>2021</td>\n",
       "      <td>2021</td>\n",
       "      <td>Bangladesh</td>\n",
       "      <td>infant stool</td>\n",
       "      <td>True</td>\n",
       "      <td>32</td>\n",
       "      <td>Host-associated</td>\n",
       "      <td>Host-associated (non-saline)</td>\n",
       "      <td>Animal (non-saline)</td>\n",
       "      <td>...</td>\n",
       "      <td>filter</td>\n",
       "      <td>Treated</td>\n",
       "      <td>sample</td>\n",
       "      <td>180</td>\n",
       "      <td>not a secretor</td>\n",
       "      <td>infant_feces</td>\n",
       "      <td>Vaginal_Partial BF</td>\n",
       "      <td>Sink</td>\n",
       "      <td>older than 30 days</td>\n",
       "      <td>infant more variable than adult</td>\n",
       "    </tr>\n",
       "    <tr>\n",
       "      <th>14834.100707</th>\n",
       "      <td>0</td>\n",
       "      <td>2021</td>\n",
       "      <td>2021</td>\n",
       "      <td>Bangladesh</td>\n",
       "      <td>maternal stool</td>\n",
       "      <td>True</td>\n",
       "      <td>32</td>\n",
       "      <td>Host-associated</td>\n",
       "      <td>Host-associated (non-saline)</td>\n",
       "      <td>Animal (non-saline)</td>\n",
       "      <td>...</td>\n",
       "      <td>nothing</td>\n",
       "      <td>Untreated</td>\n",
       "      <td>sample</td>\n",
       "      <td>180</td>\n",
       "      <td>secretor</td>\n",
       "      <td>adult_feces</td>\n",
       "      <td>Vaginal_nan</td>\n",
       "      <td>Source</td>\n",
       "      <td>older than 30 days</td>\n",
       "      <td>infant more variable than adult</td>\n",
       "    </tr>\n",
       "    <tr>\n",
       "      <th>14834.100787</th>\n",
       "      <td>1</td>\n",
       "      <td>2021</td>\n",
       "      <td>2021</td>\n",
       "      <td>Bangladesh</td>\n",
       "      <td>maternal stool</td>\n",
       "      <td>True</td>\n",
       "      <td>32</td>\n",
       "      <td>Host-associated</td>\n",
       "      <td>Host-associated (non-saline)</td>\n",
       "      <td>Animal (non-saline)</td>\n",
       "      <td>...</td>\n",
       "      <td>nothing</td>\n",
       "      <td>Untreated</td>\n",
       "      <td>sample</td>\n",
       "      <td>180</td>\n",
       "      <td>secretor</td>\n",
       "      <td>adult_feces</td>\n",
       "      <td>Vaginal_nan</td>\n",
       "      <td>Source</td>\n",
       "      <td>older than 30 days</td>\n",
       "      <td>infant more variable than adult</td>\n",
       "    </tr>\n",
       "    <tr>\n",
       "      <th>14834.100797</th>\n",
       "      <td>1</td>\n",
       "      <td>2021</td>\n",
       "      <td>2021</td>\n",
       "      <td>Bangladesh</td>\n",
       "      <td>maternal stool</td>\n",
       "      <td>True</td>\n",
       "      <td>32</td>\n",
       "      <td>Host-associated</td>\n",
       "      <td>Host-associated (non-saline)</td>\n",
       "      <td>Animal (non-saline)</td>\n",
       "      <td>...</td>\n",
       "      <td>nothing</td>\n",
       "      <td>Untreated</td>\n",
       "      <td>sample</td>\n",
       "      <td>180</td>\n",
       "      <td>secretor</td>\n",
       "      <td>adult_feces</td>\n",
       "      <td>Vaginal_nan</td>\n",
       "      <td>Source</td>\n",
       "      <td>older than 30 days</td>\n",
       "      <td>infant more variable than adult</td>\n",
       "    </tr>\n",
       "  </tbody>\n",
       "</table>\n",
       "<p>5 rows × 77 columns</p>\n",
       "</div>"
      ],
      "text/plain": [
       "             age_enrollment_study  collection_date  collection_timestamp  \\\n",
       "sample_name                                                                \n",
       "14834.100328                    0             2021                  2021   \n",
       "14834.100334                    0             2021                  2021   \n",
       "14834.100707                    0             2021                  2021   \n",
       "14834.100787                    1             2021                  2021   \n",
       "14834.100797                    1             2021                  2021   \n",
       "\n",
       "                 country     description  dna_extracted  elevation  \\\n",
       "sample_name                                                          \n",
       "14834.100328  Bangladesh    infant stool           True         32   \n",
       "14834.100334  Bangladesh    infant stool           True         32   \n",
       "14834.100707  Bangladesh  maternal stool           True         32   \n",
       "14834.100787  Bangladesh  maternal stool           True         32   \n",
       "14834.100797  Bangladesh  maternal stool           True         32   \n",
       "\n",
       "                       empo_1                        empo_2  \\\n",
       "sample_name                                                   \n",
       "14834.100328  Host-associated  Host-associated (non-saline)   \n",
       "14834.100334  Host-associated  Host-associated (non-saline)   \n",
       "14834.100707  Host-associated  Host-associated (non-saline)   \n",
       "14834.100787  Host-associated  Host-associated (non-saline)   \n",
       "14834.100797  Host-associated  Host-associated (non-saline)   \n",
       "\n",
       "                           empo_3  ... drink_water_safe  \\\n",
       "sample_name                        ...                    \n",
       "14834.100328  Animal (non-saline)  ...          nothing   \n",
       "14834.100334  Animal (non-saline)  ...           filter   \n",
       "14834.100707  Animal (non-saline)  ...          nothing   \n",
       "14834.100787  Animal (non-saline)  ...          nothing   \n",
       "14834.100797  Animal (non-saline)  ...          nothing   \n",
       "\n",
       "             drink_water_safe_simplified sample_type_binary  \\\n",
       "sample_name                                                   \n",
       "14834.100328                   Untreated             sample   \n",
       "14834.100334                     Treated             sample   \n",
       "14834.100707                   Untreated             sample   \n",
       "14834.100787                   Untreated             sample   \n",
       "14834.100797                   Untreated             sample   \n",
       "\n",
       "             host_age_infant_cat hmo_Secretor_str  sample_type2  \\\n",
       "sample_name                                                       \n",
       "14834.100328                 180         secretor  infant_feces   \n",
       "14834.100334                 180   not a secretor  infant_feces   \n",
       "14834.100707                 180         secretor   adult_feces   \n",
       "14834.100787                 180         secretor   adult_feces   \n",
       "14834.100797                 180         secretor   adult_feces   \n",
       "\n",
       "                 delivery_bf-cat SourceSink             30d_cat  \\\n",
       "sample_name                                                       \n",
       "14834.100328  Vaginal_Partial BF       Sink  older than 30 days   \n",
       "14834.100334  Vaginal_Partial BF       Sink  older than 30 days   \n",
       "14834.100707         Vaginal_nan     Source  older than 30 days   \n",
       "14834.100787         Vaginal_nan     Source  older than 30 days   \n",
       "14834.100797         Vaginal_nan     Source  older than 30 days   \n",
       "\n",
       "                                  variability  \n",
       "sample_name                                    \n",
       "14834.100328  infant more variable than adult  \n",
       "14834.100334  infant more variable than adult  \n",
       "14834.100707  infant more variable than adult  \n",
       "14834.100787  infant more variable than adult  \n",
       "14834.100797  infant more variable than adult  \n",
       "\n",
       "[5 rows x 77 columns]"
      ]
     },
     "execution_count": 33,
     "metadata": {},
     "output_type": "execute_result"
    }
   ],
   "source": [
    "family_identifiers = ['10058', '10374', '10571', '10684', '11339', '11494', '12258', '12281']\n",
    "md2['variability'] = None\n",
    "\n",
    "# Apply the condition ONLY to rows where 'sample_type' is 'feces'\n",
    "feces_rows_mask = md2['sample_type']=='feces'\n",
    "\n",
    "md2.loc[feces_rows_mask, 'variability'] = np.where(\n",
    "    md2.loc[feces_rows_mask, 'family_id'].isin(family_identifiers),\n",
    "    'adult more variable than infant',\n",
    "    'infant more variable than adult'\n",
    ")\n",
    "\n",
    "md2.head()"
   ]
  },
  {
   "cell_type": "code",
   "execution_count": 30,
   "id": "bc18d707",
   "metadata": {},
   "outputs": [],
   "source": [
    "md2.to_csv('../data/metadata_combined.txt', sep='\\t')"
   ]
  },
  {
   "cell_type": "code",
   "execution_count": 34,
   "id": "e5c3ba51",
   "metadata": {},
   "outputs": [
    {
     "data": {
      "text/plain": [
       "sample_type\n",
       "feces               770\n",
       "skin of arm         350\n",
       "tongue              350\n",
       "control blank       261\n",
       "breast milk         219\n",
       "control positive     88\n",
       "vaginal mucus        50\n",
       "plasma               34\n",
       "not a specimen        2\n",
       "Name: count, dtype: int64"
      ]
     },
     "execution_count": 34,
     "metadata": {},
     "output_type": "execute_result"
    }
   ],
   "source": [
    "md2.sample_type.value_counts()"
   ]
  },
  {
   "cell_type": "code",
   "execution_count": 35,
   "id": "acef39be",
   "metadata": {},
   "outputs": [
    {
     "name": "stdout",
     "output_type": "stream",
     "text": [
      "float64\n"
     ]
    }
   ],
   "source": [
    "print(md2.host_age_infant.dtype)"
   ]
  },
  {
   "cell_type": "markdown",
   "id": "2fb17866",
   "metadata": {},
   "source": [
    "#### For SCRuB"
   ]
  },
  {
   "cell_type": "code",
   "execution_count": 38,
   "id": "372bb141",
   "metadata": {},
   "outputs": [
    {
     "data": {
      "text/html": [
       "<div>\n",
       "<style scoped>\n",
       "    .dataframe tbody tr th:only-of-type {\n",
       "        vertical-align: middle;\n",
       "    }\n",
       "\n",
       "    .dataframe tbody tr th {\n",
       "        vertical-align: top;\n",
       "    }\n",
       "\n",
       "    .dataframe thead th {\n",
       "        text-align: right;\n",
       "    }\n",
       "</style>\n",
       "<table border=\"1\" class=\"dataframe\">\n",
       "  <thead>\n",
       "    <tr style=\"text-align: right;\">\n",
       "      <th></th>\n",
       "      <th>center_name</th>\n",
       "      <th>center_project_name</th>\n",
       "      <th>experiment_design_description</th>\n",
       "      <th>fraction_non_human</th>\n",
       "      <th>fraction_passing_quality_filter</th>\n",
       "      <th>i5_index_id</th>\n",
       "      <th>i7_index_id</th>\n",
       "      <th>index</th>\n",
       "      <th>index2</th>\n",
       "      <th>instrument_model</th>\n",
       "      <th>...</th>\n",
       "      <th>run_center</th>\n",
       "      <th>run_date</th>\n",
       "      <th>run_prefix</th>\n",
       "      <th>runid</th>\n",
       "      <th>sample_plate</th>\n",
       "      <th>sample_project</th>\n",
       "      <th>sample_well</th>\n",
       "      <th>sequencing_meth</th>\n",
       "      <th>total_biological_reads_r1r2</th>\n",
       "      <th>well_description</th>\n",
       "    </tr>\n",
       "    <tr>\n",
       "      <th>sample_name</th>\n",
       "      <th></th>\n",
       "      <th></th>\n",
       "      <th></th>\n",
       "      <th></th>\n",
       "      <th></th>\n",
       "      <th></th>\n",
       "      <th></th>\n",
       "      <th></th>\n",
       "      <th></th>\n",
       "      <th></th>\n",
       "      <th></th>\n",
       "      <th></th>\n",
       "      <th></th>\n",
       "      <th></th>\n",
       "      <th></th>\n",
       "      <th></th>\n",
       "      <th></th>\n",
       "      <th></th>\n",
       "      <th></th>\n",
       "      <th></th>\n",
       "      <th></th>\n",
       "    </tr>\n",
       "  </thead>\n",
       "  <tbody>\n",
       "    <tr>\n",
       "      <th>14834.23409</th>\n",
       "      <td>UCSD</td>\n",
       "      <td>SickKids_SEPSiS</td>\n",
       "      <td>NovaSeq WGS</td>\n",
       "      <td>NaN</td>\n",
       "      <td>0.031077</td>\n",
       "      <td>iTru5_112_H</td>\n",
       "      <td>iTru7_109_10</td>\n",
       "      <td>TGGCACTA</td>\n",
       "      <td>CCGATGTA</td>\n",
       "      <td>Illumina NovaSeq 6000</td>\n",
       "      <td>...</td>\n",
       "      <td>IGM</td>\n",
       "      <td>2023-02-08</td>\n",
       "      <td>23409_S1055_L003</td>\n",
       "      <td>230208_A00953_0688_AHVGW2DSX5</td>\n",
       "      <td>SEPSIS_Infant_Skin_Oral_Vaginal_Human_Milk_P21</td>\n",
       "      <td>SickKids_SEPSiS</td>\n",
       "      <td>P23</td>\n",
       "      <td>sequencing by synthesis</td>\n",
       "      <td>9174092.0</td>\n",
       "      <td>SEPSIS_Infant_Skin_Oral_Vaginal_Human_Milk_P21...</td>\n",
       "    </tr>\n",
       "    <tr>\n",
       "      <th>14834.23425</th>\n",
       "      <td>UCSD</td>\n",
       "      <td>SickKids_SEPSiS</td>\n",
       "      <td>NovaSeq WGS</td>\n",
       "      <td>NaN</td>\n",
       "      <td>0.127588</td>\n",
       "      <td>iTru5_108_A</td>\n",
       "      <td>iTru7_102_06</td>\n",
       "      <td>TGTGCGTT</td>\n",
       "      <td>GACGATCT</td>\n",
       "      <td>Illumina NovaSeq 6000</td>\n",
       "      <td>...</td>\n",
       "      <td>IGM</td>\n",
       "      <td>2023-02-08</td>\n",
       "      <td>23425_S967_L003</td>\n",
       "      <td>230208_A00953_0688_AHVGW2DSX5</td>\n",
       "      <td>SEPSIS_Infant_Skin_Oral_Vaginal_Human_Milk_P21</td>\n",
       "      <td>SickKids_SEPSiS</td>\n",
       "      <td>P1</td>\n",
       "      <td>sequencing by synthesis</td>\n",
       "      <td>6152340.0</td>\n",
       "      <td>SEPSIS_Infant_Skin_Oral_Vaginal_Human_Milk_P21...</td>\n",
       "    </tr>\n",
       "    <tr>\n",
       "      <th>14834.23946</th>\n",
       "      <td>UCSD</td>\n",
       "      <td>SickKids_SEPSiS</td>\n",
       "      <td>NovaSeq WGS</td>\n",
       "      <td>NaN</td>\n",
       "      <td>0.025014</td>\n",
       "      <td>iTru5_108_G</td>\n",
       "      <td>iTru7_108_06</td>\n",
       "      <td>ACCGCATA</td>\n",
       "      <td>GATAGGCT</td>\n",
       "      <td>Illumina NovaSeq 6000</td>\n",
       "      <td>...</td>\n",
       "      <td>IGM</td>\n",
       "      <td>2023-02-08</td>\n",
       "      <td>23946_S1039_L003</td>\n",
       "      <td>230208_A00953_0688_AHVGW2DSX5</td>\n",
       "      <td>SEPSIS_Infant_Skin_Oral_Vaginal_Human_Milk_P21</td>\n",
       "      <td>SickKids_SEPSiS</td>\n",
       "      <td>P19</td>\n",
       "      <td>sequencing by synthesis</td>\n",
       "      <td>3725584.0</td>\n",
       "      <td>SEPSIS_Infant_Skin_Oral_Vaginal_Human_Milk_P21...</td>\n",
       "    </tr>\n",
       "    <tr>\n",
       "      <th>14834.24316</th>\n",
       "      <td>UCSD</td>\n",
       "      <td>SickKids_SEPSiS</td>\n",
       "      <td>NovaSeq WGS</td>\n",
       "      <td>NaN</td>\n",
       "      <td>0.000585</td>\n",
       "      <td>iTru5_12_E</td>\n",
       "      <td>iTru7_208_10</td>\n",
       "      <td>AACTGGTG</td>\n",
       "      <td>AGAACGAG</td>\n",
       "      <td>Illumina NovaSeq 6000</td>\n",
       "      <td>...</td>\n",
       "      <td>IGM</td>\n",
       "      <td>2023-02-08</td>\n",
       "      <td>24316_S828_L003</td>\n",
       "      <td>230208_A00953_0688_AHVGW2DSX5</td>\n",
       "      <td>SEPSIS_Infant_Skin_Oral_Vaginal_Human_Milk_P15...</td>\n",
       "      <td>SickKids_SEPSiS</td>\n",
       "      <td>G15</td>\n",
       "      <td>sequencing by synthesis</td>\n",
       "      <td>4693448.0</td>\n",
       "      <td>SEPSIS_Infant_Skin_Oral_Vaginal_Human_Milk_P15...</td>\n",
       "    </tr>\n",
       "    <tr>\n",
       "      <th>14834.24317</th>\n",
       "      <td>UCSD</td>\n",
       "      <td>SickKids_SEPSiS</td>\n",
       "      <td>NovaSeq WGS</td>\n",
       "      <td>NaN</td>\n",
       "      <td>0.713680</td>\n",
       "      <td>iTru5_09_C</td>\n",
       "      <td>iTru7_206_06</td>\n",
       "      <td>AACGACGT</td>\n",
       "      <td>ACAGCAAC</td>\n",
       "      <td>Illumina NovaSeq 6000</td>\n",
       "      <td>...</td>\n",
       "      <td>IGM</td>\n",
       "      <td>2023-02-08</td>\n",
       "      <td>24317_S417_L003</td>\n",
       "      <td>230208_A00953_0688_AHVGW2DSX5</td>\n",
       "      <td>SEPSiS_SickKids_infant_skin_16-19</td>\n",
       "      <td>SickKids_SEPSiS</td>\n",
       "      <td>A9</td>\n",
       "      <td>sequencing by synthesis</td>\n",
       "      <td>3129624.0</td>\n",
       "      <td>SEPSiS_SickKids_infant_skin_16-19.24317.A9</td>\n",
       "    </tr>\n",
       "  </tbody>\n",
       "</table>\n",
       "<p>5 rows × 28 columns</p>\n",
       "</div>"
      ],
      "text/plain": [
       "            center_name center_project_name experiment_design_description  \\\n",
       "sample_name                                                                 \n",
       "14834.23409        UCSD     SickKids_SEPSiS                   NovaSeq WGS   \n",
       "14834.23425        UCSD     SickKids_SEPSiS                   NovaSeq WGS   \n",
       "14834.23946        UCSD     SickKids_SEPSiS                   NovaSeq WGS   \n",
       "14834.24316        UCSD     SickKids_SEPSiS                   NovaSeq WGS   \n",
       "14834.24317        UCSD     SickKids_SEPSiS                   NovaSeq WGS   \n",
       "\n",
       "             fraction_non_human  fraction_passing_quality_filter  i5_index_id  \\\n",
       "sample_name                                                                     \n",
       "14834.23409                 NaN                         0.031077  iTru5_112_H   \n",
       "14834.23425                 NaN                         0.127588  iTru5_108_A   \n",
       "14834.23946                 NaN                         0.025014  iTru5_108_G   \n",
       "14834.24316                 NaN                         0.000585   iTru5_12_E   \n",
       "14834.24317                 NaN                         0.713680   iTru5_09_C   \n",
       "\n",
       "              i7_index_id     index    index2       instrument_model  ...  \\\n",
       "sample_name                                                           ...   \n",
       "14834.23409  iTru7_109_10  TGGCACTA  CCGATGTA  Illumina NovaSeq 6000  ...   \n",
       "14834.23425  iTru7_102_06  TGTGCGTT  GACGATCT  Illumina NovaSeq 6000  ...   \n",
       "14834.23946  iTru7_108_06  ACCGCATA  GATAGGCT  Illumina NovaSeq 6000  ...   \n",
       "14834.24316  iTru7_208_10  AACTGGTG  AGAACGAG  Illumina NovaSeq 6000  ...   \n",
       "14834.24317  iTru7_206_06  AACGACGT  ACAGCAAC  Illumina NovaSeq 6000  ...   \n",
       "\n",
       "             run_center    run_date        run_prefix  \\\n",
       "sample_name                                             \n",
       "14834.23409         IGM  2023-02-08  23409_S1055_L003   \n",
       "14834.23425         IGM  2023-02-08   23425_S967_L003   \n",
       "14834.23946         IGM  2023-02-08  23946_S1039_L003   \n",
       "14834.24316         IGM  2023-02-08   24316_S828_L003   \n",
       "14834.24317         IGM  2023-02-08   24317_S417_L003   \n",
       "\n",
       "                                     runid  \\\n",
       "sample_name                                  \n",
       "14834.23409  230208_A00953_0688_AHVGW2DSX5   \n",
       "14834.23425  230208_A00953_0688_AHVGW2DSX5   \n",
       "14834.23946  230208_A00953_0688_AHVGW2DSX5   \n",
       "14834.24316  230208_A00953_0688_AHVGW2DSX5   \n",
       "14834.24317  230208_A00953_0688_AHVGW2DSX5   \n",
       "\n",
       "                                                  sample_plate  \\\n",
       "sample_name                                                      \n",
       "14834.23409     SEPSIS_Infant_Skin_Oral_Vaginal_Human_Milk_P21   \n",
       "14834.23425     SEPSIS_Infant_Skin_Oral_Vaginal_Human_Milk_P21   \n",
       "14834.23946     SEPSIS_Infant_Skin_Oral_Vaginal_Human_Milk_P21   \n",
       "14834.24316  SEPSIS_Infant_Skin_Oral_Vaginal_Human_Milk_P15...   \n",
       "14834.24317                  SEPSiS_SickKids_infant_skin_16-19   \n",
       "\n",
       "              sample_project  sample_well          sequencing_meth  \\\n",
       "sample_name                                                          \n",
       "14834.23409  SickKids_SEPSiS          P23  sequencing by synthesis   \n",
       "14834.23425  SickKids_SEPSiS           P1  sequencing by synthesis   \n",
       "14834.23946  SickKids_SEPSiS          P19  sequencing by synthesis   \n",
       "14834.24316  SickKids_SEPSiS          G15  sequencing by synthesis   \n",
       "14834.24317  SickKids_SEPSiS           A9  sequencing by synthesis   \n",
       "\n",
       "            total_biological_reads_r1r2  \\\n",
       "sample_name                               \n",
       "14834.23409                   9174092.0   \n",
       "14834.23425                   6152340.0   \n",
       "14834.23946                   3725584.0   \n",
       "14834.24316                   4693448.0   \n",
       "14834.24317                   3129624.0   \n",
       "\n",
       "                                              well_description  \n",
       "sample_name                                                     \n",
       "14834.23409  SEPSIS_Infant_Skin_Oral_Vaginal_Human_Milk_P21...  \n",
       "14834.23425  SEPSIS_Infant_Skin_Oral_Vaginal_Human_Milk_P21...  \n",
       "14834.23946  SEPSIS_Infant_Skin_Oral_Vaginal_Human_Milk_P21...  \n",
       "14834.24316  SEPSIS_Infant_Skin_Oral_Vaginal_Human_Milk_P15...  \n",
       "14834.24317         SEPSiS_SickKids_infant_skin_16-19.24317.A9  \n",
       "\n",
       "[5 rows x 28 columns]"
      ]
     },
     "execution_count": 38,
     "metadata": {},
     "output_type": "execute_result"
    }
   ],
   "source": [
    "smp_prep_other = pd.read_csv('../../data/14834_prep_17069_20240711-165257.txt', sep = '\\t', index_col=0)\n",
    "smp_prep_other.head()"
   ]
  },
  {
   "cell_type": "code",
   "execution_count": 39,
   "id": "10c116cb",
   "metadata": {},
   "outputs": [
    {
     "data": {
      "text/plain": [
       "array(['SEPSIS_Infant_Skin_Oral_Vaginal_Human_Milk_P21',\n",
       "       'SEPSIS_Infant_Skin_Oral_Vaginal_Human_Milk_P15_diluted',\n",
       "       'SEPSiS_SickKids_infant_skin_16-19',\n",
       "       'SickKids_SEPSiS_Infant_Oral_14834_P14',\n",
       "       'SickKids_SEPSiS_Infant_Oral_14834_P11',\n",
       "       'SEPSIS_Infant_Skin_Oral_Vaginal_Human_Milk_P15',\n",
       "       'SickKids_SEPSiS_Infant_Oral_14834_P13',\n",
       "       'SickKids_SEPSiS_Infant_Oral_14834_P12',\n",
       "       'SEPSIS_Infant_Skin_Oral_Vaginal_Human_Milk_P20',\n",
       "       'SEPSIS_Infant_Skin_Oral_Vaginal_Human_Milk_P21_diluted'],\n",
       "      dtype=object)"
      ]
     },
     "execution_count": 39,
     "metadata": {},
     "output_type": "execute_result"
    }
   ],
   "source": [
    "smp_prep_other.sample_plate.unique()"
   ]
  },
  {
   "cell_type": "code",
   "execution_count": 40,
   "id": "0214109d",
   "metadata": {
    "scrolled": true
   },
   "outputs": [
    {
     "data": {
      "text/html": [
       "<div>\n",
       "<style scoped>\n",
       "    .dataframe tbody tr th:only-of-type {\n",
       "        vertical-align: middle;\n",
       "    }\n",
       "\n",
       "    .dataframe tbody tr th {\n",
       "        vertical-align: top;\n",
       "    }\n",
       "\n",
       "    .dataframe thead th {\n",
       "        text-align: right;\n",
       "    }\n",
       "</style>\n",
       "<table border=\"1\" class=\"dataframe\">\n",
       "  <thead>\n",
       "    <tr style=\"text-align: right;\">\n",
       "      <th></th>\n",
       "      <th>center_name</th>\n",
       "      <th>center_project_name</th>\n",
       "      <th>experiment_design_description</th>\n",
       "      <th>fraction_non_human</th>\n",
       "      <th>fraction_passing_quality_filter</th>\n",
       "      <th>i5_index_id</th>\n",
       "      <th>i7_index_id</th>\n",
       "      <th>index</th>\n",
       "      <th>index2</th>\n",
       "      <th>instrument_model</th>\n",
       "      <th>...</th>\n",
       "      <th>run_prefix</th>\n",
       "      <th>runid</th>\n",
       "      <th>sample_plate</th>\n",
       "      <th>sample_project</th>\n",
       "      <th>sample_well</th>\n",
       "      <th>sequencing_meth</th>\n",
       "      <th>total_biological_reads_r1r2</th>\n",
       "      <th>well_description</th>\n",
       "      <th>plate_short</th>\n",
       "      <th>plate_well</th>\n",
       "    </tr>\n",
       "    <tr>\n",
       "      <th>sample_name</th>\n",
       "      <th></th>\n",
       "      <th></th>\n",
       "      <th></th>\n",
       "      <th></th>\n",
       "      <th></th>\n",
       "      <th></th>\n",
       "      <th></th>\n",
       "      <th></th>\n",
       "      <th></th>\n",
       "      <th></th>\n",
       "      <th></th>\n",
       "      <th></th>\n",
       "      <th></th>\n",
       "      <th></th>\n",
       "      <th></th>\n",
       "      <th></th>\n",
       "      <th></th>\n",
       "      <th></th>\n",
       "      <th></th>\n",
       "      <th></th>\n",
       "      <th></th>\n",
       "    </tr>\n",
       "  </thead>\n",
       "  <tbody>\n",
       "    <tr>\n",
       "      <th>14834.23409</th>\n",
       "      <td>UCSD</td>\n",
       "      <td>SickKids_SEPSiS</td>\n",
       "      <td>NovaSeq WGS</td>\n",
       "      <td>NaN</td>\n",
       "      <td>0.031077</td>\n",
       "      <td>iTru5_112_H</td>\n",
       "      <td>iTru7_109_10</td>\n",
       "      <td>TGGCACTA</td>\n",
       "      <td>CCGATGTA</td>\n",
       "      <td>Illumina NovaSeq 6000</td>\n",
       "      <td>...</td>\n",
       "      <td>23409_S1055_L003</td>\n",
       "      <td>230208_A00953_0688_AHVGW2DSX5</td>\n",
       "      <td>SEPSIS_Infant_Skin_Oral_Vaginal_Human_Milk_P21</td>\n",
       "      <td>SickKids_SEPSiS</td>\n",
       "      <td>P23</td>\n",
       "      <td>sequencing by synthesis</td>\n",
       "      <td>9174092.0</td>\n",
       "      <td>SEPSIS_Infant_Skin_Oral_Vaginal_Human_Milk_P21...</td>\n",
       "      <td>P21</td>\n",
       "      <td>P21P23</td>\n",
       "    </tr>\n",
       "    <tr>\n",
       "      <th>14834.23425</th>\n",
       "      <td>UCSD</td>\n",
       "      <td>SickKids_SEPSiS</td>\n",
       "      <td>NovaSeq WGS</td>\n",
       "      <td>NaN</td>\n",
       "      <td>0.127588</td>\n",
       "      <td>iTru5_108_A</td>\n",
       "      <td>iTru7_102_06</td>\n",
       "      <td>TGTGCGTT</td>\n",
       "      <td>GACGATCT</td>\n",
       "      <td>Illumina NovaSeq 6000</td>\n",
       "      <td>...</td>\n",
       "      <td>23425_S967_L003</td>\n",
       "      <td>230208_A00953_0688_AHVGW2DSX5</td>\n",
       "      <td>SEPSIS_Infant_Skin_Oral_Vaginal_Human_Milk_P21</td>\n",
       "      <td>SickKids_SEPSiS</td>\n",
       "      <td>P1</td>\n",
       "      <td>sequencing by synthesis</td>\n",
       "      <td>6152340.0</td>\n",
       "      <td>SEPSIS_Infant_Skin_Oral_Vaginal_Human_Milk_P21...</td>\n",
       "      <td>P21</td>\n",
       "      <td>P21P1</td>\n",
       "    </tr>\n",
       "    <tr>\n",
       "      <th>14834.23946</th>\n",
       "      <td>UCSD</td>\n",
       "      <td>SickKids_SEPSiS</td>\n",
       "      <td>NovaSeq WGS</td>\n",
       "      <td>NaN</td>\n",
       "      <td>0.025014</td>\n",
       "      <td>iTru5_108_G</td>\n",
       "      <td>iTru7_108_06</td>\n",
       "      <td>ACCGCATA</td>\n",
       "      <td>GATAGGCT</td>\n",
       "      <td>Illumina NovaSeq 6000</td>\n",
       "      <td>...</td>\n",
       "      <td>23946_S1039_L003</td>\n",
       "      <td>230208_A00953_0688_AHVGW2DSX5</td>\n",
       "      <td>SEPSIS_Infant_Skin_Oral_Vaginal_Human_Milk_P21</td>\n",
       "      <td>SickKids_SEPSiS</td>\n",
       "      <td>P19</td>\n",
       "      <td>sequencing by synthesis</td>\n",
       "      <td>3725584.0</td>\n",
       "      <td>SEPSIS_Infant_Skin_Oral_Vaginal_Human_Milk_P21...</td>\n",
       "      <td>P21</td>\n",
       "      <td>P21P19</td>\n",
       "    </tr>\n",
       "    <tr>\n",
       "      <th>14834.24316</th>\n",
       "      <td>UCSD</td>\n",
       "      <td>SickKids_SEPSiS</td>\n",
       "      <td>NovaSeq WGS</td>\n",
       "      <td>NaN</td>\n",
       "      <td>0.000585</td>\n",
       "      <td>iTru5_12_E</td>\n",
       "      <td>iTru7_208_10</td>\n",
       "      <td>AACTGGTG</td>\n",
       "      <td>AGAACGAG</td>\n",
       "      <td>Illumina NovaSeq 6000</td>\n",
       "      <td>...</td>\n",
       "      <td>24316_S828_L003</td>\n",
       "      <td>230208_A00953_0688_AHVGW2DSX5</td>\n",
       "      <td>SEPSIS_Infant_Skin_Oral_Vaginal_Human_Milk_P15...</td>\n",
       "      <td>SickKids_SEPSiS</td>\n",
       "      <td>G15</td>\n",
       "      <td>sequencing by synthesis</td>\n",
       "      <td>4693448.0</td>\n",
       "      <td>SEPSIS_Infant_Skin_Oral_Vaginal_Human_Milk_P15...</td>\n",
       "      <td>P15</td>\n",
       "      <td>P15G15</td>\n",
       "    </tr>\n",
       "    <tr>\n",
       "      <th>14834.24317</th>\n",
       "      <td>UCSD</td>\n",
       "      <td>SickKids_SEPSiS</td>\n",
       "      <td>NovaSeq WGS</td>\n",
       "      <td>NaN</td>\n",
       "      <td>0.713680</td>\n",
       "      <td>iTru5_09_C</td>\n",
       "      <td>iTru7_206_06</td>\n",
       "      <td>AACGACGT</td>\n",
       "      <td>ACAGCAAC</td>\n",
       "      <td>Illumina NovaSeq 6000</td>\n",
       "      <td>...</td>\n",
       "      <td>24317_S417_L003</td>\n",
       "      <td>230208_A00953_0688_AHVGW2DSX5</td>\n",
       "      <td>SEPSiS_SickKids_infant_skin_16-19</td>\n",
       "      <td>SickKids_SEPSiS</td>\n",
       "      <td>A9</td>\n",
       "      <td>sequencing by synthesis</td>\n",
       "      <td>3129624.0</td>\n",
       "      <td>SEPSiS_SickKids_infant_skin_16-19.24317.A9</td>\n",
       "      <td>P1619</td>\n",
       "      <td>P1619A9</td>\n",
       "    </tr>\n",
       "  </tbody>\n",
       "</table>\n",
       "<p>5 rows × 30 columns</p>\n",
       "</div>"
      ],
      "text/plain": [
       "            center_name center_project_name experiment_design_description  \\\n",
       "sample_name                                                                 \n",
       "14834.23409        UCSD     SickKids_SEPSiS                   NovaSeq WGS   \n",
       "14834.23425        UCSD     SickKids_SEPSiS                   NovaSeq WGS   \n",
       "14834.23946        UCSD     SickKids_SEPSiS                   NovaSeq WGS   \n",
       "14834.24316        UCSD     SickKids_SEPSiS                   NovaSeq WGS   \n",
       "14834.24317        UCSD     SickKids_SEPSiS                   NovaSeq WGS   \n",
       "\n",
       "             fraction_non_human  fraction_passing_quality_filter  i5_index_id  \\\n",
       "sample_name                                                                     \n",
       "14834.23409                 NaN                         0.031077  iTru5_112_H   \n",
       "14834.23425                 NaN                         0.127588  iTru5_108_A   \n",
       "14834.23946                 NaN                         0.025014  iTru5_108_G   \n",
       "14834.24316                 NaN                         0.000585   iTru5_12_E   \n",
       "14834.24317                 NaN                         0.713680   iTru5_09_C   \n",
       "\n",
       "              i7_index_id     index    index2       instrument_model  ...  \\\n",
       "sample_name                                                           ...   \n",
       "14834.23409  iTru7_109_10  TGGCACTA  CCGATGTA  Illumina NovaSeq 6000  ...   \n",
       "14834.23425  iTru7_102_06  TGTGCGTT  GACGATCT  Illumina NovaSeq 6000  ...   \n",
       "14834.23946  iTru7_108_06  ACCGCATA  GATAGGCT  Illumina NovaSeq 6000  ...   \n",
       "14834.24316  iTru7_208_10  AACTGGTG  AGAACGAG  Illumina NovaSeq 6000  ...   \n",
       "14834.24317  iTru7_206_06  AACGACGT  ACAGCAAC  Illumina NovaSeq 6000  ...   \n",
       "\n",
       "                   run_prefix                          runid  \\\n",
       "sample_name                                                    \n",
       "14834.23409  23409_S1055_L003  230208_A00953_0688_AHVGW2DSX5   \n",
       "14834.23425   23425_S967_L003  230208_A00953_0688_AHVGW2DSX5   \n",
       "14834.23946  23946_S1039_L003  230208_A00953_0688_AHVGW2DSX5   \n",
       "14834.24316   24316_S828_L003  230208_A00953_0688_AHVGW2DSX5   \n",
       "14834.24317   24317_S417_L003  230208_A00953_0688_AHVGW2DSX5   \n",
       "\n",
       "                                                  sample_plate  \\\n",
       "sample_name                                                      \n",
       "14834.23409     SEPSIS_Infant_Skin_Oral_Vaginal_Human_Milk_P21   \n",
       "14834.23425     SEPSIS_Infant_Skin_Oral_Vaginal_Human_Milk_P21   \n",
       "14834.23946     SEPSIS_Infant_Skin_Oral_Vaginal_Human_Milk_P21   \n",
       "14834.24316  SEPSIS_Infant_Skin_Oral_Vaginal_Human_Milk_P15...   \n",
       "14834.24317                  SEPSiS_SickKids_infant_skin_16-19   \n",
       "\n",
       "              sample_project sample_well          sequencing_meth  \\\n",
       "sample_name                                                         \n",
       "14834.23409  SickKids_SEPSiS         P23  sequencing by synthesis   \n",
       "14834.23425  SickKids_SEPSiS          P1  sequencing by synthesis   \n",
       "14834.23946  SickKids_SEPSiS         P19  sequencing by synthesis   \n",
       "14834.24316  SickKids_SEPSiS         G15  sequencing by synthesis   \n",
       "14834.24317  SickKids_SEPSiS          A9  sequencing by synthesis   \n",
       "\n",
       "             total_biological_reads_r1r2  \\\n",
       "sample_name                                \n",
       "14834.23409                    9174092.0   \n",
       "14834.23425                    6152340.0   \n",
       "14834.23946                    3725584.0   \n",
       "14834.24316                    4693448.0   \n",
       "14834.24317                    3129624.0   \n",
       "\n",
       "                                              well_description plate_short  \\\n",
       "sample_name                                                                  \n",
       "14834.23409  SEPSIS_Infant_Skin_Oral_Vaginal_Human_Milk_P21...         P21   \n",
       "14834.23425  SEPSIS_Infant_Skin_Oral_Vaginal_Human_Milk_P21...         P21   \n",
       "14834.23946  SEPSIS_Infant_Skin_Oral_Vaginal_Human_Milk_P21...         P21   \n",
       "14834.24316  SEPSIS_Infant_Skin_Oral_Vaginal_Human_Milk_P15...         P15   \n",
       "14834.24317         SEPSiS_SickKids_infant_skin_16-19.24317.A9       P1619   \n",
       "\n",
       "            plate_well  \n",
       "sample_name             \n",
       "14834.23409     P21P23  \n",
       "14834.23425      P21P1  \n",
       "14834.23946     P21P19  \n",
       "14834.24316     P15G15  \n",
       "14834.24317    P1619A9  \n",
       "\n",
       "[5 rows x 30 columns]"
      ]
     },
     "execution_count": 40,
     "metadata": {},
     "output_type": "execute_result"
    }
   ],
   "source": [
    "plates = {'SEPSIS_Infant_Skin_Oral_Vaginal_Human_Milk_P21':'P21',\n",
    "       'SEPSIS_Infant_Skin_Oral_Vaginal_Human_Milk_P15_diluted':'P15',\n",
    "       'SEPSiS_SickKids_infant_skin_16-19':'P1619',\n",
    "       'SickKids_SEPSiS_Infant_Oral_14834_P14':'P14',\n",
    "       'SickKids_SEPSiS_Infant_Oral_14834_P11':'P11',\n",
    "       'SEPSIS_Infant_Skin_Oral_Vaginal_Human_Milk_P15':'P15',\n",
    "       'SickKids_SEPSiS_Infant_Oral_14834_P13':'P13',\n",
    "       'SickKids_SEPSiS_Infant_Oral_14834_P12':'P12',\n",
    "       'SEPSIS_Infant_Skin_Oral_Vaginal_Human_Milk_P20':'P20',\n",
    "       'SEPSIS_Infant_Skin_Oral_Vaginal_Human_Milk_P21_diluted':'P21'}\n",
    "smp_prep_other['plate_short'] = smp_prep_other['sample_plate'].map(plates)\n",
    "smp_prep_other['plate_well'] = smp_prep_other['plate_short'].astype(str)+smp_prep_other['sample_well'].astype(str)\n",
    "smp_prep_other.head()"
   ]
  },
  {
   "cell_type": "code",
   "execution_count": 44,
   "id": "12fc6cde",
   "metadata": {},
   "outputs": [
    {
     "data": {
      "text/html": [
       "<div>\n",
       "<style scoped>\n",
       "    .dataframe tbody tr th:only-of-type {\n",
       "        vertical-align: middle;\n",
       "    }\n",
       "\n",
       "    .dataframe tbody tr th {\n",
       "        vertical-align: top;\n",
       "    }\n",
       "\n",
       "    .dataframe thead th {\n",
       "        text-align: right;\n",
       "    }\n",
       "</style>\n",
       "<table border=\"1\" class=\"dataframe\">\n",
       "  <thead>\n",
       "    <tr style=\"text-align: right;\">\n",
       "      <th></th>\n",
       "      <th>sampleid</th>\n",
       "      <th>is_control</th>\n",
       "      <th>sample_type</th>\n",
       "      <th>well_id</th>\n",
       "      <th>plate</th>\n",
       "    </tr>\n",
       "  </thead>\n",
       "  <tbody>\n",
       "    <tr>\n",
       "      <th>1050</th>\n",
       "      <td>14834.KATHARO.SEP.21.11D</td>\n",
       "      <td>1.0</td>\n",
       "      <td>control positive</td>\n",
       "      <td>P21H21</td>\n",
       "      <td>P21</td>\n",
       "    </tr>\n",
       "    <tr>\n",
       "      <th>1051</th>\n",
       "      <td>14834.KATHARO.SEP.21.11E</td>\n",
       "      <td>1.0</td>\n",
       "      <td>control positive</td>\n",
       "      <td>P21J21</td>\n",
       "      <td>P21</td>\n",
       "    </tr>\n",
       "    <tr>\n",
       "      <th>1052</th>\n",
       "      <td>14834.KATHARO.SEP.21.11F</td>\n",
       "      <td>1.0</td>\n",
       "      <td>control positive</td>\n",
       "      <td>P21L21</td>\n",
       "      <td>P21</td>\n",
       "    </tr>\n",
       "    <tr>\n",
       "      <th>1053</th>\n",
       "      <td>14834.KATHARO.SEP.21.11G</td>\n",
       "      <td>1.0</td>\n",
       "      <td>control positive</td>\n",
       "      <td>P21N21</td>\n",
       "      <td>P21</td>\n",
       "    </tr>\n",
       "    <tr>\n",
       "      <th>1054</th>\n",
       "      <td>14834.KATHARO.SEP.21.11H</td>\n",
       "      <td>1.0</td>\n",
       "      <td>control positive</td>\n",
       "      <td>P21P21</td>\n",
       "      <td>P21</td>\n",
       "    </tr>\n",
       "  </tbody>\n",
       "</table>\n",
       "</div>"
      ],
      "text/plain": [
       "                      sampleid  is_control       sample_type well_id plate\n",
       "1050  14834.KATHARO.SEP.21.11D         1.0  control positive  P21H21   P21\n",
       "1051  14834.KATHARO.SEP.21.11E         1.0  control positive  P21J21   P21\n",
       "1052  14834.KATHARO.SEP.21.11F         1.0  control positive  P21L21   P21\n",
       "1053  14834.KATHARO.SEP.21.11G         1.0  control positive  P21N21   P21\n",
       "1054  14834.KATHARO.SEP.21.11H         1.0  control positive  P21P21   P21"
      ]
     },
     "execution_count": 44,
     "metadata": {},
     "output_type": "execute_result"
    }
   ],
   "source": [
    "scrub_meta = pd.DataFrame()\n",
    "scrub_meta['sampleid'] = smp_prep_other.index\n",
    "mdw = md2[md2.index.isin(smp_prep_other.index.values)]\n",
    "scrub_meta['is_control'] = scrub_meta['sampleid'].map(mdw['empo_1']).replace({'Host-associated': 0.0, 'Control': 1.0})\n",
    "scrub_meta['sample_type'] = scrub_meta['sampleid'].map(mdw['sample_type'])\n",
    "scrub_meta['well_id'] = scrub_meta['sampleid'].map(smp_prep_other['plate_well'])\n",
    "scrub_meta['plate'] = scrub_meta['sampleid'].map(smp_prep_other['plate_short'])\n",
    "\n",
    "scrub_meta.to_csv('../../data/scrub_other_metadata.tsv', sep = '\\t', index = False)\n",
    "scrub_meta.tail()"
   ]
  },
  {
   "cell_type": "code",
   "execution_count": 46,
   "id": "592dc898",
   "metadata": {},
   "outputs": [],
   "source": [
    "scrub_meta = pd.DataFrame()\n",
    "scrub_meta['sampleid'] = smp_prep_other.index\n",
    "mdw = md2[md2.index.isin(smp_prep_other.index.values)]\n",
    "scrub_meta['is_control'] = scrub_meta['sampleid'].map(mdw['empo_1']).replace({'Host-associated': 0.0, 'Control': 1.0})\n",
    "scrub_meta['sample_type'] = scrub_meta['sampleid'].map(mdw['sample_type'])\n",
    "scrub_meta['well_id'] = scrub_meta['sampleid'].map(smp_prep_other['sample_well'])\n",
    "scrub_meta['plate'] = scrub_meta['sampleid'].map(smp_prep_other['plate_short'])\n",
    "\n",
    "for x in scrub_meta.plate.unique():\n",
    "    df = scrub_meta[scrub_meta['plate']==x]\n",
    "    df.to_csv('../../data/scrub_other_%s_metadata.tsv' % x, sep = '\\t', index = False)"
   ]
  },
  {
   "cell_type": "code",
   "execution_count": 48,
   "id": "45430e44",
   "metadata": {},
   "outputs": [
    {
     "data": {
      "text/html": [
       "<div>\n",
       "<style scoped>\n",
       "    .dataframe tbody tr th:only-of-type {\n",
       "        vertical-align: middle;\n",
       "    }\n",
       "\n",
       "    .dataframe tbody tr th {\n",
       "        vertical-align: top;\n",
       "    }\n",
       "\n",
       "    .dataframe thead th {\n",
       "        text-align: right;\n",
       "    }\n",
       "</style>\n",
       "<table border=\"1\" class=\"dataframe\">\n",
       "  <thead>\n",
       "    <tr style=\"text-align: right;\">\n",
       "      <th></th>\n",
       "      <th>center_name</th>\n",
       "      <th>center_project_name</th>\n",
       "      <th>experiment_design_description</th>\n",
       "      <th>fraction_passing_quality_filter</th>\n",
       "      <th>i5_index_id</th>\n",
       "      <th>i7_index_id</th>\n",
       "      <th>index</th>\n",
       "      <th>index2</th>\n",
       "      <th>instrument_model</th>\n",
       "      <th>lane</th>\n",
       "      <th>...</th>\n",
       "      <th>run_center</th>\n",
       "      <th>run_date</th>\n",
       "      <th>run_prefix</th>\n",
       "      <th>runid</th>\n",
       "      <th>sample_plate</th>\n",
       "      <th>sample_project</th>\n",
       "      <th>sample_well</th>\n",
       "      <th>sequencing_meth</th>\n",
       "      <th>total_biological_reads_r1r2</th>\n",
       "      <th>well_description</th>\n",
       "    </tr>\n",
       "    <tr>\n",
       "      <th>sample_name</th>\n",
       "      <th></th>\n",
       "      <th></th>\n",
       "      <th></th>\n",
       "      <th></th>\n",
       "      <th></th>\n",
       "      <th></th>\n",
       "      <th></th>\n",
       "      <th></th>\n",
       "      <th></th>\n",
       "      <th></th>\n",
       "      <th></th>\n",
       "      <th></th>\n",
       "      <th></th>\n",
       "      <th></th>\n",
       "      <th></th>\n",
       "      <th></th>\n",
       "      <th></th>\n",
       "      <th></th>\n",
       "      <th></th>\n",
       "      <th></th>\n",
       "      <th></th>\n",
       "    </tr>\n",
       "  </thead>\n",
       "  <tbody>\n",
       "    <tr>\n",
       "      <th>14834.100328</th>\n",
       "      <td>UCSD</td>\n",
       "      <td>SEPSiS</td>\n",
       "      <td>whole genome sequencing</td>\n",
       "      <td>0.771062</td>\n",
       "      <td>iTru5_19_D</td>\n",
       "      <td>iTru7_304_09</td>\n",
       "      <td>TCGTGGAT</td>\n",
       "      <td>TAGTGACC</td>\n",
       "      <td>Illumina NovaSeq 6000</td>\n",
       "      <td>2</td>\n",
       "      <td>...</td>\n",
       "      <td>IGM</td>\n",
       "      <td>2023-01-09</td>\n",
       "      <td>100328_S617_L002</td>\n",
       "      <td>230109_A00953_0675_BHNL7YDSX5</td>\n",
       "      <td>SEPSiS Infant Fecal Plate 1-4</td>\n",
       "      <td>SEPSiS</td>\n",
       "      <td>E12</td>\n",
       "      <td>sequencing by synthesis</td>\n",
       "      <td>3003094.0</td>\n",
       "      <td>SEPSiS Infant Fecal Plate 1-4.100328.E12</td>\n",
       "    </tr>\n",
       "    <tr>\n",
       "      <th>14834.100334</th>\n",
       "      <td>UCSD</td>\n",
       "      <td>SEPSiS</td>\n",
       "      <td>whole genome sequencing</td>\n",
       "      <td>0.762040</td>\n",
       "      <td>iTru5_14_D</td>\n",
       "      <td>iTru7_304_04</td>\n",
       "      <td>CCTCAGTT</td>\n",
       "      <td>CGAACTGT</td>\n",
       "      <td>Illumina NovaSeq 6000</td>\n",
       "      <td>2</td>\n",
       "      <td>...</td>\n",
       "      <td>IGM</td>\n",
       "      <td>2023-01-09</td>\n",
       "      <td>100334_S612_L002</td>\n",
       "      <td>230109_A00953_0675_BHNL7YDSX5</td>\n",
       "      <td>SEPSiS Infant Fecal Plate 1-4</td>\n",
       "      <td>SEPSiS</td>\n",
       "      <td>K10</td>\n",
       "      <td>sequencing by synthesis</td>\n",
       "      <td>4142150.0</td>\n",
       "      <td>SEPSiS Infant Fecal Plate 1-4.100334.K10</td>\n",
       "    </tr>\n",
       "    <tr>\n",
       "      <th>14834.100707</th>\n",
       "      <td>UCSD</td>\n",
       "      <td>SEPSiS</td>\n",
       "      <td>whole genome sequencing</td>\n",
       "      <td>0.658879</td>\n",
       "      <td>iTru5_04_F</td>\n",
       "      <td>iTru7_208_10</td>\n",
       "      <td>AACTGGTG</td>\n",
       "      <td>ACCTGGAA</td>\n",
       "      <td>Illumina NovaSeq 6000</td>\n",
       "      <td>2</td>\n",
       "      <td>...</td>\n",
       "      <td>IGM</td>\n",
       "      <td>2023-01-09</td>\n",
       "      <td>100707_S159_L002</td>\n",
       "      <td>230109_A00953_0675_BHNL7YDSX5</td>\n",
       "      <td>SickKids_SEPSiS_maternal_fecal_P7_diluted</td>\n",
       "      <td>SEPSiS</td>\n",
       "      <td>O15</td>\n",
       "      <td>sequencing by synthesis</td>\n",
       "      <td>3046226.0</td>\n",
       "      <td>SickKids_SEPSiS_maternal_fecal_P7_diluted.1007...</td>\n",
       "    </tr>\n",
       "    <tr>\n",
       "      <th>14834.100787</th>\n",
       "      <td>UCSD</td>\n",
       "      <td>SEPSiS</td>\n",
       "      <td>whole genome sequencing</td>\n",
       "      <td>0.748281</td>\n",
       "      <td>iTru5_02_G</td>\n",
       "      <td>iTru7_209_08</td>\n",
       "      <td>GTGTGACA</td>\n",
       "      <td>ACCATCCA</td>\n",
       "      <td>Illumina NovaSeq 6000</td>\n",
       "      <td>2</td>\n",
       "      <td>...</td>\n",
       "      <td>IGM</td>\n",
       "      <td>2023-01-09</td>\n",
       "      <td>100787_S168_L002</td>\n",
       "      <td>230109_A00953_0675_BHNL7YDSX5</td>\n",
       "      <td>SickKids_SEPSiS_maternal_fecal_P7</td>\n",
       "      <td>SEPSiS</td>\n",
       "      <td>C19</td>\n",
       "      <td>sequencing by synthesis</td>\n",
       "      <td>3526030.0</td>\n",
       "      <td>SickKids_SEPSiS_maternal_fecal_P7.100787.C19</td>\n",
       "    </tr>\n",
       "    <tr>\n",
       "      <th>14834.100797</th>\n",
       "      <td>UCSD</td>\n",
       "      <td>SEPSiS</td>\n",
       "      <td>whole genome sequencing</td>\n",
       "      <td>0.759062</td>\n",
       "      <td>iTru5_06_C</td>\n",
       "      <td>iTru7_205_12</td>\n",
       "      <td>ATCTGTCC</td>\n",
       "      <td>TGGTAGCT</td>\n",
       "      <td>Illumina NovaSeq 6000</td>\n",
       "      <td>2</td>\n",
       "      <td>...</td>\n",
       "      <td>IGM</td>\n",
       "      <td>2023-01-09</td>\n",
       "      <td>100797_S126_L002</td>\n",
       "      <td>230109_A00953_0675_BHNL7YDSX5</td>\n",
       "      <td>SickKids_SEPSiS_maternal_fecal_P7_diluted</td>\n",
       "      <td>SEPSiS</td>\n",
       "      <td>K7</td>\n",
       "      <td>sequencing by synthesis</td>\n",
       "      <td>3076454.0</td>\n",
       "      <td>SickKids_SEPSiS_maternal_fecal_P7_diluted.1007...</td>\n",
       "    </tr>\n",
       "  </tbody>\n",
       "</table>\n",
       "<p>5 rows × 26 columns</p>\n",
       "</div>"
      ],
      "text/plain": [
       "             center_name center_project_name experiment_design_description  \\\n",
       "sample_name                                                                  \n",
       "14834.100328        UCSD              SEPSiS       whole genome sequencing   \n",
       "14834.100334        UCSD              SEPSiS       whole genome sequencing   \n",
       "14834.100707        UCSD              SEPSiS       whole genome sequencing   \n",
       "14834.100787        UCSD              SEPSiS       whole genome sequencing   \n",
       "14834.100797        UCSD              SEPSiS       whole genome sequencing   \n",
       "\n",
       "              fraction_passing_quality_filter i5_index_id   i7_index_id  \\\n",
       "sample_name                                                               \n",
       "14834.100328                         0.771062  iTru5_19_D  iTru7_304_09   \n",
       "14834.100334                         0.762040  iTru5_14_D  iTru7_304_04   \n",
       "14834.100707                         0.658879  iTru5_04_F  iTru7_208_10   \n",
       "14834.100787                         0.748281  iTru5_02_G  iTru7_209_08   \n",
       "14834.100797                         0.759062  iTru5_06_C  iTru7_205_12   \n",
       "\n",
       "                 index    index2       instrument_model  lane  ... run_center  \\\n",
       "sample_name                                                    ...              \n",
       "14834.100328  TCGTGGAT  TAGTGACC  Illumina NovaSeq 6000     2  ...        IGM   \n",
       "14834.100334  CCTCAGTT  CGAACTGT  Illumina NovaSeq 6000     2  ...        IGM   \n",
       "14834.100707  AACTGGTG  ACCTGGAA  Illumina NovaSeq 6000     2  ...        IGM   \n",
       "14834.100787  GTGTGACA  ACCATCCA  Illumina NovaSeq 6000     2  ...        IGM   \n",
       "14834.100797  ATCTGTCC  TGGTAGCT  Illumina NovaSeq 6000     2  ...        IGM   \n",
       "\n",
       "                run_date        run_prefix                          runid  \\\n",
       "sample_name                                                                 \n",
       "14834.100328  2023-01-09  100328_S617_L002  230109_A00953_0675_BHNL7YDSX5   \n",
       "14834.100334  2023-01-09  100334_S612_L002  230109_A00953_0675_BHNL7YDSX5   \n",
       "14834.100707  2023-01-09  100707_S159_L002  230109_A00953_0675_BHNL7YDSX5   \n",
       "14834.100787  2023-01-09  100787_S168_L002  230109_A00953_0675_BHNL7YDSX5   \n",
       "14834.100797  2023-01-09  100797_S126_L002  230109_A00953_0675_BHNL7YDSX5   \n",
       "\n",
       "                                           sample_plate  sample_project  \\\n",
       "sample_name                                                               \n",
       "14834.100328              SEPSiS Infant Fecal Plate 1-4          SEPSiS   \n",
       "14834.100334              SEPSiS Infant Fecal Plate 1-4          SEPSiS   \n",
       "14834.100707  SickKids_SEPSiS_maternal_fecal_P7_diluted          SEPSiS   \n",
       "14834.100787          SickKids_SEPSiS_maternal_fecal_P7          SEPSiS   \n",
       "14834.100797  SickKids_SEPSiS_maternal_fecal_P7_diluted          SEPSiS   \n",
       "\n",
       "             sample_well          sequencing_meth total_biological_reads_r1r2  \\\n",
       "sample_name                                                                     \n",
       "14834.100328         E12  sequencing by synthesis                   3003094.0   \n",
       "14834.100334         K10  sequencing by synthesis                   4142150.0   \n",
       "14834.100707         O15  sequencing by synthesis                   3046226.0   \n",
       "14834.100787         C19  sequencing by synthesis                   3526030.0   \n",
       "14834.100797          K7  sequencing by synthesis                   3076454.0   \n",
       "\n",
       "                                               well_description  \n",
       "sample_name                                                      \n",
       "14834.100328           SEPSiS Infant Fecal Plate 1-4.100328.E12  \n",
       "14834.100334           SEPSiS Infant Fecal Plate 1-4.100334.K10  \n",
       "14834.100707  SickKids_SEPSiS_maternal_fecal_P7_diluted.1007...  \n",
       "14834.100787       SickKids_SEPSiS_maternal_fecal_P7.100787.C19  \n",
       "14834.100797  SickKids_SEPSiS_maternal_fecal_P7_diluted.1007...  \n",
       "\n",
       "[5 rows x 26 columns]"
      ]
     },
     "execution_count": 48,
     "metadata": {},
     "output_type": "execute_result"
    }
   ],
   "source": [
    "smp_prep_fecal = pd.read_csv('../../data/14834_prep_17078_20240716-161431.txt', sep = '\\t', index_col=0)\n",
    "smp_prep_fecal.head()"
   ]
  },
  {
   "cell_type": "code",
   "execution_count": 49,
   "id": "a3759271",
   "metadata": {},
   "outputs": [
    {
     "data": {
      "text/html": [
       "<div>\n",
       "<style scoped>\n",
       "    .dataframe tbody tr th:only-of-type {\n",
       "        vertical-align: middle;\n",
       "    }\n",
       "\n",
       "    .dataframe tbody tr th {\n",
       "        vertical-align: top;\n",
       "    }\n",
       "\n",
       "    .dataframe thead th {\n",
       "        text-align: right;\n",
       "    }\n",
       "</style>\n",
       "<table border=\"1\" class=\"dataframe\">\n",
       "  <thead>\n",
       "    <tr style=\"text-align: right;\">\n",
       "      <th></th>\n",
       "      <th>center_name</th>\n",
       "      <th>center_project_name</th>\n",
       "      <th>experiment_design_description</th>\n",
       "      <th>fraction_passing_quality_filter</th>\n",
       "      <th>i5_index_id</th>\n",
       "      <th>i7_index_id</th>\n",
       "      <th>index</th>\n",
       "      <th>index2</th>\n",
       "      <th>instrument_model</th>\n",
       "      <th>lane</th>\n",
       "      <th>...</th>\n",
       "      <th>run_prefix</th>\n",
       "      <th>runid</th>\n",
       "      <th>sample_plate</th>\n",
       "      <th>sample_project</th>\n",
       "      <th>sample_well</th>\n",
       "      <th>sequencing_meth</th>\n",
       "      <th>total_biological_reads_r1r2</th>\n",
       "      <th>well_description</th>\n",
       "      <th>plate_short</th>\n",
       "      <th>plate_well</th>\n",
       "    </tr>\n",
       "    <tr>\n",
       "      <th>sample_name</th>\n",
       "      <th></th>\n",
       "      <th></th>\n",
       "      <th></th>\n",
       "      <th></th>\n",
       "      <th></th>\n",
       "      <th></th>\n",
       "      <th></th>\n",
       "      <th></th>\n",
       "      <th></th>\n",
       "      <th></th>\n",
       "      <th></th>\n",
       "      <th></th>\n",
       "      <th></th>\n",
       "      <th></th>\n",
       "      <th></th>\n",
       "      <th></th>\n",
       "      <th></th>\n",
       "      <th></th>\n",
       "      <th></th>\n",
       "      <th></th>\n",
       "      <th></th>\n",
       "    </tr>\n",
       "  </thead>\n",
       "  <tbody>\n",
       "    <tr>\n",
       "      <th>14834.100328</th>\n",
       "      <td>UCSD</td>\n",
       "      <td>SEPSiS</td>\n",
       "      <td>whole genome sequencing</td>\n",
       "      <td>0.771062</td>\n",
       "      <td>iTru5_19_D</td>\n",
       "      <td>iTru7_304_09</td>\n",
       "      <td>TCGTGGAT</td>\n",
       "      <td>TAGTGACC</td>\n",
       "      <td>Illumina NovaSeq 6000</td>\n",
       "      <td>2</td>\n",
       "      <td>...</td>\n",
       "      <td>100328_S617_L002</td>\n",
       "      <td>230109_A00953_0675_BHNL7YDSX5</td>\n",
       "      <td>SEPSiS Infant Fecal Plate 1-4</td>\n",
       "      <td>SEPSiS</td>\n",
       "      <td>E12</td>\n",
       "      <td>sequencing by synthesis</td>\n",
       "      <td>3003094.0</td>\n",
       "      <td>SEPSiS Infant Fecal Plate 1-4.100328.E12</td>\n",
       "      <td>P14</td>\n",
       "      <td>P14E12</td>\n",
       "    </tr>\n",
       "    <tr>\n",
       "      <th>14834.100334</th>\n",
       "      <td>UCSD</td>\n",
       "      <td>SEPSiS</td>\n",
       "      <td>whole genome sequencing</td>\n",
       "      <td>0.762040</td>\n",
       "      <td>iTru5_14_D</td>\n",
       "      <td>iTru7_304_04</td>\n",
       "      <td>CCTCAGTT</td>\n",
       "      <td>CGAACTGT</td>\n",
       "      <td>Illumina NovaSeq 6000</td>\n",
       "      <td>2</td>\n",
       "      <td>...</td>\n",
       "      <td>100334_S612_L002</td>\n",
       "      <td>230109_A00953_0675_BHNL7YDSX5</td>\n",
       "      <td>SEPSiS Infant Fecal Plate 1-4</td>\n",
       "      <td>SEPSiS</td>\n",
       "      <td>K10</td>\n",
       "      <td>sequencing by synthesis</td>\n",
       "      <td>4142150.0</td>\n",
       "      <td>SEPSiS Infant Fecal Plate 1-4.100334.K10</td>\n",
       "      <td>P14</td>\n",
       "      <td>P14K10</td>\n",
       "    </tr>\n",
       "    <tr>\n",
       "      <th>14834.100707</th>\n",
       "      <td>UCSD</td>\n",
       "      <td>SEPSiS</td>\n",
       "      <td>whole genome sequencing</td>\n",
       "      <td>0.658879</td>\n",
       "      <td>iTru5_04_F</td>\n",
       "      <td>iTru7_208_10</td>\n",
       "      <td>AACTGGTG</td>\n",
       "      <td>ACCTGGAA</td>\n",
       "      <td>Illumina NovaSeq 6000</td>\n",
       "      <td>2</td>\n",
       "      <td>...</td>\n",
       "      <td>100707_S159_L002</td>\n",
       "      <td>230109_A00953_0675_BHNL7YDSX5</td>\n",
       "      <td>SickKids_SEPSiS_maternal_fecal_P7_diluted</td>\n",
       "      <td>SEPSiS</td>\n",
       "      <td>O15</td>\n",
       "      <td>sequencing by synthesis</td>\n",
       "      <td>3046226.0</td>\n",
       "      <td>SickKids_SEPSiS_maternal_fecal_P7_diluted.1007...</td>\n",
       "      <td>P7</td>\n",
       "      <td>P7O15</td>\n",
       "    </tr>\n",
       "    <tr>\n",
       "      <th>14834.100787</th>\n",
       "      <td>UCSD</td>\n",
       "      <td>SEPSiS</td>\n",
       "      <td>whole genome sequencing</td>\n",
       "      <td>0.748281</td>\n",
       "      <td>iTru5_02_G</td>\n",
       "      <td>iTru7_209_08</td>\n",
       "      <td>GTGTGACA</td>\n",
       "      <td>ACCATCCA</td>\n",
       "      <td>Illumina NovaSeq 6000</td>\n",
       "      <td>2</td>\n",
       "      <td>...</td>\n",
       "      <td>100787_S168_L002</td>\n",
       "      <td>230109_A00953_0675_BHNL7YDSX5</td>\n",
       "      <td>SickKids_SEPSiS_maternal_fecal_P7</td>\n",
       "      <td>SEPSiS</td>\n",
       "      <td>C19</td>\n",
       "      <td>sequencing by synthesis</td>\n",
       "      <td>3526030.0</td>\n",
       "      <td>SickKids_SEPSiS_maternal_fecal_P7.100787.C19</td>\n",
       "      <td>P7</td>\n",
       "      <td>P7C19</td>\n",
       "    </tr>\n",
       "    <tr>\n",
       "      <th>14834.100797</th>\n",
       "      <td>UCSD</td>\n",
       "      <td>SEPSiS</td>\n",
       "      <td>whole genome sequencing</td>\n",
       "      <td>0.759062</td>\n",
       "      <td>iTru5_06_C</td>\n",
       "      <td>iTru7_205_12</td>\n",
       "      <td>ATCTGTCC</td>\n",
       "      <td>TGGTAGCT</td>\n",
       "      <td>Illumina NovaSeq 6000</td>\n",
       "      <td>2</td>\n",
       "      <td>...</td>\n",
       "      <td>100797_S126_L002</td>\n",
       "      <td>230109_A00953_0675_BHNL7YDSX5</td>\n",
       "      <td>SickKids_SEPSiS_maternal_fecal_P7_diluted</td>\n",
       "      <td>SEPSiS</td>\n",
       "      <td>K7</td>\n",
       "      <td>sequencing by synthesis</td>\n",
       "      <td>3076454.0</td>\n",
       "      <td>SickKids_SEPSiS_maternal_fecal_P7_diluted.1007...</td>\n",
       "      <td>P7</td>\n",
       "      <td>P7K7</td>\n",
       "    </tr>\n",
       "  </tbody>\n",
       "</table>\n",
       "<p>5 rows × 28 columns</p>\n",
       "</div>"
      ],
      "text/plain": [
       "             center_name center_project_name experiment_design_description  \\\n",
       "sample_name                                                                  \n",
       "14834.100328        UCSD              SEPSiS       whole genome sequencing   \n",
       "14834.100334        UCSD              SEPSiS       whole genome sequencing   \n",
       "14834.100707        UCSD              SEPSiS       whole genome sequencing   \n",
       "14834.100787        UCSD              SEPSiS       whole genome sequencing   \n",
       "14834.100797        UCSD              SEPSiS       whole genome sequencing   \n",
       "\n",
       "              fraction_passing_quality_filter i5_index_id   i7_index_id  \\\n",
       "sample_name                                                               \n",
       "14834.100328                         0.771062  iTru5_19_D  iTru7_304_09   \n",
       "14834.100334                         0.762040  iTru5_14_D  iTru7_304_04   \n",
       "14834.100707                         0.658879  iTru5_04_F  iTru7_208_10   \n",
       "14834.100787                         0.748281  iTru5_02_G  iTru7_209_08   \n",
       "14834.100797                         0.759062  iTru5_06_C  iTru7_205_12   \n",
       "\n",
       "                 index    index2       instrument_model  lane  ...  \\\n",
       "sample_name                                                    ...   \n",
       "14834.100328  TCGTGGAT  TAGTGACC  Illumina NovaSeq 6000     2  ...   \n",
       "14834.100334  CCTCAGTT  CGAACTGT  Illumina NovaSeq 6000     2  ...   \n",
       "14834.100707  AACTGGTG  ACCTGGAA  Illumina NovaSeq 6000     2  ...   \n",
       "14834.100787  GTGTGACA  ACCATCCA  Illumina NovaSeq 6000     2  ...   \n",
       "14834.100797  ATCTGTCC  TGGTAGCT  Illumina NovaSeq 6000     2  ...   \n",
       "\n",
       "                    run_prefix                          runid  \\\n",
       "sample_name                                                     \n",
       "14834.100328  100328_S617_L002  230109_A00953_0675_BHNL7YDSX5   \n",
       "14834.100334  100334_S612_L002  230109_A00953_0675_BHNL7YDSX5   \n",
       "14834.100707  100707_S159_L002  230109_A00953_0675_BHNL7YDSX5   \n",
       "14834.100787  100787_S168_L002  230109_A00953_0675_BHNL7YDSX5   \n",
       "14834.100797  100797_S126_L002  230109_A00953_0675_BHNL7YDSX5   \n",
       "\n",
       "                                           sample_plate  sample_project  \\\n",
       "sample_name                                                               \n",
       "14834.100328              SEPSiS Infant Fecal Plate 1-4          SEPSiS   \n",
       "14834.100334              SEPSiS Infant Fecal Plate 1-4          SEPSiS   \n",
       "14834.100707  SickKids_SEPSiS_maternal_fecal_P7_diluted          SEPSiS   \n",
       "14834.100787          SickKids_SEPSiS_maternal_fecal_P7          SEPSiS   \n",
       "14834.100797  SickKids_SEPSiS_maternal_fecal_P7_diluted          SEPSiS   \n",
       "\n",
       "              sample_well          sequencing_meth  \\\n",
       "sample_name                                          \n",
       "14834.100328          E12  sequencing by synthesis   \n",
       "14834.100334          K10  sequencing by synthesis   \n",
       "14834.100707          O15  sequencing by synthesis   \n",
       "14834.100787          C19  sequencing by synthesis   \n",
       "14834.100797           K7  sequencing by synthesis   \n",
       "\n",
       "             total_biological_reads_r1r2  \\\n",
       "sample_name                                \n",
       "14834.100328                   3003094.0   \n",
       "14834.100334                   4142150.0   \n",
       "14834.100707                   3046226.0   \n",
       "14834.100787                   3526030.0   \n",
       "14834.100797                   3076454.0   \n",
       "\n",
       "                                               well_description plate_short  \\\n",
       "sample_name                                                                   \n",
       "14834.100328           SEPSiS Infant Fecal Plate 1-4.100328.E12         P14   \n",
       "14834.100334           SEPSiS Infant Fecal Plate 1-4.100334.K10         P14   \n",
       "14834.100707  SickKids_SEPSiS_maternal_fecal_P7_diluted.1007...          P7   \n",
       "14834.100787       SickKids_SEPSiS_maternal_fecal_P7.100787.C19          P7   \n",
       "14834.100797  SickKids_SEPSiS_maternal_fecal_P7_diluted.1007...          P7   \n",
       "\n",
       "             plate_well  \n",
       "sample_name              \n",
       "14834.100328     P14E12  \n",
       "14834.100334     P14K10  \n",
       "14834.100707      P7O15  \n",
       "14834.100787      P7C19  \n",
       "14834.100797       P7K7  \n",
       "\n",
       "[5 rows x 28 columns]"
      ]
     },
     "execution_count": 49,
     "metadata": {},
     "output_type": "execute_result"
    }
   ],
   "source": [
    "plates = {'SEPSiS Infant Fecal Plate 1-4':'P14' ,\n",
    "       'SickKids_SEPSiS_maternal_fecal_P7_diluted': 'P7',\n",
    "       'SickKids_SEPSiS_maternal_fecal_P7':\"P7\",\n",
    "       'SickKids_SEPSiS_maternal_fecal_P9':\"P9\",\n",
    "       'SickKids_SEPSiS_maternal_fecal_P9_diluted':\"P9\",\n",
    "       'SickKids_SEPSiS_infant_maternal_fecal_P5[SEPSiS]':\"P5\",\n",
    "       'SickKids_SEPSiS_maternal_fecal_P8':\"P8\",\n",
    "       'SickKids_SEPSiS_maternal_fecal_P10':\"P10\",\n",
    "       'SickKids_SEPSiS_maternal_fecal_P10_diluted':\"P10\",\n",
    "       'SickKids_SEPSiS_maternal_fecal_P8_diluted':\"P8\",\n",
    "       'SickKids_SEPSiS_infant_maternal_fecal_P5[SEPSiS]_diluted':\"P5\"}\n",
    "smp_prep_fecal['plate_short'] = smp_prep_fecal['sample_plate'].map(plates)\n",
    "smp_prep_fecal['plate_well'] = smp_prep_fecal['plate_short'].astype(str)+smp_prep_fecal['sample_well'].astype(str)\n",
    "smp_prep_fecal.head()"
   ]
  },
  {
   "cell_type": "code",
   "execution_count": 51,
   "id": "ba9bc36b",
   "metadata": {},
   "outputs": [
    {
     "data": {
      "text/html": [
       "<div>\n",
       "<style scoped>\n",
       "    .dataframe tbody tr th:only-of-type {\n",
       "        vertical-align: middle;\n",
       "    }\n",
       "\n",
       "    .dataframe tbody tr th {\n",
       "        vertical-align: top;\n",
       "    }\n",
       "\n",
       "    .dataframe thead th {\n",
       "        text-align: right;\n",
       "    }\n",
       "</style>\n",
       "<table border=\"1\" class=\"dataframe\">\n",
       "  <thead>\n",
       "    <tr style=\"text-align: right;\">\n",
       "      <th></th>\n",
       "      <th>sampleid</th>\n",
       "      <th>is_control</th>\n",
       "      <th>sample_type</th>\n",
       "      <th>well_id</th>\n",
       "    </tr>\n",
       "  </thead>\n",
       "  <tbody>\n",
       "    <tr>\n",
       "      <th>857</th>\n",
       "      <td>14834.BLANK.SEP.9.4.F</td>\n",
       "      <td>1.0</td>\n",
       "      <td>control blank</td>\n",
       "      <td>P9L7</td>\n",
       "    </tr>\n",
       "    <tr>\n",
       "      <th>858</th>\n",
       "      <td>14834.BLANK.SEP.9.4.G</td>\n",
       "      <td>1.0</td>\n",
       "      <td>control blank</td>\n",
       "      <td>P9N7</td>\n",
       "    </tr>\n",
       "    <tr>\n",
       "      <th>859</th>\n",
       "      <td>14834.BLANK.SEP.9.4.H</td>\n",
       "      <td>1.0</td>\n",
       "      <td>control blank</td>\n",
       "      <td>P9P7</td>\n",
       "    </tr>\n",
       "    <tr>\n",
       "      <th>860</th>\n",
       "      <td>14834.infantstool.21days.41875</td>\n",
       "      <td>0.0</td>\n",
       "      <td>feces</td>\n",
       "      <td>P14I17</td>\n",
       "    </tr>\n",
       "    <tr>\n",
       "      <th>861</th>\n",
       "      <td>14834.maternalstool.21days.41875</td>\n",
       "      <td>0.0</td>\n",
       "      <td>feces</td>\n",
       "      <td>P10L20</td>\n",
       "    </tr>\n",
       "  </tbody>\n",
       "</table>\n",
       "</div>"
      ],
      "text/plain": [
       "                             sampleid  is_control    sample_type well_id\n",
       "857             14834.BLANK.SEP.9.4.F         1.0  control blank    P9L7\n",
       "858             14834.BLANK.SEP.9.4.G         1.0  control blank    P9N7\n",
       "859             14834.BLANK.SEP.9.4.H         1.0  control blank    P9P7\n",
       "860    14834.infantstool.21days.41875         0.0          feces  P14I17\n",
       "861  14834.maternalstool.21days.41875         0.0          feces  P10L20"
      ]
     },
     "execution_count": 51,
     "metadata": {},
     "output_type": "execute_result"
    }
   ],
   "source": [
    "scrub_meta_fecal = pd.DataFrame()\n",
    "scrub_meta_fecal['sampleid'] = smp_prep_fecal.index\n",
    "mdx = md2[md2.index.isin(smp_prep_fecal.index.values)]\n",
    "scrub_meta_fecal['is_control'] = scrub_meta_fecal['sampleid'].map(mdx['empo_1']).replace({'Host-associated': 0.0, 'Control': 1.0})\n",
    "scrub_meta_fecal['sample_type'] = scrub_meta_fecal['sampleid'].map(mdx['sample_type'])\n",
    "scrub_meta_fecal['well_id'] = scrub_meta_fecal['sampleid'].map(smp_prep_fecal['plate_well'])\n",
    "\n",
    "scrub_meta_fecal.to_csv('../../data/scrub_fecal_metadata.tsv', sep = '\\t', index = False)\n",
    "scrub_meta_fecal.tail()"
   ]
  },
  {
   "cell_type": "code",
   "execution_count": 52,
   "id": "c3d56e76",
   "metadata": {},
   "outputs": [],
   "source": [
    "combined_plates = pd.concat([smp_prep_other['plate_short'], smp_prep_fecal['plate_short']])\n",
    "md2['plate'] = md2.index.map(combined_plates)"
   ]
  },
  {
   "cell_type": "code",
   "execution_count": 53,
   "id": "76ba39a6",
   "metadata": {},
   "outputs": [
    {
     "data": {
      "text/plain": [
       "array(['P14', 'P7', 'P9', 'P5', 'P8', nan, 'P21', 'P10', 'P15', 'P1619',\n",
       "       'P11', 'P13', 'P12', 'P20'], dtype=object)"
      ]
     },
     "execution_count": 53,
     "metadata": {},
     "output_type": "execute_result"
    }
   ],
   "source": [
    "md2.plate.unique()"
   ]
  },
  {
   "cell_type": "markdown",
   "id": "72a96e27",
   "metadata": {},
   "source": [
    "# Qiime2"
   ]
  },
  {
   "cell_type": "code",
   "execution_count": 455,
   "id": "dd0c7e5a",
   "metadata": {},
   "outputs": [
    {
     "name": "stdout",
     "output_type": "stream",
     "text": [
      "\u001b[32mSaved FeatureTable[Frequency] to: ../data/Microbiome/218211_gg2filt-2024.09_other_ftable_P21.qza\u001b[0m\n",
      "\u001b[0m\u001b[32mSaved FeatureTable[Frequency] to: ../data/Microbiome/218211_gg2filt-2024.09_other_ftable_P15.qza\u001b[0m\n",
      "\u001b[0m\u001b[32mSaved FeatureTable[Frequency] to: ../data/Microbiome/218211_gg2filt-2024.09_other_ftable_P1619.qza\u001b[0m\n",
      "\u001b[0m\u001b[32mSaved FeatureTable[Frequency] to: ../data/Microbiome/218211_gg2filt-2024.09_other_ftable_P11.qza\u001b[0m\n",
      "\u001b[0m\u001b[32mSaved FeatureTable[Frequency] to: ../data/Microbiome/218211_gg2filt-2024.09_other_ftable_P12.qza\u001b[0m\n",
      "\u001b[0m\u001b[32mSaved FeatureTable[Frequency] to: ../data/Microbiome/218211_gg2filt-2024.09_other_ftable_P13.qza\u001b[0m\n",
      "\u001b[0m\u001b[32mSaved FeatureTable[Frequency] to: ../data/Microbiome/218211_gg2filt-2024.09_other_ftable_P14.qza\u001b[0m\n",
      "\u001b[0m\u001b[32mSaved FeatureTable[Frequency] to: ../data/Microbiome/218211_gg2filt-2024.09_other_ftable_P20.qza\u001b[0m\n",
      "\u001b[0m"
     ]
    }
   ],
   "source": [
    "!qiime feature-table filter-samples \\\n",
    "    --i-table ../data/Microbiome/218211_gg2filt-2024.09_other_ftable.qza \\\n",
    "    --m-metadata-file ../data/metadata_combined.txt \\\n",
    "    --p-where '[plate]=\"P21\"' \\\n",
    "    --o-filtered-table ../data/Microbiome/218211_gg2filt-2024.09_other_ftable_P21.qza\n",
    "\n",
    "!qiime feature-table filter-samples \\\n",
    "    --i-table ../data/Microbiome/218211_gg2filt-2024.09_other_ftable.qza \\\n",
    "    --m-metadata-file ../data/metadata_combined.txt \\\n",
    "    --p-where '[plate]=\"P15\"' \\\n",
    "    --o-filtered-table ../data/Microbiome/218211_gg2filt-2024.09_other_ftable_P15.qza\n",
    "\n",
    "!qiime feature-table filter-samples \\\n",
    "    --i-table ../data/Microbiome/218211_gg2filt-2024.09_other_ftable.qza \\\n",
    "    --m-metadata-file ../data/metadata_combined.txt \\\n",
    "    --p-where '[plate]=\"P1619\"' \\\n",
    "    --o-filtered-table ../data/Microbiome/218211_gg2filt-2024.09_other_ftable_P1619.qza\n",
    "\n",
    "!qiime feature-table filter-samples \\\n",
    "    --i-table ../data/Microbiome/218211_gg2filt-2024.09_other_ftable.qza \\\n",
    "    --m-metadata-file ../data/metadata_combined.txt \\\n",
    "    --p-where '[plate]=\"P11\"' \\\n",
    "    --o-filtered-table ../data/Microbiome/218211_gg2filt-2024.09_other_ftable_P11.qza\n",
    "\n",
    "!qiime feature-table filter-samples \\\n",
    "    --i-table ../data/Microbiome/218211_gg2filt-2024.09_other_ftable.qza \\\n",
    "    --m-metadata-file ../data/metadata_combined.txt \\\n",
    "    --p-where '[plate]=\"P12\"' \\\n",
    "    --o-filtered-table ../data/Microbiome/218211_gg2filt-2024.09_other_ftable_P12.qza\n",
    "\n",
    "!qiime feature-table filter-samples \\\n",
    "    --i-table ../data/Microbiome/218211_gg2filt-2024.09_other_ftable.qza \\\n",
    "    --m-metadata-file ../data/metadata_combined.txt \\\n",
    "    --p-where '[plate]=\"P13\"' \\\n",
    "    --o-filtered-table ../data/Microbiome/218211_gg2filt-2024.09_other_ftable_P13.qza\n",
    "\n",
    "!qiime feature-table filter-samples \\\n",
    "    --i-table ../data/Microbiome/218211_gg2filt-2024.09_other_ftable.qza \\\n",
    "    --m-metadata-file ../data/metadata_combined.txt \\\n",
    "    --p-where '[plate]=\"P14\"' \\\n",
    "    --o-filtered-table ../data/Microbiome/218211_gg2filt-2024.09_other_ftable_P14.qza\n",
    "\n",
    "!qiime feature-table filter-samples \\\n",
    "    --i-table ../data/Microbiome/218211_gg2filt-2024.09_other_ftable.qza \\\n",
    "    --m-metadata-file ../data/metadata_combined.txt \\\n",
    "    --p-where '[plate]=\"P20\"' \\\n",
    "    --o-filtered-table ../data/Microbiome/218211_gg2filt-2024.09_other_ftable_P20.qza"
   ]
  },
  {
   "cell_type": "code",
   "execution_count": null,
   "id": "77a4723c",
   "metadata": {},
   "outputs": [],
   "source": [
    "! qiime SCRuB SCRuB \\\n",
    "    --i-table ../data/Microbiome/218211_gg2filt-2024.09_other_ftable_P20.qza \\\n",
    "    --m-metadata-file ../data/scrub_other_P20_metadata.tsv \\\n",
    "    --p-control-idx-column is_control \\\n",
    "    --p-sample-type-column sample_type \\\n",
    "    --p-well-location-column well_id \\\n",
    "    --o-scrubbed ../data/Microbiome/218211_gg2filt-2024.09_other_ftable_P20_scrubbed.qza\n",
    "#ran in scrub environment for all plates"
   ]
  },
  {
   "cell_type": "code",
   "execution_count": null,
   "id": "dee200a8",
   "metadata": {},
   "outputs": [],
   "source": [
    "! qiime SCRuB SCRuB \\\n",
    "    --i-table ../data/Microbiome/218212_gg2filt-2024.09_feces_ftable.qza \\\n",
    "    --m-metadata-file ../data/scrub_fecal_metadata.tsv \\\n",
    "    --p-control-idx-column is_control \\\n",
    "    --p-sample-type-column sample_type \\\n",
    "    --p-well-location-column well_id \\\n",
    "    --o-scrubbed ../data/Microbiome/218212_gg2filt-2024.09_feces_ftable_scrubbed.qza\n",
    "#ran in scrub environment"
   ]
  },
  {
   "cell_type": "code",
   "execution_count": 456,
   "id": "abc94c8a",
   "metadata": {},
   "outputs": [
    {
     "name": "stdout",
     "output_type": "stream",
     "text": [
      "\u001b[32mSaved FeatureTable[Frequency] to: ../data/Microbiome/combined_feature_table.qza\u001b[0m\n",
      "\u001b[0m"
     ]
    }
   ],
   "source": [
    "!qiime feature-table merge \\\n",
    "    --i-tables ../data/Microbiome/218212_gg2filt-2024.09_feces_ftable_scrubbed.qza \\\n",
    "    ../data/Microbiome/218211_gg2filt-2024.09_other_ftable_P21_scrubbed.qza \\\n",
    "    ../data/Microbiome/218211_gg2filt-2024.09_other_ftable_P20_scrubbed.qza \\\n",
    "    ../data/Microbiome/218211_gg2filt-2024.09_other_ftable_P11_scrubbed.qza \\\n",
    "    ../data/Microbiome/218211_gg2filt-2024.09_other_ftable_P12_scrubbed.qza \\\n",
    "    ../data/Microbiome/218211_gg2filt-2024.09_other_ftable_P13_scrubbed.qza \\\n",
    "    ../data/Microbiome/218211_gg2filt-2024.09_other_ftable_P14_scrubbed.qza \\\n",
    "    ../data/Microbiome/218211_gg2filt-2024.09_other_ftable_P15_scrubbed.qza \\\n",
    "    ../data/Microbiome/218211_gg2filt-2024.09_other_ftable_P1619_scrubbed.qza \\\n",
    "    --p-overlap-method 'error_on_overlapping_sample' \\\n",
    "    --o-merged-table ../data/Microbiome/combined_feature_table.qza\n",
    "#already filtered against gg2 2024.09 on Qiita and SCRuBbed for contamination (low biomass samples)"
   ]
  },
  {
   "cell_type": "code",
   "execution_count": 457,
   "id": "7e26b3d6",
   "metadata": {},
   "outputs": [
    {
     "name": "stdout",
     "output_type": "stream",
     "text": [
      "\u001b[32mSaved FeatureTable[Frequency] to: ../data/Microbiome/combined_ftable_cov25.qza\u001b[0m\r\n",
      "\u001b[0m"
     ]
    }
   ],
   "source": [
    "!qiime feature-table filter-features \\\n",
    "    --i-table ../data/Microbiome/combined_feature_table.qza \\\n",
    "    --m-metadata-file ../data/Microbiome/sepsis-obs.fecal.wolr2.coverage.tsv \\\n",
    "    --p-where '[percent_covered]>0.25' \\\n",
    "    --o-filtered-table ../data/Microbiome/combined_ftable_cov25.qza\n",
    "#file from using micov, ran by Lucas Patel"
   ]
  },
  {
   "cell_type": "code",
   "execution_count": 458,
   "id": "80a6da02",
   "metadata": {},
   "outputs": [
    {
     "name": "stdout",
     "output_type": "stream",
     "text": [
      "\u001b[32mSaved FeatureTable[Frequency] to: ../data/Microbiome/combined_ftable_cov25_prev1.qza\u001b[0m\r\n",
      "\u001b[0m"
     ]
    }
   ],
   "source": [
    "!qiime feature-table filter-features-conditionally \\\n",
    "    --i-table ../data/Microbiome/combined_ftable_cov25.qza \\\n",
    "    --p-abundance 0.000001 \\\n",
    "    --p-prevalence 0.01 \\\n",
    "    --o-filtered-table ../data/Microbiome/combined_ftable_cov25_prev1.qza\n",
    "#required to be present in at least 1 % of samples and at least 10/10,000,000 reads (0.000001)"
   ]
  },
  {
   "cell_type": "code",
   "execution_count": 459,
   "id": "b1018c62",
   "metadata": {},
   "outputs": [
    {
     "name": "stdout",
     "output_type": "stream",
     "text": [
      "\u001b[32mSaved Visualization to: ../data/Microbiome/combined_ftable_cov25_prev1.qzv\u001b[0m\n",
      "\u001b[0m"
     ]
    }
   ],
   "source": [
    "!qiime feature-table summarize \\\n",
    "    --i-table ../data/Microbiome/combined_ftable_cov25_prev1.qza \\\n",
    "    --m-sample-metadata-file ../data/metadata_combined.txt \\\n",
    "    --o-visualization ../data/Microbiome/combined_ftable_cov25_prev1.qzv"
   ]
  },
  {
   "cell_type": "code",
   "execution_count": 461,
   "id": "83b8810d",
   "metadata": {},
   "outputs": [
    {
     "name": "stdout",
     "output_type": "stream",
     "text": [
      "\u001b[32mExported ../data/Microbiome/combined_ftable_cov25_prev1.qza as BIOMV210DirFmt to directory ../data/Microbiome/combined_ftable_cov25_prev1\u001b[0m\n",
      "\u001b[0m"
     ]
    }
   ],
   "source": [
    "!qiime tools export \\\n",
    "    --input-path ../data/Microbiome/combined_ftable_cov25_prev1.qza \\\n",
    "    --output-path ../data/Microbiome/combined_ftable_cov25_prev1"
   ]
  },
  {
   "cell_type": "code",
   "execution_count": 6,
   "id": "28036a6b",
   "metadata": {},
   "outputs": [
    {
     "name": "stdout",
     "output_type": "stream",
     "text": [
      "\u001b[32mSaved FeatureData[Taxonomy] to: ../data/Microbiome/sepsis_taxonomy.qza\u001b[0m\r\n",
      "\u001b[0m"
     ]
    }
   ],
   "source": [
    "!qiime greengenes2 taxonomy-from-table \\\n",
    "    --i-reference-taxonomy ../../greengenes2/2024.09.taxonomy.id.nwk.qza \\\n",
    "    --i-table ../data/Microbiome/combined_ftable_cov25_prev1.qza \\\n",
    "    --o-classification ../data/Microbiome/sepsis_taxonomy.qza"
   ]
  },
  {
   "cell_type": "markdown",
   "id": "717954a0",
   "metadata": {},
   "source": [
    "## Alpha Diversity"
   ]
  },
  {
   "cell_type": "code",
   "execution_count": 9,
   "id": "6a2a773b",
   "metadata": {},
   "outputs": [
    {
     "name": "stdout",
     "output_type": "stream",
     "text": [
      "\u001b[32mSaved FeatureTable[Frequency] to: ../data/Microbiome/combined_ftable_both_feces_rar500K.qza\u001b[0m\n",
      "\u001b[0m\u001b[?25h\u001b[32mSaved FeatureTable[Frequency] to: ../data/Microbiome/combined_ftable_infant_skin_rar300K.qza\u001b[0m\n",
      "\u001b[0m\u001b[?25h\u001b[32mSaved FeatureTable[Frequency] to: ../data/Microbiome/combined_ftable_infant_tongue_rar20K.qza\u001b[0m\n",
      "\u001b[0m\u001b[?25h\u001b[32mSaved FeatureTable[Frequency] to: ../data/Microbiome/combined_ftable_adult_milk_rar750.qza\u001b[0m\n",
      "\u001b[0m\u001b[?25h\u001b[32mSaved FeatureTable[Frequency] to: ../data/Microbiome/combined_ftable_adult_vagina_rar600.qza\u001b[0m\n",
      "\u001b[0m\u001b[?25h"
     ]
    }
   ],
   "source": [
    "!qiime feature-table rarefy \\\n",
    "    --i-table ../data/Microbiome/combined_ftable_both_feces.qza \\\n",
    "    --p-sampling-depth 500000 \\\n",
    "    --o-rarefied-table ../data/Microbiome/combined_ftable_both_feces_rar500K.qza\n",
    "\n",
    "!qiime feature-table rarefy \\\n",
    "    --i-table ../data/Microbiome/combined_ftable_infant_skin.qza \\\n",
    "    --p-sampling-depth 300000 \\\n",
    "    --o-rarefied-table ../data/Microbiome/combined_ftable_infant_skin_rar300K.qza\n",
    "\n",
    "!qiime feature-table rarefy \\\n",
    "    --i-table ../data/Microbiome/combined_ftable_infant_tongue.qza \\\n",
    "    --p-sampling-depth 20000 \\\n",
    "    --o-rarefied-table ../data/Microbiome/combined_ftable_infant_tongue_rar20K.qza\n",
    "\n",
    "!qiime feature-table rarefy \\\n",
    "    --i-table ../data/Microbiome/combined_ftable_adult_milk.qza \\\n",
    "    --p-sampling-depth 750 \\\n",
    "    --o-rarefied-table ../data/Microbiome/combined_ftable_adult_milk_rar750.qza\n",
    "\n",
    "!qiime feature-table rarefy \\\n",
    "    --i-table ../data/Microbiome/combined_ftable_adult_vagina.qza \\\n",
    "    --p-sampling-depth 600 \\\n",
    "    --o-rarefied-table ../data/Microbiome/combined_ftable_adult_vagina_rar600.qza"
   ]
  },
  {
   "cell_type": "code",
   "execution_count": 10,
   "id": "d7583af4",
   "metadata": {},
   "outputs": [
    {
     "name": "stdout",
     "output_type": "stream",
     "text": [
      "\u001b[32mSaved SampleData[AlphaDiversity] to: ../data/Microbiome/each_body_site_faith-pd/faith_feces_rar500K.qza\u001b[0m\n",
      "\u001b[0m\u001b[?25h\u001b[32mSaved SampleData[AlphaDiversity] to: ../data/Microbiome/each_body_site_faith-pd/faith_infant_skin_rar300K.qza\u001b[0m\n",
      "\u001b[0m\u001b[?25h\u001b[32mSaved SampleData[AlphaDiversity] to: ../data/Microbiome/each_body_site_faith-pd/faith_infant_tongue_rar20K.qza\u001b[0m\n",
      "\u001b[0m\u001b[?25h\u001b[32mSaved SampleData[AlphaDiversity] to: ../data/Microbiome/each_body_site_faith-pd/faith_adult_milk_rar750.qza\u001b[0m\n",
      "\u001b[0m\u001b[?25h\u001b[32mSaved SampleData[AlphaDiversity] to: ../data/Microbiome/each_body_site_faith-pd/faith_adult_vagina_rar600.qza\u001b[0m\n",
      "\u001b[0m\u001b[?25h"
     ]
    }
   ],
   "source": [
    "!qiime diversity alpha-phylogenetic \\\n",
    "    --i-table ../data/Microbiome/combined_ftable_both_feces_rar500K.qza \\\n",
    "    --i-phylogeny ../../greengenes2/2024.09.phylogeny.id.nwk.qza \\\n",
    "    --p-metric faith_pd \\\n",
    "    --o-alpha-diversity ../data/Microbiome/each_body_site_faith-pd/faith_feces_rar500K.qza\n",
    "\n",
    "!qiime diversity alpha-phylogenetic \\\n",
    "    --i-table ../data/Microbiome/combined_ftable_infant_skin_rar300K.qza \\\n",
    "    --i-phylogeny ../../greengenes2/2024.09.phylogeny.id.nwk.qza \\\n",
    "    --p-metric faith_pd \\\n",
    "    --o-alpha-diversity ../data/Microbiome/each_body_site_faith-pd/faith_infant_skin_rar300K.qza\n",
    "\n",
    "!qiime diversity alpha-phylogenetic \\\n",
    "    --i-table ../data/Microbiome/combined_ftable_infant_tongue_rar20K.qza \\\n",
    "    --i-phylogeny ../../greengenes2/2024.09.phylogeny.id.nwk.qza \\\n",
    "    --p-metric faith_pd \\\n",
    "    --o-alpha-diversity ../data/Microbiome/each_body_site_faith-pd/faith_infant_tongue_rar20K.qza\n",
    "\n",
    "!qiime diversity alpha-phylogenetic \\\n",
    "    --i-table ../data/Microbiome/combined_ftable_adult_milk_rar750.qza \\\n",
    "    --i-phylogeny ../../greengenes2/2024.09.phylogeny.id.nwk.qza \\\n",
    "    --p-metric faith_pd \\\n",
    "    --o-alpha-diversity ../data/Microbiome/each_body_site_faith-pd/faith_adult_milk_rar750.qza\n",
    "\n",
    "!qiime diversity alpha-phylogenetic \\\n",
    "    --i-table ../data/Microbiome/combined_ftable_adult_vagina_rar600.qza \\\n",
    "    --i-phylogeny ../../greengenes2/2024.09.phylogeny.id.nwk.qza \\\n",
    "    --p-metric faith_pd \\\n",
    "    --o-alpha-diversity ../data/Microbiome/each_body_site_faith-pd/faith_adult_vagina_rar600.qza"
   ]
  },
  {
   "cell_type": "code",
   "execution_count": 11,
   "id": "8f0ca173",
   "metadata": {},
   "outputs": [
    {
     "name": "stdout",
     "output_type": "stream",
     "text": [
      "\u001b[32mExported ../data/Microbiome/each_body_site_faith-pd/faith_feces_rar500K.qza as AlphaDiversityDirectoryFormat to directory ../data/Microbiome/each_body_site_faith-pd/faith_feces_rar500K\u001b[0m\n",
      "\u001b[0m\u001b[?25h\u001b[32mExported ../data/Microbiome/each_body_site_faith-pd/faith_infant_skin_rar300K.qza as AlphaDiversityDirectoryFormat to directory ../data/Microbiome/each_body_site_faith-pd/faith_infant_skin_rar300K\u001b[0m\n",
      "\u001b[0m\u001b[?25h\u001b[32mExported ../data/Microbiome/each_body_site_faith-pd/faith_infant_tongue_rar20K.qza as AlphaDiversityDirectoryFormat to directory ../data/Microbiome/each_body_site_faith-pd/faith_infant_tongue_rar20K\u001b[0m\n",
      "\u001b[0m\u001b[?25h\u001b[32mExported ../data/Microbiome/each_body_site_faith-pd/faith_adult_milk_rar750.qza as AlphaDiversityDirectoryFormat to directory ../data/Microbiome/each_body_site_faith-pd/faith_adult_milk_rar750\u001b[0m\n",
      "\u001b[0m\u001b[?25h\u001b[32mExported ../data/Microbiome/each_body_site_faith-pd/faith_adult_vagina_rar600.qza as AlphaDiversityDirectoryFormat to directory ../data/Microbiome/each_body_site_faith-pd/faith_adult_vagina_rar600\u001b[0m\n",
      "\u001b[0m\u001b[?25h"
     ]
    }
   ],
   "source": [
    "!qiime tools export \\\n",
    "    --input-path ../data/Microbiome/each_body_site_faith-pd/faith_feces_rar500K.qza \\\n",
    "    --output-path ../data/Microbiome/each_body_site_faith-pd/faith_feces_rar500K\n",
    "\n",
    "!qiime tools export \\\n",
    "    --input-path ../data/Microbiome/each_body_site_faith-pd/faith_infant_skin_rar300K.qza \\\n",
    "    --output-path ../data/Microbiome/each_body_site_faith-pd/faith_infant_skin_rar300K\n",
    "\n",
    "!qiime tools export \\\n",
    "    --input-path ../data/Microbiome/each_body_site_faith-pd/faith_infant_tongue_rar20K.qza \\\n",
    "    --output-path ../data/Microbiome/each_body_site_faith-pd/faith_infant_tongue_rar20K\n",
    "\n",
    "!qiime tools export \\\n",
    "    --input-path ../data/Microbiome/each_body_site_faith-pd/faith_adult_milk_rar750.qza \\\n",
    "    --output-path ../data/Microbiome/each_body_site_faith-pd/faith_adult_milk_rar750\n",
    "\n",
    "!qiime tools export \\\n",
    "    --input-path ../data/Microbiome/each_body_site_faith-pd/faith_adult_vagina_rar600.qza \\\n",
    "    --output-path ../data/Microbiome/each_body_site_faith-pd/faith_adult_vagina_rar600"
   ]
  },
  {
   "cell_type": "code",
   "execution_count": 1,
   "id": "5b1c2c0f",
   "metadata": {},
   "outputs": [
    {
     "name": "stdout",
     "output_type": "stream",
     "text": [
      "/Users/callaband/miniforge3/envs/qiime2-amplicon-2025.4/lib/python3.10/site-packages/qiime2/core/cache.py:468: UserWarning: Your temporary cache was found to be in an inconsistent state. It has been recreated.\n",
      "  warnings.warn(\n",
      "\u001b[32mSaved SampleData[AlphaDiversity] to: ../data/Microbiome/each_body_site_faith-pd/shannon_feces_rar500K.qza\u001b[0m\n",
      "\u001b[0m\u001b[?25h"
     ]
    }
   ],
   "source": [
    "!qiime diversity alpha \\\n",
    "    --i-table ../data/Microbiome/combined_ftable_both_feces_rar500K.qza \\\n",
    "    --p-metric shannon \\\n",
    "    --o-alpha-diversity ../data/Microbiome/each_body_site_faith-pd/shannon_feces_rar500K.qza"
   ]
  },
  {
   "cell_type": "code",
   "execution_count": 2,
   "id": "88a50f56",
   "metadata": {},
   "outputs": [
    {
     "name": "stdout",
     "output_type": "stream",
     "text": [
      "\u001b[32mExported ../data/Microbiome/each_body_site_faith-pd/shannon_feces_rar500K.qza as AlphaDiversityDirectoryFormat to directory ../data/Microbiome/each_body_site_faith-pd/shannon_feces_rar500K\u001b[0m\n",
      "\u001b[0m\u001b[?25h"
     ]
    }
   ],
   "source": [
    "!qiime tools export \\\n",
    "    --input-path ../data/Microbiome/each_body_site_faith-pd/shannon_feces_rar500K.qza \\\n",
    "    --output-path ../data/Microbiome/each_body_site_faith-pd/shannon_feces_rar500K"
   ]
  },
  {
   "cell_type": "markdown",
   "id": "b85fcd36",
   "metadata": {},
   "source": [
    "# Subsets"
   ]
  },
  {
   "cell_type": "code",
   "execution_count": 5,
   "id": "20edb2e1",
   "metadata": {},
   "outputs": [
    {
     "name": "stdout",
     "output_type": "stream",
     "text": [
      "\u001b[32mSaved FeatureTable[Frequency] to: ../data/Microbiome/combined_ftable_infant.qza\u001b[0m\n",
      "\u001b[0m\u001b[?25h\u001b[32mSaved FeatureTable[Frequency] to: ../data/Microbiome/combined_ftable_adult.qza\u001b[0m\n",
      "\u001b[0m\u001b[?25h"
     ]
    }
   ],
   "source": [
    "!qiime feature-table filter-samples \\\n",
    "    --i-table ../data/Microbiome/combined_ftable_noblanks.qza \\\n",
    "    --m-metadata-file ../data/metadata_combined.txt \\\n",
    "    --p-where \"[host_life_stage]='infant'\" \\\n",
    "    --o-filtered-table ../data/Microbiome/combined_ftable_infant.qza\n",
    "    \n",
    "!qiime feature-table filter-samples \\\n",
    "    --i-table ../data/Microbiome/combined_ftable_noblanks.qza \\\n",
    "    --m-metadata-file ../data/metadata_combined.txt \\\n",
    "    --p-where \"[host_life_stage]='adult'\" \\\n",
    "    --o-filtered-table ../data/Microbiome/combined_ftable_adult.qza\n",
    "#samples to keep, adult has single timepoints"
   ]
  },
  {
   "cell_type": "code",
   "execution_count": 6,
   "id": "88f5958c",
   "metadata": {},
   "outputs": [
    {
     "name": "stdout",
     "output_type": "stream",
     "text": [
      "\u001b[32mSaved FeatureTable[Frequency] to: ../data/Microbiome/combined_ftable_both_feces.qza\u001b[0m\r\n",
      "\u001b[0m\u001b[?25h"
     ]
    }
   ],
   "source": [
    "!qiime feature-table filter-samples \\\n",
    "    --i-table ../data/Microbiome/combined_ftable_noblanks.qza \\\n",
    "    --m-metadata-file ../data/metadata_combined.txt \\\n",
    "    --p-where \"[sample_type]='feces'\" \\\n",
    "    --o-filtered-table ../data/Microbiome/combined_ftable_both_feces.qza"
   ]
  },
  {
   "cell_type": "code",
   "execution_count": 7,
   "id": "25c8c66c",
   "metadata": {},
   "outputs": [
    {
     "name": "stdout",
     "output_type": "stream",
     "text": [
      "\u001b[32mSaved FeatureTable[Frequency] to: ../data/Microbiome/combined_ftable_infant_feces.qza\u001b[0m\n",
      "\u001b[0m\u001b[?25h\u001b[32mSaved FeatureTable[Frequency] to: ../data/Microbiome/combined_ftable_infant_skin.qza\u001b[0m\n",
      "\u001b[0m\u001b[?25h\u001b[32mSaved FeatureTable[Frequency] to: ../data/Microbiome/combined_ftable_infant_tongue.qza\u001b[0m\n",
      "\u001b[0m\u001b[?25h"
     ]
    }
   ],
   "source": [
    "!qiime feature-table filter-samples \\\n",
    "    --i-table ../data/Microbiome/combined_ftable_infant.qza \\\n",
    "    --m-metadata-file ../data/metadata_combined.txt \\\n",
    "    --p-where \"[sample_type]='feces'\" \\\n",
    "    --o-filtered-table ../data/Microbiome/combined_ftable_infant_feces.qza\n",
    "\n",
    "!qiime feature-table filter-samples \\\n",
    "    --i-table ../data/Microbiome/combined_ftable_infant.qza \\\n",
    "    --m-metadata-file ../data/metadata_combined.txt \\\n",
    "    --p-where \"[sample_type]='skin of arm'\" \\\n",
    "    --o-filtered-table ../data/Microbiome/combined_ftable_infant_skin.qza\n",
    "\n",
    "!qiime feature-table filter-samples \\\n",
    "    --i-table ../data/Microbiome/combined_ftable_infant.qza \\\n",
    "    --m-metadata-file ../data/metadata_combined.txt \\\n",
    "    --p-where \"[sample_type]='tongue'\" \\\n",
    "    --o-filtered-table ../data/Microbiome/combined_ftable_infant_tongue.qza"
   ]
  },
  {
   "cell_type": "code",
   "execution_count": 8,
   "id": "8056850a",
   "metadata": {},
   "outputs": [
    {
     "name": "stdout",
     "output_type": "stream",
     "text": [
      "\u001b[32mSaved FeatureTable[Frequency] to: ../data/Microbiome/combined_ftable_adult_feces.qza\u001b[0m\n",
      "\u001b[0m\u001b[?25h\u001b[32mSaved FeatureTable[Frequency] to: ../data/Microbiome/combined_ftable_adult_milk.qza\u001b[0m\n",
      "\u001b[0m\u001b[?25h\u001b[32mSaved FeatureTable[Frequency] to: ../data/Microbiome/combined_ftable_adult_vagina.qza\u001b[0m\n",
      "\u001b[0m\u001b[?25h"
     ]
    }
   ],
   "source": [
    "!qiime feature-table filter-samples \\\n",
    "    --i-table ../data/Microbiome/combined_ftable_adult.qza \\\n",
    "    --m-metadata-file ../data/metadata_combined.txt \\\n",
    "    --p-where \"[sample_type]='feces'\" \\\n",
    "    --o-filtered-table ../data/Microbiome/combined_ftable_adult_feces.qza\n",
    "\n",
    "!qiime feature-table filter-samples \\\n",
    "    --i-table ../data/Microbiome/combined_ftable_adult.qza \\\n",
    "    --m-metadata-file ../data/metadata_combined.txt \\\n",
    "    --p-where \"[sample_type]='breast milk'\" \\\n",
    "    --o-filtered-table ../data/Microbiome/combined_ftable_adult_milk.qza\n",
    "\n",
    "!qiime feature-table filter-samples \\\n",
    "    --i-table ../data/Microbiome/combined_ftable_adult.qza \\\n",
    "    --m-metadata-file ../data/metadata_combined.txt \\\n",
    "    --p-where \"[sample_type]='vaginal mucus'\" \\\n",
    "    --o-filtered-table ../data/Microbiome/combined_ftable_adult_vagina.qza"
   ]
  },
  {
   "cell_type": "code",
   "execution_count": 15,
   "id": "a3f65589",
   "metadata": {},
   "outputs": [
    {
     "name": "stdout",
     "output_type": "stream",
     "text": [
      "\u001b[32mSaved FeatureTable[Frequency] to: ../data/Microbiome/ftable_adult_feces_min10-5.qza\u001b[0m\r\n",
      "\u001b[0m"
     ]
    }
   ],
   "source": [
    "!qiime feature-table filter-samples \\\n",
    "    --i-table ../data/Microbiome/combined_ftable_adult_feces.qza \\\n",
    "    --p-min-frequency 100000 \\\n",
    "    --o-filtered-table ../data/Microbiome/ftable_adult_feces_min10-5.qza"
   ]
  },
  {
   "cell_type": "code",
   "execution_count": 16,
   "id": "cef1f4e8",
   "metadata": {},
   "outputs": [
    {
     "name": "stdout",
     "output_type": "stream",
     "text": [
      "\u001b[32mSaved FeatureTable[Frequency] to: ../data/Microbiome/ftable_adult_feces_min10-5_genus.qza\u001b[0m\n",
      "\u001b[0m"
     ]
    }
   ],
   "source": [
    "!qiime taxa collapse \\\n",
    "    --i-table ../data/Microbiome/ftable_adult_feces_min10-5.qza \\\n",
    "    --i-taxonomy ../data/Microbiome/sepsis_taxonomy.qza \\\n",
    "    --p-level 6 \\\n",
    "    --o-collapsed-table ../data/Microbiome/ftable_adult_feces_min10-5_genus.qza"
   ]
  },
  {
   "cell_type": "code",
   "execution_count": 23,
   "id": "7487c66b",
   "metadata": {},
   "outputs": [
    {
     "name": "stdout",
     "output_type": "stream",
     "text": [
      "\u001b[32mSaved Visualization to: ../data/Microbiome/combined_ftable_adult_vagina.qzv\u001b[0m\n",
      "\u001b[0m"
     ]
    }
   ],
   "source": [
    "!qiime feature-table summarize \\\n",
    "    --i-table ../data/Microbiome/combined_ftable_adult_vagina.qza \\\n",
    "    --m-sample-metadata-file ../data/metadata_combined.txt \\\n",
    "    --o-visualization ../data/Microbiome/combined_ftable_adult_vagina.qzv"
   ]
  },
  {
   "cell_type": "markdown",
   "id": "3dfc76f4",
   "metadata": {},
   "source": [
    "### Differential Abundance: ANCOM-BC"
   ]
  },
  {
   "cell_type": "markdown",
   "id": "3c904b99",
   "metadata": {},
   "source": [
    "#### Early"
   ]
  },
  {
   "cell_type": "code",
   "execution_count": 479,
   "id": "6640753e",
   "metadata": {},
   "outputs": [
    {
     "name": "stdout",
     "output_type": "stream",
     "text": [
      "\u001b[32mSaved FeatureTable[Frequency] to: ../data/Microbiome/combined_ftable_infant_feces_early.qza\u001b[0m\n",
      "\u001b[0m"
     ]
    }
   ],
   "source": [
    "!qiime feature-table filter-samples \\\n",
    "    --i-table ../data/Microbiome/combined_ftable_infant_feces.qza \\\n",
    "    --m-metadata-file ../data/metadata_combined.txt \\\n",
    "    --p-where \"[host_age_infant]<30\" \\\n",
    "    --o-filtered-table ../data/Microbiome/combined_ftable_infant_feces_early.qza\n",
    "#keeps samples less than 30 days old"
   ]
  },
  {
   "cell_type": "code",
   "execution_count": 480,
   "id": "cfd1a1f5",
   "metadata": {},
   "outputs": [
    {
     "name": "stdout",
     "output_type": "stream",
     "text": [
      "\u001b[32mSaved FeatureTable[Frequency] to: ../data/Microbiome/ftable_infant_feces_early_genus.qza\u001b[0m\n",
      "\u001b[0m\u001b[32mSaved FeatureTable[Frequency] to: ../data/Microbiome/ftable_infant_feces_early_species.qza\u001b[0m\n",
      "\u001b[0m"
     ]
    }
   ],
   "source": [
    "!qiime taxa collapse \\\n",
    "    --i-table ../data/Microbiome/combined_ftable_infant_feces_early.qza \\\n",
    "    --i-taxonomy ../data/Microbiome/sepsis_taxonomy.qza \\\n",
    "    --p-level 6 \\\n",
    "    --o-collapsed-table ../data/Microbiome/ftable_infant_feces_early_genus.qza\n",
    "\n",
    "!qiime taxa collapse \\\n",
    "    --i-table ../data/Microbiome/combined_ftable_infant_feces_early.qza \\\n",
    "    --i-taxonomy ../data/Microbiome/sepsis_taxonomy.qza \\\n",
    "    --p-level 7 \\\n",
    "    --o-collapsed-table ../data/Microbiome/ftable_infant_feces_early_species.qza"
   ]
  },
  {
   "cell_type": "code",
   "execution_count": 483,
   "id": "25f6b1bd",
   "metadata": {},
   "outputs": [
    {
     "name": "stdout",
     "output_type": "stream",
     "text": [
      "\u001b[32mSaved FeatureData[DifferentialAbundance] to: ../data/Microbiome/infant_fecal_early_ancombc_differentials4.qza\u001b[0m\r\n",
      "\u001b[0m"
     ]
    }
   ],
   "source": [
    "!qiime composition ancombc \\\n",
    "    --i-table ../data/Microbiome/ftable_infant_feces_early_species.qza \\\n",
    "    --m-metadata-file ../data/metadata_combined.txt \\\n",
    "    --p-formula 'mode_delivery + drink_water_safe_simplified + fp_crosssec_cat + fp_long_cat' \\\n",
    "    --p-reference-levels mode_delivery::'Vaginal' drink_water_safe_simplified::'no water treatment' fp_crosssec_cat::'EBF' fp_long_cat::'EBF' \\\n",
    "    --o-differentials ../data/Microbiome/infant_fecal_early_ancombc_differentials4.qza"
   ]
  },
  {
   "cell_type": "code",
   "execution_count": 482,
   "id": "e93d8a4c",
   "metadata": {},
   "outputs": [
    {
     "name": "stdout",
     "output_type": "stream",
     "text": [
      "\u001b[32mSaved Visualization to: ../data/Microbiome/infant_fecal_early_ancombc_differentials3.qzv\u001b[0m\r\n",
      "\u001b[0m"
     ]
    }
   ],
   "source": [
    "!qiime composition da-barplot \\\n",
    "  --i-data ../data/Microbiome/infant_fecal_early_ancombc_differentials3.qza \\\n",
    "  --p-significance-threshold 0.05 \\\n",
    "  --p-effect-size-threshold 2 \\\n",
    "  --p-level-delimiter ';' \\\n",
    "  --o-visualization ../data/Microbiome/infant_fecal_early_ancombc_differentials3.qzv"
   ]
  },
  {
   "cell_type": "markdown",
   "id": "292ef2cd",
   "metadata": {},
   "source": [
    "#### Early vs Late, Species Level"
   ]
  },
  {
   "cell_type": "code",
   "execution_count": 545,
   "id": "db549acd",
   "metadata": {},
   "outputs": [
    {
     "name": "stdout",
     "output_type": "stream",
     "text": [
      "\u001b[32mSaved FeatureTable[Frequency] to: ../data/Microbiome/ftable_infant_feces_min10-5.qza\u001b[0m\n",
      "\u001b[0m\u001b[32mSaved FeatureTable[Frequency] to: ../data/Microbiome/ftable_infant_skin_min10-5.qza\u001b[0m\n",
      "\u001b[0m\u001b[32mSaved FeatureTable[Frequency] to: ../data/Microbiome/ftable_infant_tongue_min10-5.qza\u001b[0m\n",
      "\u001b[0m"
     ]
    }
   ],
   "source": [
    "!qiime feature-table filter-samples \\\n",
    "    --i-table ../data/Microbiome/combined_ftable_infant_feces.qza \\\n",
    "    --p-min-frequency 100000 \\\n",
    "    --o-filtered-table ../data/Microbiome/ftable_infant_feces_min10-5.qza\n",
    "\n",
    "!qiime feature-table filter-samples \\\n",
    "    --i-table ../data/Microbiome/combined_ftable_infant_skin.qza \\\n",
    "    --p-min-frequency 100000 \\\n",
    "    --o-filtered-table ../data/Microbiome/ftable_infant_skin_min10-5.qza\n",
    "\n",
    "!qiime feature-table filter-samples \\\n",
    "    --i-table ../data/Microbiome/combined_ftable_infant_tongue.qza \\\n",
    "    --p-min-frequency 100000 \\\n",
    "    --o-filtered-table ../data/Microbiome/ftable_infant_tongue_min10-5.qza"
   ]
  },
  {
   "cell_type": "code",
   "execution_count": 550,
   "id": "8c4aaac6",
   "metadata": {},
   "outputs": [
    {
     "name": "stdout",
     "output_type": "stream",
     "text": [
      "\u001b[32mSaved FeatureTable[Frequency] to: ../data/Microbiome/ftable_infant_feces_min10-5_genus.qza\u001b[0m\n",
      "\u001b[0m\u001b[32mSaved FeatureTable[Frequency] to: ../data/Microbiome/ftable_infant_skin_min10-5_genus.qza\u001b[0m\n",
      "\u001b[0m\u001b[32mSaved FeatureTable[Frequency] to: ../data/Microbiome/ftable_infant_oral_min10-5_genus.qza\u001b[0m\n",
      "\u001b[0m"
     ]
    }
   ],
   "source": [
    "!qiime taxa collapse \\\n",
    "    --i-table ../data/Microbiome/ftable_infant_feces_min10-5.qza \\\n",
    "    --i-taxonomy ../data/Microbiome/sepsis_taxonomy.qza \\\n",
    "    --p-level 6 \\\n",
    "    --o-collapsed-table ../data/Microbiome/ftable_infant_feces_min10-5_genus.qza\n",
    "\n",
    "!qiime taxa collapse \\\n",
    "    --i-table ../data/Microbiome/ftable_infant_skin_min10-5.qza \\\n",
    "    --i-taxonomy ../data/Microbiome/sepsis_taxonomy.qza \\\n",
    "    --p-level 6 \\\n",
    "    --o-collapsed-table ../data/Microbiome/ftable_infant_skin_min10-5_genus.qza\n",
    "\n",
    "!qiime taxa collapse \\\n",
    "    --i-table ../data/Microbiome/ftable_infant_tongue_min10-5.qza \\\n",
    "    --i-taxonomy ../data/Microbiome/sepsis_taxonomy.qza \\\n",
    "    --p-level 6 \\\n",
    "    --o-collapsed-table ../data/Microbiome/ftable_infant_oral_min10-5_genus.qza"
   ]
  },
  {
   "cell_type": "code",
   "execution_count": null,
   "id": "974b482c-bd63-47f2-8147-d92c0500c8f6",
   "metadata": {},
   "outputs": [],
   "source": [
    "!qiime composition ancombc2 \\\n",
    "    --i-table ../data/Microbiome/ftable_infant_feces_min10-5_genus.qza \\\n",
    "    --m-metadata-file ../data/metadata_combined.txt \\\n",
    "    --p-fixed-effects-formula 'drink_water_safe_simplified' \\\n",
    "    --p-random-effects-formula '1 | host_subject_id' \\\n",
    "    --p-reference-levels drink_water_safe_simplified::'Untreated' \\\n",
    "    --o-ancombc2-output ../data/Microbiome/ancombc2/infant_fecal_genus_ancombc2_differentials_water-binary.qza\n",
    "\n",
    "!qiime composition ancombc2-visualizer \\\n",
    "  --i-data ../data/Microbiome/ancombc2/infant_fecal_genus_ancombc2_differentials_water-binary.qza \\\n",
    "  --o-visualization ../data/Microbiome/ancombc2/infant_fecal_genus_ancombc2_water-binary.qzv\n",
    "\n",
    "!qiime tools export \\\n",
    "    --input-path ../data/Microbiome/ancombc2/infant_fecal_genus_ancombc2_differentials_water-binary.qza \\\n",
    "    --output-path ../data/Microbiome/ancombc2/infant_fecal_genus_ancombc2_differentials_water-binary"
   ]
  },
  {
   "cell_type": "code",
   "execution_count": null,
   "id": "3230a341",
   "metadata": {},
   "outputs": [],
   "source": [
    "!qiime composition ancombc2 \\\n",
    "    --i-table ../data/Microbiome/ancombc2/ftable_infant_feces_min10-5_species.qza \\\n",
    "    --m-metadata-file ../data/metadata_combined.txt \\\n",
    "    --p-fixed-effects-formula '30d_cat' \\\n",
    "    --p-random-effects-formula '1 | host_subject_id' \\\n",
    "    --p-reference-levels 30d_cat::'30 days of age or less' \\\n",
    "    --o-ancombc2-output ../data/Microbiome/ancombc2/infant_fecal_ancombc2_differentials_early-late.qza\n",
    "        \n",
    "!qiime composition ancombc2 \\\n",
    "    --i-table ../data/Microbiome/ancombc2/ftable_infant_skin_min10-5_species.qza \\\n",
    "    --m-metadata-file ../data/metadata_combined.txt \\\n",
    "    --p-fixed-effects-formula '30d_cat' \\\n",
    "    #--p-random-effects-formula '1 | host_subject_id' \\\n",
    "    --p-reference-levels 30d_cat::'30 days of age or less' \\\n",
    "    --o-ancombc2-output ../data/Microbiome/ancombc2/infant_skin_ancombc2_differentials_early-late.qza\n",
    "\n",
    "!qiime composition ancombc2 \\\n",
    "    --i-table ../data/Microbiome/ancombc2/ftable_infant_oral_min10-5_species.qza \\\n",
    "    --m-metadata-file ../data/metadata_combined.txt \\\n",
    "    --p-random-effects-formula '1 | host_subject_id' \\\n",
    "    --p-fixed-effects-formula '30d_cat' \\\n",
    "    --p-reference-levels 30d_cat::'30 days of age or less' \\\n",
    "    --o-ancombc2-output ../data/Microbiome/ancombc2/infant_oral_ancombc2_differentials_early-late.qza\n",
    "#host_subject_id as random effect to control for repeated sampling\n",
    "#ran ancombc2 in qiime2-2025.4"
   ]
  },
  {
   "cell_type": "code",
   "execution_count": null,
   "id": "a982d98b",
   "metadata": {},
   "outputs": [],
   "source": [
    "!qiime composition ancombc2-visualizer \\\n",
    "  --i-data ../data/Microbiome/ancombc2/infant_fecal_ancombc2_differentials_early-late.qza \\\n",
    "  --o-visualization ../data/Microbiome/ancombc2/infant_fecal_ancombc2_differentials_early-late.qzv\n",
    "\n",
    "!qiime composition ancombc2-visualizer \\\n",
    "  --i-data ../data/Microbiome/ancombc2/infant_skin_ancombc2_differentials_early-late.qza \\\n",
    "  --o-visualization ../data/Microbiome/ancombc2/infant_skin_ancombc2_differentials_early-late.qzv\n",
    "\n",
    "!qiime composition ancombc2-visualizer \\\n",
    "  --i-data ../data/Microbiome/ancombc2/infant_oral_ancombc_differentials_early-late.qza \\\n",
    "  --o-visualization ../data/Microbiome/ancombc2/infant_oral_ancombc2_differentials_early-late.qzv\n",
    "#ran ancombc2 in qiime2-2025.4"
   ]
  },
  {
   "cell_type": "code",
   "execution_count": null,
   "id": "982aecfc",
   "metadata": {},
   "outputs": [],
   "source": [
    "!qiime composition ancombc2 \\\n",
    "    --i-table ../data/Microbiome/ancombc2/ftable_infant_feces_min10-5_genus.qza \\\n",
    "    --m-metadata-file ../data/metadata_combined.txt \\\n",
    "    --p-fixed-effects-formula '30d_cat' \\\n",
    "    --p-reference-levels 30d_cat::'30 days of age or less' \\\n",
    "    --o-ancombc2-output ../data/Microbiome/ancombc2/infant_fecal_ancombc2_genus-diff_early-late.qza\n",
    "        \n",
    "!qiime composition ancombc2 \\\n",
    "    --i-table ../data/Microbiome/ancombc2/ftable_infant_skin_min10-5_genus.qza \\\n",
    "    --m-metadata-file ../data/metadata_combined.txt \\\n",
    "    --p-fixed-effects-formula '30d_cat' \\\n",
    "    --p-reference-levels 30d_cat::'30 days of age or less' \\\n",
    "    --o-ancombc2-output ../data/Microbiome/ancombc2/infant_skin_ancombc2_genus-diff_early-late.qza\n",
    "\n",
    "!qiime composition ancombc2 \\\n",
    "    --i-table ../data/Microbiome/ancombc2/ftable_infant_oral_min10-5_genus.qza \\\n",
    "    --m-metadata-file ../data/metadata_combined.txt \\\n",
    "    --p-fixed-effects-formula '30d_cat' \\\n",
    "    --p-reference-levels 30d_cat::'30 days of age or less' \\\n",
    "    --o-ancombc2-output ../data/Microbiome/ancombc2/infant_oral_ancombc2_genus-diff_early-late.qza\n",
    "#ran ancombc2 in qiime2-2025.4"
   ]
  },
  {
   "cell_type": "code",
   "execution_count": null,
   "id": "131fb168",
   "metadata": {},
   "outputs": [],
   "source": [
    "!qiime composition ancombc2-visualizer \\\n",
    "  --i-data ../data/Microbiome/ancombc2/infant_fecal_ancombc2_genus-diff_early-late.qza \\\n",
    "  --o-visualization ../data/Microbiome/ancombc2/infant_fecal_ancombc2_genus-diff_early-late.qzv\n",
    "\n",
    "!qiime composition ancombc2-visualizer \\\n",
    "  --i-data ../data/Microbiome/ancombc2/infant_skin_ancombc2_genus-diff_early-late.qza \\\n",
    "  --o-visualization ../data/Microbiome/ancombc2/infant_skin_ancombc2_genus-diff_early-late.qzv\n",
    "\n",
    "!qiime composition ancombc2-visualizer \\\n",
    "  --i-data ../data/Microbiome/ancombc2/infant_oral_ancombc2_genus-diff_early-late.qza \\\n",
    "  --o-visualization ../data/Microbiome/ancombc2/infant_oral_ancombc2_genus-diff_early-late.qzv\n",
    "#ran ancombc2 in qiime2-2025.4"
   ]
  },
  {
   "cell_type": "code",
   "execution_count": null,
   "id": "23f5c049",
   "metadata": {},
   "outputs": [],
   "source": [
    "!qiime composition tabulate \\\n",
    "    --i-data ../data/Microbiome/ancombc2/infant_fecal_ancombc2_genus-diff_early-late.qza \\\n",
    "    --o-visualization ../data/Microbiome/ancombc2/infant_fecal_ancombc2_genus-diff_early-late_table.qzv\n",
    "\n",
    "!qiime composition tabulate \\\n",
    "    --i-data ../data/Microbiome/ancombc2/infant_skin_ancombc2_genus-diff_early-late.qza \\\n",
    "    --o-visualization ../data/Microbiome/ancombc2/infant_skin_ancombc2_genus-diff_early-late_table.qzv\n",
    "\n",
    "!qiime composition tabulate \\\n",
    "    --i-data ../data/Microbiome/ancombc2/infant_oral_ancombc2_genus-diff_early-late.qza \\\n",
    "    --o-visualization ../data/Microbiome/ancombc2/infant_oral_ancombc2_genus-diff_early-late_table.qzv"
   ]
  },
  {
   "cell_type": "code",
   "execution_count": 10,
   "id": "ce49b765",
   "metadata": {},
   "outputs": [],
   "source": [
    "import glob\n",
    "import os\n",
    "import csv\n",
    "import json"
   ]
  },
  {
   "cell_type": "code",
   "execution_count": 7,
   "id": "b54caffb",
   "metadata": {},
   "outputs": [],
   "source": [
    "def convert_jsonl_to_csv(jsonl_filepath, csv_filepath):\n",
    "    all_fieldnames = set()\n",
    "    data_to_write = []\n",
    "\n",
    "    # First pass: Collect all unique fieldnames from the JSONL file\n",
    "    with open(jsonl_filepath, 'r') as infile:\n",
    "        for line in infile:\n",
    "            try:\n",
    "                data = json.loads(line.strip())\n",
    "                all_fieldnames.update(data.keys())\n",
    "                data_to_write.append(data)\n",
    "            except json.JSONDecodeError as e:\n",
    "                print(f\"Error decoding JSON in {jsonl_filepath}: {e}\")\n",
    "                return\n",
    "\n",
    "    # Second pass: Write the data to CSV using all collected fieldnames\n",
    "    if all_fieldnames:\n",
    "        with open(csv_filepath, 'w', newline='') as outfile:\n",
    "            fieldnames_list = sorted(list(all_fieldnames))  # Ensure consistent column order\n",
    "            writer = csv.DictWriter(outfile, fieldnames=fieldnames_list, restval='')\n",
    "            writer.writeheader()\n",
    "            writer.writerows(data_to_write)\n",
    "        print(f\"Converted '{jsonl_filepath}' to '{csv_filepath}'\")\n",
    "    else:\n",
    "        print(f\"No data found in '{jsonl_filepath}' to convert.\")"
   ]
  },
  {
   "cell_type": "code",
   "execution_count": 581,
   "id": "3b07191e",
   "metadata": {},
   "outputs": [
    {
     "name": "stdout",
     "output_type": "stream",
     "text": [
      "Converted '../data/Microbiome/ancombc2/infant_fecal_ancombc2_genus-diff_early-late/p.jsonl' to '../data/Microbiome/ancombc2/infant_fecal_ancombc2_genus-diff_early-late/p.csv'\n",
      "Converted '../data/Microbiome/ancombc2/infant_fecal_ancombc2_genus-diff_early-late/diff.jsonl' to '../data/Microbiome/ancombc2/infant_fecal_ancombc2_genus-diff_early-late/diff.csv'\n",
      "Converted '../data/Microbiome/ancombc2/infant_fecal_ancombc2_genus-diff_early-late/passed_ss.jsonl' to '../data/Microbiome/ancombc2/infant_fecal_ancombc2_genus-diff_early-late/passed_ss.csv'\n",
      "Converted '../data/Microbiome/ancombc2/infant_fecal_ancombc2_genus-diff_early-late/q.jsonl' to '../data/Microbiome/ancombc2/infant_fecal_ancombc2_genus-diff_early-late/q.csv'\n",
      "Converted '../data/Microbiome/ancombc2/infant_fecal_ancombc2_genus-diff_early-late/se.jsonl' to '../data/Microbiome/ancombc2/infant_fecal_ancombc2_genus-diff_early-late/se.csv'\n",
      "Converted '../data/Microbiome/ancombc2/infant_fecal_ancombc2_genus-diff_early-late/W.jsonl' to '../data/Microbiome/ancombc2/infant_fecal_ancombc2_genus-diff_early-late/W.csv'\n",
      "Converted '../data/Microbiome/ancombc2/infant_fecal_ancombc2_genus-diff_early-late/lfc.jsonl' to '../data/Microbiome/ancombc2/infant_fecal_ancombc2_genus-diff_early-late/lfc.csv'\n"
     ]
    }
   ],
   "source": [
    "for x in glob.glob('../data/Microbiome/ancombc2/infant_fecal_ancombc2_genus-diff_early-late/*.jsonl'):\n",
    "    base_name_with_ext = os.path.basename(x)\n",
    "    base_name = base_name_with_ext.split(\".\")[0]\n",
    "    output_dir = os.path.dirname(x)\n",
    "    csv_output_path = os.path.join(output_dir, f\"{base_name}.csv\")\n",
    "    convert_jsonl_to_csv(x, csv_output_path)"
   ]
  },
  {
   "cell_type": "code",
   "execution_count": 582,
   "id": "a3d09a3c",
   "metadata": {},
   "outputs": [
    {
     "name": "stdout",
     "output_type": "stream",
     "text": [
      "Converted '../data/Microbiome/ancombc2/infant_skin_ancombc2_genus-diff_early-late/p.jsonl' to '../data/Microbiome/ancombc2/infant_skin_ancombc2_genus-diff_early-late/p.csv'\n",
      "Converted '../data/Microbiome/ancombc2/infant_skin_ancombc2_genus-diff_early-late/diff.jsonl' to '../data/Microbiome/ancombc2/infant_skin_ancombc2_genus-diff_early-late/diff.csv'\n",
      "Converted '../data/Microbiome/ancombc2/infant_skin_ancombc2_genus-diff_early-late/passed_ss.jsonl' to '../data/Microbiome/ancombc2/infant_skin_ancombc2_genus-diff_early-late/passed_ss.csv'\n",
      "Converted '../data/Microbiome/ancombc2/infant_skin_ancombc2_genus-diff_early-late/q.jsonl' to '../data/Microbiome/ancombc2/infant_skin_ancombc2_genus-diff_early-late/q.csv'\n",
      "Converted '../data/Microbiome/ancombc2/infant_skin_ancombc2_genus-diff_early-late/se.jsonl' to '../data/Microbiome/ancombc2/infant_skin_ancombc2_genus-diff_early-late/se.csv'\n",
      "Converted '../data/Microbiome/ancombc2/infant_skin_ancombc2_genus-diff_early-late/W.jsonl' to '../data/Microbiome/ancombc2/infant_skin_ancombc2_genus-diff_early-late/W.csv'\n",
      "Converted '../data/Microbiome/ancombc2/infant_skin_ancombc2_genus-diff_early-late/lfc.jsonl' to '../data/Microbiome/ancombc2/infant_skin_ancombc2_genus-diff_early-late/lfc.csv'\n"
     ]
    }
   ],
   "source": [
    "for x in glob.glob('../data/Microbiome/ancombc2/infant_skin_ancombc2_genus-diff_early-late/*.jsonl'):\n",
    "    base_name_with_ext = os.path.basename(x)\n",
    "    base_name = base_name_with_ext.split(\".\")[0]\n",
    "    output_dir = os.path.dirname(x)\n",
    "    csv_output_path = os.path.join(output_dir, f\"{base_name}.csv\")\n",
    "    convert_jsonl_to_csv(x, csv_output_path)"
   ]
  },
  {
   "cell_type": "code",
   "execution_count": 583,
   "id": "46064719",
   "metadata": {},
   "outputs": [
    {
     "name": "stdout",
     "output_type": "stream",
     "text": [
      "Converted '../data/Microbiome/ancombc2/infant_oral_ancombc2_genus-diff_early-late/p.jsonl' to '../data/Microbiome/ancombc2/infant_oral_ancombc2_genus-diff_early-late/p.csv'\n",
      "Converted '../data/Microbiome/ancombc2/infant_oral_ancombc2_genus-diff_early-late/diff.jsonl' to '../data/Microbiome/ancombc2/infant_oral_ancombc2_genus-diff_early-late/diff.csv'\n",
      "Converted '../data/Microbiome/ancombc2/infant_oral_ancombc2_genus-diff_early-late/passed_ss.jsonl' to '../data/Microbiome/ancombc2/infant_oral_ancombc2_genus-diff_early-late/passed_ss.csv'\n",
      "Converted '../data/Microbiome/ancombc2/infant_oral_ancombc2_genus-diff_early-late/q.jsonl' to '../data/Microbiome/ancombc2/infant_oral_ancombc2_genus-diff_early-late/q.csv'\n",
      "Converted '../data/Microbiome/ancombc2/infant_oral_ancombc2_genus-diff_early-late/se.jsonl' to '../data/Microbiome/ancombc2/infant_oral_ancombc2_genus-diff_early-late/se.csv'\n",
      "Converted '../data/Microbiome/ancombc2/infant_oral_ancombc2_genus-diff_early-late/W.jsonl' to '../data/Microbiome/ancombc2/infant_oral_ancombc2_genus-diff_early-late/W.csv'\n",
      "Converted '../data/Microbiome/ancombc2/infant_oral_ancombc2_genus-diff_early-late/lfc.jsonl' to '../data/Microbiome/ancombc2/infant_oral_ancombc2_genus-diff_early-late/lfc.csv'\n"
     ]
    }
   ],
   "source": [
    "for x in glob.glob('../data/Microbiome/ancombc2/infant_oral_ancombc2_genus-diff_early-late/*.jsonl'):\n",
    "    base_name_with_ext = os.path.basename(x)\n",
    "    base_name = base_name_with_ext.split(\".\")[0]\n",
    "    output_dir = os.path.dirname(x)\n",
    "    csv_output_path = os.path.join(output_dir, f\"{base_name}.csv\")\n",
    "    convert_jsonl_to_csv(x, csv_output_path)"
   ]
  },
  {
   "cell_type": "code",
   "execution_count": 4,
   "id": "28c40809",
   "metadata": {},
   "outputs": [
    {
     "name": "stdout",
     "output_type": "stream",
     "text": [
      "\u001b[32mSaved FeatureTable[Frequency] to: ../data/Microbiome/ftable_infant_feces_10-30days.qza\u001b[0m\n",
      "\u001b[0m"
     ]
    }
   ],
   "source": [
    "!qiime feature-table filter-samples \\\n",
    "    --i-table ../data/Microbiome/combined_ftable_infant_feces.qza \\\n",
    "    --m-metadata-file ../data/metadata_combined.txt \\\n",
    "    --p-where \"[host_age_infant]<30 AND [host_age_infant]>10\" \\\n",
    "    --o-filtered-table ../data/Microbiome/ftable_infant_feces_10-30days.qza\n",
    "#keeps samples 10-30 days old"
   ]
  },
  {
   "cell_type": "code",
   "execution_count": 5,
   "id": "4b7c35cb",
   "metadata": {},
   "outputs": [
    {
     "name": "stdout",
     "output_type": "stream",
     "text": [
      "\u001b[32mSaved FeatureTable[Frequency] to: ../data/Microbiome/ftable_infant_feces_10-30days_min10-5.qza\u001b[0m\n",
      "\u001b[0m"
     ]
    }
   ],
   "source": [
    "!qiime feature-table filter-samples \\\n",
    "    --i-table ../data/Microbiome/ftable_infant_feces_10-30days.qza \\\n",
    "    --p-min-frequency 100000 \\\n",
    "    --o-filtered-table ../data/Microbiome/ftable_infant_feces_10-30days_min10-5.qza"
   ]
  },
  {
   "cell_type": "code",
   "execution_count": 6,
   "id": "34af6514",
   "metadata": {},
   "outputs": [
    {
     "name": "stdout",
     "output_type": "stream",
     "text": [
      "\u001b[32mSaved FeatureTable[Frequency] to: ../data/Microbiome/ftable_infant_feces_10-30days_min10-5_genus.qza\u001b[0m\n",
      "\u001b[0m\u001b[32mSaved FeatureTable[Frequency] to: ../data/Microbiome/ftable_infant_feces_10-30days_min10-5_species.qza\u001b[0m\n",
      "\u001b[0m"
     ]
    }
   ],
   "source": [
    "!qiime taxa collapse \\\n",
    "    --i-table ../data/Microbiome/ftable_infant_feces_10-30days_min10-5.qza \\\n",
    "    --i-taxonomy ../data/Microbiome/sepsis_taxonomy.qza \\\n",
    "    --p-level 6 \\\n",
    "    --o-collapsed-table ../data/Microbiome/ftable_infant_feces_10-30days_min10-5_genus.qza\n",
    "\n",
    "!qiime taxa collapse \\\n",
    "    --i-table ../data/Microbiome/ftable_infant_feces_10-30days_min10-5.qza \\\n",
    "    --i-taxonomy ../data/Microbiome/sepsis_taxonomy.qza \\\n",
    "    --p-level 7 \\\n",
    "    --o-collapsed-table ../data/Microbiome/ftable_infant_feces_10-30days_min10-5_species.qza"
   ]
  },
  {
   "cell_type": "code",
   "execution_count": null,
   "id": "55216316",
   "metadata": {},
   "outputs": [],
   "source": [
    "qiime composition ancombc2 \\\n",
    "    --i-table ../data/Microbiome/ftable_infant_feces_10-30days_min10-5_species.qza \\\n",
    "    --m-metadata-file ../data/metadata_combined.txt \\\n",
    "    --p-fixed-effects-formula 'mode_delivery' \\\n",
    "    #--p-random-effects-formula '1 | host_subject_id' \\\n",
    "    --p-reference-levels mode_delivery::'Vaginal' \\\n",
    "    --o-ancombc2-output ../data/Microbiome/ancombc2/ifecal_ancombc2_differentials_joint_del-mode_species.qza\n",
    "        \n",
    "\n",
    "qiime composition ancombc2 \\\n",
    "    --i-table ../data/Microbiome/ftable_infant_feces_10-30days_min10-5_genus.qza \\\n",
    "    --m-metadata-file ../data/metadata_combined.txt \\\n",
    "    --p-fixed-effects-formula 'mode_delivery' \\\n",
    "    #--p-random-effects-formula '1 | host_subject_id' \\\n",
    "    --p-reference-levels mode_delivery::'Vaginal' \\\n",
    "    --o-ancombc2-output ../data/Microbiome/ancombc2/ifecal_ancombc2_differentials_joint_del-mode_genus.qza\n",
    "#host_subject_id as random effect to control for repeated sampling"
   ]
  },
  {
   "cell_type": "code",
   "execution_count": null,
   "id": "d4fdd31a",
   "metadata": {},
   "outputs": [],
   "source": [
    "qiime composition ancombc2 \\\n",
    "    --i-table ../data/Microbiome/ftable_infant_feces_10-30days_min10-5_genus.qza \\\n",
    "    --m-metadata-file ../data/metadata_combined.txt \\\n",
    "    --p-fixed-effects-formula 'drink_water_safe_simplified' \\\n",
    "    #--p-random-effects-formula '1 | host_subject_id' \\\n",
    "    --p-reference-levels drink_water_safe_simplified::'no water treatment' \\\n",
    "    --o-ancombc2-output ../data/Microbiome/ancombc2/ifecal_ancombc2_differentials_joint_water_genus.qza"
   ]
  },
  {
   "cell_type": "code",
   "execution_count": null,
   "id": "f79a3bfe",
   "metadata": {},
   "outputs": [],
   "source": [
    "qiime composition ancombc2-visualizer \\\n",
    "  --i-data ../data/Microbiome/ancombc2/ifecal_ancombc2_differentials_joint_del-mode_species.qza \\\n",
    "  --o-visualization ../data/Microbiome/ancombc2/ifecal_ancombc2_differentials_joint_del-mode_species.qzv\n",
    "\n",
    "qiime composition ancombc2-visualizer \\\n",
    "  --i-data ../data/Microbiome/ancombc2/ifecal_ancombc2_differentials_joint_del-mode_genus.qza \\\n",
    "  --o-visualization ../data/Microbiome/ancombc2/ifecal_ancombc2_differentials_joint_del-mode_genus.qzv\n",
    "\n",
    "qiime composition ancombc2-visualizer \\\n",
    "  --i-data ../data/Microbiome/ancombc2/ifecal_ancombc2_differentials_joint_water_genus.qza \\\n",
    "  --o-visualization ../data/Microbiome/ancombc2/ifecal_ancombc2_differentials_joint_water_genus.qzv"
   ]
  },
  {
   "cell_type": "code",
   "execution_count": null,
   "id": "973cd7c8",
   "metadata": {},
   "outputs": [],
   "source": [
    "qiime tools export \\\n",
    "    --input-path ../data/Microbiome/ancombc2/ifecal_ancombc2_differentials_joint_del-mode_species.qza \\\n",
    "    --output-path ../data/Microbiome/ancombc2/ifecal_ancombc2_differentials_joint_del-mode_species\n",
    "\n",
    "qiime tools export \\\n",
    "    --input-path ../data/Microbiome/ancombc2/ifecal_ancombc2_differentials_joint_del-mode_genus.qza \\\n",
    "    --output-path ../data/Microbiome/ancombc2/ifecal_ancombc2_differentials_joint_del-mode_genus\n",
    "\n",
    "qiime tools export \\\n",
    "    --input-path ../data/Microbiome/ancombc2/ifecal_ancombc2_differentials_joint_water_genus.qza \\\n",
    "    --output-path ../data/Microbiome/ancombc2/ifecal_ancombc2_differentials_joint_water_genus"
   ]
  },
  {
   "cell_type": "code",
   "execution_count": 13,
   "id": "1eef1904",
   "metadata": {},
   "outputs": [
    {
     "name": "stdout",
     "output_type": "stream",
     "text": [
      "Converted '../data/Microbiome/ancombc2/ifecal_ancombc2_differentials_joint_water_genus/p.jsonl' to '../data/Microbiome/ancombc2/ifecal_ancombc2_differentials_joint_water_genus/p.csv'\n",
      "Converted '../data/Microbiome/ancombc2/ifecal_ancombc2_differentials_joint_water_genus/diff.jsonl' to '../data/Microbiome/ancombc2/ifecal_ancombc2_differentials_joint_water_genus/diff.csv'\n",
      "Converted '../data/Microbiome/ancombc2/ifecal_ancombc2_differentials_joint_water_genus/passed_ss.jsonl' to '../data/Microbiome/ancombc2/ifecal_ancombc2_differentials_joint_water_genus/passed_ss.csv'\n",
      "Converted '../data/Microbiome/ancombc2/ifecal_ancombc2_differentials_joint_water_genus/q.jsonl' to '../data/Microbiome/ancombc2/ifecal_ancombc2_differentials_joint_water_genus/q.csv'\n",
      "Converted '../data/Microbiome/ancombc2/ifecal_ancombc2_differentials_joint_water_genus/se.jsonl' to '../data/Microbiome/ancombc2/ifecal_ancombc2_differentials_joint_water_genus/se.csv'\n",
      "Converted '../data/Microbiome/ancombc2/ifecal_ancombc2_differentials_joint_water_genus/W.jsonl' to '../data/Microbiome/ancombc2/ifecal_ancombc2_differentials_joint_water_genus/W.csv'\n",
      "Converted '../data/Microbiome/ancombc2/ifecal_ancombc2_differentials_joint_water_genus/lfc.jsonl' to '../data/Microbiome/ancombc2/ifecal_ancombc2_differentials_joint_water_genus/lfc.csv'\n"
     ]
    }
   ],
   "source": [
    "for x in glob.glob('../data/Microbiome/ancombc2/ifecal_ancombc2_differentials_joint_water_genus/*.jsonl'):\n",
    "    base_name_with_ext = os.path.basename(x)\n",
    "    base_name = base_name_with_ext.split(\".\")[0]\n",
    "    output_dir = os.path.dirname(x)\n",
    "    csv_output_path = os.path.join(output_dir, f\"{base_name}.csv\")\n",
    "    convert_jsonl_to_csv(x, csv_output_path)"
   ]
  },
  {
   "cell_type": "markdown",
   "id": "8b2c5127",
   "metadata": {},
   "source": [
    "# RPCA"
   ]
  },
  {
   "cell_type": "markdown",
   "id": "6b7a3d02",
   "metadata": {},
   "source": [
    "### All Together"
   ]
  },
  {
   "cell_type": "code",
   "execution_count": 463,
   "id": "2473505a",
   "metadata": {
    "scrolled": true
   },
   "outputs": [
    {
     "name": "stdout",
     "output_type": "stream",
     "text": [
      "\u001b[32mSaved FeatureTable[Frequency] to: ../data/Microbiome/lr-metrics/ftable_min644.qza\u001b[0m\n",
      "\u001b[0m"
     ]
    }
   ],
   "source": [
    "!qiime feature-table filter-samples \\\n",
    "    --i-table ../data/Microbiome/combined_ftable_noblanks.qza \\\n",
    "    --p-min-frequency 644 \\\n",
    "    --o-filtered-table ../data/Microbiome/lr-metrics/ftable_min644.qza"
   ]
  },
  {
   "cell_type": "code",
   "execution_count": 490,
   "id": "b280b3cd",
   "metadata": {},
   "outputs": [
    {
     "name": "stdout",
     "output_type": "stream",
     "text": [
      "\u001b[32mSaved Visualization to: ../data/Microbiome/lr-metrics/ftable_min644.qzv\u001b[0m\n",
      "\u001b[0m"
     ]
    }
   ],
   "source": [
    "!qiime feature-table summarize \\\n",
    "    --i-table ../data/Microbiome/lr-metrics/ftable_min644.qza \\\n",
    "    --m-sample-metadata-file ../data/metadata_combined.txt \\\n",
    "    --o-visualization ../data/Microbiome/lr-metrics/ftable_min644.qzv"
   ]
  },
  {
   "cell_type": "code",
   "execution_count": 464,
   "id": "293b001a",
   "metadata": {},
   "outputs": [
    {
     "name": "stdout",
     "output_type": "stream",
     "text": [
      "\u001b[32mSaved PCoAResults % Properties('biplot') to: ../data/Microbiome/lr-metrics/all-rpca-ordination.qza\u001b[0m\n",
      "\u001b[32mSaved DistanceMatrix to: ../data/Microbiome/lr-metrics/all-rpca-distance.qza\u001b[0m\n",
      "\u001b[0m"
     ]
    }
   ],
   "source": [
    "!qiime gemelli rpca \\\n",
    "    --i-table ../data/Microbiome/lr-metrics/ftable_min644.qza \\\n",
    "    --o-biplot ../data/Microbiome/lr-metrics/all-rpca-ordination.qza \\\n",
    "    --o-distance-matrix ../data/Microbiome/lr-metrics/all-rpca-distance.qza\n",
    "#samples less than 644 dropped for comparison to rarefied table"
   ]
  },
  {
   "cell_type": "code",
   "execution_count": 491,
   "id": "0dbde55f",
   "metadata": {},
   "outputs": [
    {
     "name": "stdout",
     "output_type": "stream",
     "text": [
      "\u001b[32mSaved PCoAResults % Properties('biplot') to: ../data/Microbiome/lr-metrics/rpca-rarefied-ordination.qza\u001b[0m\n",
      "\u001b[32mSaved DistanceMatrix to: ../data/Microbiome/lr-metrics/rpca-rarefied-distance.qza\u001b[0m\n",
      "\u001b[0m"
     ]
    }
   ],
   "source": [
    "!qiime gemelli rpca \\\n",
    "    --i-table ../data/Microbiome/core_diversity_644/rarefied_table.qza \\\n",
    "    --o-biplot ../data/Microbiome/lr-metrics/rpca-rarefied-ordination.qza \\\n",
    "    --o-distance-matrix ../data/Microbiome/lr-metrics/rpca-rarefied-distance.qza\n",
    "#rarified to 644 like standard alpha/beta - retains most vaginal samples"
   ]
  },
  {
   "cell_type": "code",
   "execution_count": 492,
   "id": "407bd33b",
   "metadata": {},
   "outputs": [
    {
     "name": "stdout",
     "output_type": "stream",
     "text": [
      "\u001b[32mSaved Visualization to: ../data/Microbiome/lr-metrics/gemelli-rarefy-qc.qzv\u001b[0m\n",
      "\u001b[0m"
     ]
    }
   ],
   "source": [
    "!qiime gemelli qc-rarefy \\\n",
    "    --i-table ../data/Microbiome/lr-metrics/ftable_min644.qza \\\n",
    "    --i-rarefied-distance ../data/Microbiome/lr-metrics/rpca-rarefied-distance.qza \\\n",
    "    --i-unrarefied-distance ../data/Microbiome/lr-metrics/all-rpca-distance.qza \\\n",
    "    --o-visualization ../data/Microbiome/lr-metrics/gemelli-rarefy-qc.qzv\n",
    "#to rarefy or not to rarefy (preferred)? \n",
    "#Answer says they are not significantly different, so use unrarefied"
   ]
  },
  {
   "cell_type": "code",
   "execution_count": 493,
   "id": "bdce1234",
   "metadata": {},
   "outputs": [
    {
     "name": "stdout",
     "output_type": "stream",
     "text": [
      "\u001b[32mSaved Visualization to: ../data/Microbiome/lr-metrics/rpca-biplot-all.qzv\u001b[0m\r\n",
      "\u001b[0m"
     ]
    }
   ],
   "source": [
    "!qiime emperor biplot \\\n",
    "    --i-biplot ../data/Microbiome/lr-metrics/all-rpca-ordination.qza \\\n",
    "    --m-sample-metadata-file ../data/metadata_combined.txt \\\n",
    "    --m-feature-metadata-file ../data/Microbiome/sepsis_taxonomy.qza \\\n",
    "    --p-number-of-features 8 \\\n",
    "    --o-visualization ../data/Microbiome/lr-metrics/rpca-biplot-all.qzv"
   ]
  },
  {
   "cell_type": "code",
   "execution_count": 494,
   "id": "2d472d54",
   "metadata": {},
   "outputs": [
    {
     "name": "stdout",
     "output_type": "stream",
     "text": [
      "\u001b[32mSaved Visualization to: ../data/Microbiome/lr-metrics/rpca-empplot_age.qzv\u001b[0m\n",
      "\u001b[0m"
     ]
    }
   ],
   "source": [
    "!qiime emperor plot \\\n",
    "    --i-pcoa ../data/Microbiome/lr-metrics/all-rpca-ordination.qza \\\n",
    "    --m-metadata-file ../data/metadata_combined.txt \\\n",
    "    --p-custom-axes 'host_age_infant' \\\n",
    "    --p-ignore-pcoa-features True \\\n",
    "    --o-visualization ../data/Microbiome/lr-metrics/rpca-empplot_age.qzv"
   ]
  },
  {
   "cell_type": "code",
   "execution_count": 495,
   "id": "e7d405d7",
   "metadata": {},
   "outputs": [
    {
     "name": "stdout",
     "output_type": "stream",
     "text": [
      "\u001b[32mSaved Visualization to: ../data/Microbiome/lr-metrics/rpca_body-site_bsig.qzv\u001b[0m\r\n",
      "\u001b[0m"
     ]
    }
   ],
   "source": [
    "!qiime diversity beta-group-significance \\\n",
    "    --i-distance-matrix ../data/Microbiome/lr-metrics/all-rpca-distance.qza \\\n",
    "    --m-metadata-file ../data/metadata_combined.txt \\\n",
    "    --m-metadata-column host_body_habitat \\\n",
    "    --p-method permanova \\\n",
    "    --p-pairwise True \\\n",
    "    --o-visualization ../data/Microbiome/lr-metrics/rpca_body-site_bsig.qzv"
   ]
  },
  {
   "cell_type": "code",
   "execution_count": 12,
   "id": "57105bac",
   "metadata": {},
   "outputs": [
    {
     "name": "stdout",
     "output_type": "stream",
     "text": [
      "\u001b[32mSaved Visualization to: ../data/Microbiome/reads/lr-metrics/rpca_qurro_plot.qzv\u001b[0m\n",
      "\u001b[0m"
     ]
    }
   ],
   "source": [
    "!qiime qurro loading-plot \\\n",
    "    --i-ranks ../data/Microbiome/lr-metrics/all-rpca-ordination.qza \\\n",
    "    --i-table ../data/Microbiome/combined_ftable_noblanks.qza \\\n",
    "    --m-sample-metadata-file ../data/metadata_combined.txt \\\n",
    "    --m-feature-metadata-file ../data/Microbiome/sepsis_taxonomy.qza \\\n",
    "    --o-visualization ../data/Microbiome/lr-metrics/rpca_qurro_plot.qzv\n",
    "#2023.5-gemelli"
   ]
  },
  {
   "cell_type": "markdown",
   "id": "d5f8eac0",
   "metadata": {},
   "source": [
    "# phyloRPCA"
   ]
  },
  {
   "cell_type": "markdown",
   "id": "6e4e2db9",
   "metadata": {},
   "source": [
    "### All together"
   ]
  },
  {
   "cell_type": "code",
   "execution_count": 465,
   "id": "384410ef",
   "metadata": {},
   "outputs": [
    {
     "name": "stdout",
     "output_type": "stream",
     "text": [
      "\u001b[32mSaved PCoAResults % Properties('biplot') to: ../data/Microbiome/lr-metrics/phyloRPCA-ordination.qza\u001b[0m\n",
      "\u001b[32mSaved DistanceMatrix to: ../data/Microbiome/lr-metrics/phyloRPCA-distance.qza\u001b[0m\n",
      "\u001b[32mSaved Phylogeny[Rooted] to: ../data/Microbiome/lr-metrics/phyloRPCA-tree.qza\u001b[0m\n",
      "\u001b[32mSaved FeatureTable[Frequency] to: ../data/Microbiome/lr-metrics/phyloRPCA-table.qza\u001b[0m\n",
      "\u001b[32mSaved FeatureData[Taxonomy] to: ../data/Microbiome/lr-metrics/phyloRPCA-taxonomy.qza\u001b[0m\n",
      "\u001b[0m"
     ]
    }
   ],
   "source": [
    "!qiime gemelli phylogenetic-rpca-with-taxonomy \\\n",
    "    --i-table ../data/Microbiome/lr-metrics/ftable_min644.qza \\\n",
    "    --i-phylogeny ../../greengenes2/2024.09.phylogeny.id.nwk.qza \\\n",
    "    --m-taxonomy-file ../data/Microbiome/sepsis_taxonomy.qza \\\n",
    "    --p-min-feature-count 100 \\\n",
    "    --o-biplot ../data/Microbiome/lr-metrics/phyloRPCA-ordination.qza \\\n",
    "    --o-distance-matrix ../data/Microbiome/lr-metrics/phyloRPCA-distance.qza \\\n",
    "    --o-counts-by-node-tree ../data/Microbiome/lr-metrics/phyloRPCA-tree.qza \\\n",
    "    --o-counts-by-node ../data/Microbiome/lr-metrics/phyloRPCA-table.qza \\\n",
    "    --o-t2t-taxonomy ../data/Microbiome/lr-metrics/phyloRPCA-taxonomy.qza"
   ]
  },
  {
   "cell_type": "code",
   "execution_count": 496,
   "id": "0e70fa4e",
   "metadata": {},
   "outputs": [
    {
     "name": "stdout",
     "output_type": "stream",
     "text": [
      "\u001b[32mSaved Visualization to: ../data/Microbiome/lr-metrics/phyloRPCA-empress.qzv\u001b[0m\n",
      "\u001b[0m"
     ]
    }
   ],
   "source": [
    "!qiime empress community-plot\\\n",
    "    --i-tree ../data/Microbiome/lr-metrics/phyloRPCA-tree.qza\\\n",
    "    --i-feature-table ../data/Microbiome/lr-metrics/phyloRPCA-table.qza\\\n",
    "    --i-pcoa ../data/Microbiome/lr-metrics/phyloRPCA-ordination.qza\\\n",
    "    --m-sample-metadata-file ../data/metadata_combined.txt\\\n",
    "    --m-feature-metadata-file ../data/Microbiome/lr-metrics/phyloRPCA-taxonomy.qza\\\n",
    "    --p-filter-missing-features\\\n",
    "    --p-number-of-features 10\\\n",
    "    --o-visualization ../data/Microbiome/lr-metrics/phyloRPCA-empress.qzv"
   ]
  },
  {
   "cell_type": "code",
   "execution_count": 497,
   "id": "b994bf86",
   "metadata": {},
   "outputs": [
    {
     "name": "stdout",
     "output_type": "stream",
     "text": [
      "\u001b[32mSaved Visualization to: ../data/Microbiome/lr-metrics/phyloRPCA-empplot.qzv\u001b[0m\n",
      "\u001b[0m"
     ]
    }
   ],
   "source": [
    "!qiime emperor plot \\\n",
    "    --i-pcoa ../data/Microbiome/lr-metrics/phyloRPCA-ordination.qza \\\n",
    "    --m-metadata-file ../data/metadata_combined.txt \\\n",
    "    --p-ignore-pcoa-features True \\\n",
    "    --p-custom-axes  host_age_infant \\\n",
    "    --o-visualization ../data/Microbiome/lr-metrics/phyloRPCA-empplot.qzv"
   ]
  },
  {
   "cell_type": "code",
   "execution_count": 698,
   "id": "c7ee70f6",
   "metadata": {},
   "outputs": [
    {
     "name": "stdout",
     "output_type": "stream",
     "text": [
      "\u001b[32mSaved Visualization to: ../data/Microbiome/lr-metrics/phyloRPCA_sampletype2_bsig.qzv\u001b[0m\r\n",
      "\u001b[0m"
     ]
    }
   ],
   "source": [
    "!qiime diversity beta-group-significance \\\n",
    "    --i-distance-matrix ../data/Microbiome/lr-metrics/phyloRPCA-distance.qza \\\n",
    "    --m-metadata-file ../data/metadata_combined.txt \\\n",
    "    --m-metadata-column sample_type2 \\\n",
    "    --p-method permanova \\\n",
    "    --p-pairwise True \\\n",
    "    --o-visualization ../data/Microbiome/lr-metrics/phyloRPCA_sampletype2_bsig.qzv"
   ]
  },
  {
   "cell_type": "code",
   "execution_count": 17,
   "id": "55da01e7",
   "metadata": {},
   "outputs": [
    {
     "name": "stdout",
     "output_type": "stream",
     "text": [
      "\u001b[32mSaved Visualization to: ../data/Microbiome/reads/lr-metrics/phyloRPCA-qurro_plot.qzv\u001b[0m\n",
      "\u001b[0m"
     ]
    }
   ],
   "source": [
    "!qiime qurro loading-plot \\\n",
    "    --i-ranks ../data/Microbiome/lr-metrics/phyloRPCA-ordination.qza \\\n",
    "    --i-table ../data/Microbiome/lr-metrics/phyloRPCA-table.qza \\\n",
    "    --m-sample-metadata-file ../data/metadata_combined.txt \\\n",
    "    --m-feature-metadata-file ../data/Microbiome/lr-metrics/phyloRPCA-taxonomy.qza \\\n",
    "    --o-visualization ../data/Microbiome/lr-metrics/phyloRPCA-qurro_plot.qzv"
   ]
  },
  {
   "cell_type": "code",
   "execution_count": 7,
   "id": "f55cbb9f",
   "metadata": {},
   "outputs": [
    {
     "name": "stdout",
     "output_type": "stream",
     "text": [
      "\u001b[32mSaved Visualization to: ../data/Microbiome/lr-metrics/phyloRPCA-adonis.qzv\u001b[0m\n",
      "\u001b[0m\u001b[?25h"
     ]
    }
   ],
   "source": [
    "!qiime diversity adonis \\\n",
    "    --i-distance-matrix ../data/Microbiome/lr-metrics/phyloRPCA-distance.qza \\\n",
    "    --m-metadata-file ../data/metadata_combined.txt \\\n",
    "    --p-formula \"host_age_infant+mode_delivery+host_subject_id+family_id+host_sex+hmo_Secretor_str+drink_water_safe_simplified+sample_type2\" \\\n",
    "    --o-visualization ../data/Microbiome/lr-metrics/phyloRPCA-adonis.qzv\n",
    "#won't do columns with nans fp_long_bin, im_ever_abxs_adhoc; other issues and removed: host_weight, gestational_age_birth"
   ]
  },
  {
   "cell_type": "markdown",
   "id": "32b5aa3c",
   "metadata": {},
   "source": [
    "### Fecal"
   ]
  },
  {
   "cell_type": "code",
   "execution_count": null,
   "id": "afe2fdc3",
   "metadata": {},
   "outputs": [],
   "source": [
    "###both adult and infant fecal over time"
   ]
  },
  {
   "cell_type": "code",
   "execution_count": 547,
   "id": "b8b5c7f6",
   "metadata": {},
   "outputs": [
    {
     "name": "stdout",
     "output_type": "stream",
     "text": [
      "\u001b[32mSaved PCoAResults % Properties('biplot') to: ../data/Microbiome/lr-metrics/infant_feces_phyloRPCA-ordination.qza\u001b[0m\n",
      "\u001b[32mSaved DistanceMatrix to: ../data/Microbiome/lr-metrics/infant_feces_phyloRPCA-distance.qza\u001b[0m\n",
      "\u001b[32mSaved Phylogeny[Rooted] to: ../data/Microbiome/lr-metrics/infant_feces_phyloRPCA-tree.qza\u001b[0m\n",
      "\u001b[32mSaved FeatureTable[Frequency] to: ../data/Microbiome/lr-metrics/infant_feces_phyloRPCA-table.qza\u001b[0m\n",
      "\u001b[32mSaved FeatureData[Taxonomy] to: ../data/Microbiome/lr-metrics/infant_feces_phyloRPCA-taxonomy.qza\u001b[0m\n",
      "\u001b[0m"
     ]
    }
   ],
   "source": [
    "!qiime gemelli phylogenetic-rpca-with-taxonomy \\\n",
    "    --i-table ../data/Microbiome/ftable_infant_feces_min10-5.qza \\\n",
    "    --i-phylogeny ../../greengenes2/2024.09.phylogeny.id.nwk.qza \\\n",
    "    --m-taxonomy-file ../data/Microbiome/sepsis_taxonomy.qza \\\n",
    "    --p-min-feature-count 1000 \\\n",
    "    --o-biplot ../data/Microbiome/lr-metrics/infant_feces_phyloRPCA-ordination.qza \\\n",
    "    --o-distance-matrix ../data/Microbiome/lr-metrics/infant_feces_phyloRPCA-distance.qza \\\n",
    "    --o-counts-by-node-tree ../data/Microbiome/lr-metrics/infant_feces_phyloRPCA-tree.qza \\\n",
    "    --o-counts-by-node ../data/Microbiome/lr-metrics/infant_feces_phyloRPCA-table.qza \\\n",
    "    --o-t2t-taxonomy ../data/Microbiome/lr-metrics/infant_feces_phyloRPCA-taxonomy.qza"
   ]
  },
  {
   "cell_type": "code",
   "execution_count": 548,
   "id": "23263609",
   "metadata": {},
   "outputs": [
    {
     "name": "stdout",
     "output_type": "stream",
     "text": [
      "\u001b[32mSaved Visualization to: ../data/Microbiome/lr-metrics/infant_feces_phyloRPCA-empress.qzv\u001b[0m\n",
      "\u001b[0m"
     ]
    }
   ],
   "source": [
    "!qiime empress community-plot\\\n",
    "    --i-tree ../data/Microbiome/lr-metrics/infant_feces_phyloRPCA-tree.qza\\\n",
    "    --i-feature-table ../data/Microbiome/lr-metrics/infant_feces_phyloRPCA-table.qza\\\n",
    "    --i-pcoa ../data/Microbiome/lr-metrics/infant_feces_phyloRPCA-ordination.qza\\\n",
    "    --m-sample-metadata-file ../data/metadata_combined.txt\\\n",
    "    --m-feature-metadata-file ../data/Microbiome/lr-metrics/infant_feces_phyloRPCA-taxonomy.qza\\\n",
    "    --p-filter-missing-features\\\n",
    "    --p-number-of-features 10\\\n",
    "    --o-visualization ../data/Microbiome/lr-metrics/infant_feces_phyloRPCA-empress.qzv"
   ]
  },
  {
   "cell_type": "code",
   "execution_count": 549,
   "id": "15e9751b",
   "metadata": {},
   "outputs": [
    {
     "name": "stdout",
     "output_type": "stream",
     "text": [
      "\u001b[32mSaved Visualization to: ../data/Microbiome/lr-metrics/infant_feces_phyloRPCA-empplot.qzv\u001b[0m\r\n",
      "\u001b[0m"
     ]
    }
   ],
   "source": [
    "!qiime emperor plot \\\n",
    "    --i-pcoa ../data/Microbiome/lr-metrics/infant_feces_phyloRPCA-ordination.qza \\\n",
    "    --m-metadata-file ../data/metadata_combined.txt \\\n",
    "    --p-ignore-pcoa-features True \\\n",
    "    --p-custom-axes  host_age_infant \\\n",
    "    --o-visualization ../data/Microbiome/lr-metrics/infant_feces_phyloRPCA-empplot.qzv"
   ]
  },
  {
   "cell_type": "code",
   "execution_count": 684,
   "id": "d9b3d626",
   "metadata": {},
   "outputs": [
    {
     "name": "stdout",
     "output_type": "stream",
     "text": [
      "\u001b[32mSaved Visualization to: ../data/Microbiome/lr-metrics/phyloRPCA_ifeces_bsig_age-cat.qzv\u001b[0m\n",
      "\u001b[0m\u001b[32mSaved Visualization to: ../data/Microbiome/lr-metrics/phyloRPCA_ifeces_bsig_30d-cat.qzv\u001b[0m\n",
      "\u001b[0m"
     ]
    }
   ],
   "source": [
    "!qiime diversity adonis \\\n",
    "    --i-distance-matrix ../data/Microbiome/lr-metrics/infant_feces_phyloRPCA-distance.qza \\\n",
    "    --m-metadata-file ../data/metadata_combined.txt \\\n",
    "    --p-formula 'host_age_infant+host_age_infant_cat' \\\n",
    "    --o-visualization ../data/Microbiome/lr-metrics/phyloRPCA_ifeces_bsig_age-cat.qzv\n",
    "\n",
    "!qiime diversity beta-group-significance \\\n",
    "    --i-distance-matrix ../data/Microbiome/lr-metrics/infant_feces_phyloRPCA-distance.qza \\\n",
    "    --m-metadata-file ../data/metadata_combined.txt \\\n",
    "    --m-metadata-column 30d_cat \\\n",
    "    --p-method permanova \\\n",
    "    --p-pairwise True \\\n",
    "    --o-visualization ../data/Microbiome/lr-metrics/phyloRPCA_ifeces_bsig_30d-cat.qzv"
   ]
  },
  {
   "cell_type": "code",
   "execution_count": 695,
   "id": "7b362a5f",
   "metadata": {},
   "outputs": [
    {
     "name": "stdout",
     "output_type": "stream",
     "text": [
      "\u001b[32mSaved FeatureTable[Frequency] to: ../data/Microbiome/combined_ftable_both_feces.qza\u001b[0m\n",
      "\u001b[0m"
     ]
    }
   ],
   "source": [
    "!qiime feature-table filter-samples \\\n",
    "    --i-table ../data/Microbiome/combined_ftable_noblanks.qza \\\n",
    "    --m-metadata-file ../data/metadata_combined.txt \\\n",
    "    --p-where \"[sample_type]='feces'\" \\\n",
    "    --o-filtered-table ../data/Microbiome/combined_ftable_both_feces.qza"
   ]
  },
  {
   "cell_type": "code",
   "execution_count": 696,
   "id": "06c58726",
   "metadata": {},
   "outputs": [
    {
     "name": "stdout",
     "output_type": "stream",
     "text": [
      "\u001b[32mSaved FeatureTable[Frequency] to: ../data/Microbiome/combined_ftable_both_feces_min10-5.qza\u001b[0m\n",
      "\u001b[0m"
     ]
    }
   ],
   "source": [
    "!qiime feature-table filter-samples \\\n",
    "    --i-table ../data/Microbiome/combined_ftable_both_feces.qza \\\n",
    "    --p-min-frequency 100000 \\\n",
    "    --o-filtered-table ../data/Microbiome/combined_ftable_both_feces_min10-5.qza"
   ]
  },
  {
   "cell_type": "code",
   "execution_count": 697,
   "id": "98b52c36",
   "metadata": {},
   "outputs": [
    {
     "name": "stdout",
     "output_type": "stream",
     "text": [
      "\u001b[32mSaved PCoAResults % Properties('biplot') to: ../data/Microbiome/lr-metrics/both_feces_phyloRPCA-ordination.qza\u001b[0m\n",
      "\u001b[32mSaved DistanceMatrix to: ../data/Microbiome/lr-metrics/both_feces_phyloRPCA-distance.qza\u001b[0m\n",
      "\u001b[32mSaved Phylogeny[Rooted] to: ../data/Microbiome/lr-metrics/both_feces_phyloRPCA-tree.qza\u001b[0m\n",
      "\u001b[32mSaved FeatureTable[Frequency] to: ../data/Microbiome/lr-metrics/both_feces_phyloRPCA-table.qza\u001b[0m\n",
      "\u001b[32mSaved FeatureData[Taxonomy] to: ../data/Microbiome/lr-metrics/both_feces_phyloRPCA-taxonomy.qza\u001b[0m\n",
      "\u001b[0m"
     ]
    }
   ],
   "source": [
    "!qiime gemelli phylogenetic-rpca-with-taxonomy \\\n",
    "    --i-table ../data/Microbiome/combined_ftable_both_feces_min10-5.qza \\\n",
    "    --i-phylogeny ../../greengenes2/2024.09.phylogeny.id.nwk.qza \\\n",
    "    --m-taxonomy-file ../data/Microbiome/sepsis_taxonomy.qza \\\n",
    "    --p-min-feature-count 1000 \\\n",
    "    --o-biplot ../data/Microbiome/lr-metrics/both_feces_phyloRPCA-ordination.qza \\\n",
    "    --o-distance-matrix ../data/Microbiome/lr-metrics/both_feces_phyloRPCA-distance.qza \\\n",
    "    --o-counts-by-node-tree ../data/Microbiome/lr-metrics/both_feces_phyloRPCA-tree.qza \\\n",
    "    --o-counts-by-node ../data/Microbiome/lr-metrics/both_feces_phyloRPCA-table.qza \\\n",
    "    --o-t2t-taxonomy ../data/Microbiome/lr-metrics/both_feces_phyloRPCA-taxonomy.qza"
   ]
  },
  {
   "cell_type": "markdown",
   "id": "446cc948",
   "metadata": {},
   "source": [
    "#### Infant Feces Only"
   ]
  },
  {
   "cell_type": "code",
   "execution_count": 10,
   "id": "54420e68",
   "metadata": {},
   "outputs": [
    {
     "name": "stdout",
     "output_type": "stream",
     "text": [
      "\u001b[32mSaved PCoAResults % Properties('biplot') to: ../data/Microbiome/lr-metrics/ifeces_phyloRPCA-ordination.qza\u001b[0m\n",
      "\u001b[32mSaved DistanceMatrix to: ../data/Microbiome/lr-metrics/ifeces_phyloRPCA-distance.qza\u001b[0m\n",
      "\u001b[32mSaved Phylogeny[Rooted] to: ../data/Microbiome/lr-metrics/ifeces_phyloRPCA-tree.qza\u001b[0m\n",
      "\u001b[32mSaved FeatureTable[Frequency] to: ../data/Microbiome/lr-metrics/ifeces_phyloRPCA-table.qza\u001b[0m\n",
      "\u001b[32mSaved FeatureData[Taxonomy] to: ../data/Microbiome/lr-metrics/ifeces_phyloRPCA-taxonomy.qza\u001b[0m\n",
      "\u001b[0m\u001b[?25h"
     ]
    }
   ],
   "source": [
    "!qiime gemelli phylogenetic-rpca-with-taxonomy \\\n",
    "    --i-table ../data/Microbiome/ftable_infant_feces_min10-5.qza \\\n",
    "    --i-phylogeny ../../greengenes2/2024.09.phylogeny.id.nwk.qza \\\n",
    "    --m-taxonomy-file ../data/Microbiome/sepsis_taxonomy.qza \\\n",
    "    --p-min-feature-count 100 \\\n",
    "    --o-biplot ../data/Microbiome/lr-metrics/ifeces_phyloRPCA-ordination.qza \\\n",
    "    --o-distance-matrix ../data/Microbiome/lr-metrics/ifeces_phyloRPCA-distance.qza \\\n",
    "    --o-counts-by-node-tree ../data/Microbiome/lr-metrics/ifeces_phyloRPCA-tree.qza \\\n",
    "    --o-counts-by-node ../data/Microbiome/lr-metrics/ifeces_phyloRPCA-table.qza \\\n",
    "    --o-t2t-taxonomy ../data/Microbiome/lr-metrics/ifeces_phyloRPCA-taxonomy.qza"
   ]
  },
  {
   "cell_type": "code",
   "execution_count": 5,
   "id": "12781724",
   "metadata": {},
   "outputs": [
    {
     "name": "stdout",
     "output_type": "stream",
     "text": [
      "\u001b[32mSaved Visualization to: ../data/Microbiome/lr-metrics/ifeces_phyloRPCA-adonis.qzv\u001b[0m\r\n",
      "\u001b[0m\u001b[?25h"
     ]
    }
   ],
   "source": [
    "!qiime diversity adonis \\\n",
    "    --i-distance-matrix ../data/Microbiome/lr-metrics/ifeces_phyloRPCA-distance.qza \\\n",
    "    --m-metadata-file ../data/infant_feces_metadata.txt \\\n",
    "    --p-formula \"host_age_infant+mode_delivery+host_subject_id+host_sex+hmo_Secretor_str+drink_water_safe_simplified+fp_long_bin+im_ever_abxs_adhoc+gestational_age_birth+AssetIndex2+birthweight+maternal_antibiotics\" \\\n",
    "    --o-visualization ../data/Microbiome/lr-metrics/ifeces_phyloRPCA-adonis.qzv"
   ]
  },
  {
   "cell_type": "markdown",
   "id": "5a2236f5",
   "metadata": {},
   "source": [
    "### Skin"
   ]
  },
  {
   "cell_type": "code",
   "execution_count": 539,
   "id": "6d16aa4a",
   "metadata": {},
   "outputs": [
    {
     "name": "stdout",
     "output_type": "stream",
     "text": [
      "\u001b[32mSaved PCoAResults % Properties('biplot') to: ../data/Microbiome/lr-metrics/infant_skin_phyloRPCA-ordination.qza\u001b[0m\n",
      "\u001b[32mSaved DistanceMatrix to: ../data/Microbiome/lr-metrics/infant_skin_phyloRPCA-distance.qza\u001b[0m\n",
      "\u001b[32mSaved Phylogeny[Rooted] to: ../data/Microbiome/lr-metrics/infant_skin_phyloRPCA-tree.qza\u001b[0m\n",
      "\u001b[32mSaved FeatureTable[Frequency] to: ../data/Microbiome/lr-metrics/infant_skin_phyloRPCA-table.qza\u001b[0m\n",
      "\u001b[32mSaved FeatureData[Taxonomy] to: ../data/Microbiome/lr-metrics/infant_skin_phyloRPCA-taxonomy.qza\u001b[0m\n",
      "\u001b[0m"
     ]
    }
   ],
   "source": [
    "!qiime gemelli phylogenetic-rpca-with-taxonomy \\\n",
    "    --i-table ../data/Microbiome/lr-metrics/ftable_infant_skin_min100000.qza \\\n",
    "    --i-phylogeny ../../greengenes2/2024.09.phylogeny.id.nwk.qza \\\n",
    "    --m-taxonomy-file ../data/Microbiome/sepsis_taxonomy.qza \\\n",
    "    --p-min-feature-count 1000 \\\n",
    "    --o-biplot ../data/Microbiome/lr-metrics/infant_skin_phyloRPCA-ordination.qza \\\n",
    "    --o-distance-matrix ../data/Microbiome/lr-metrics/infant_skin_phyloRPCA-distance.qza \\\n",
    "    --o-counts-by-node-tree ../data/Microbiome/lr-metrics/infant_skin_phyloRPCA-tree.qza \\\n",
    "    --o-counts-by-node ../data/Microbiome/lr-metrics/infant_skin_phyloRPCA-table.qza \\\n",
    "    --o-t2t-taxonomy ../data/Microbiome/lr-metrics/infant_skin_phyloRPCA-taxonomy.qza"
   ]
  },
  {
   "cell_type": "code",
   "execution_count": 540,
   "id": "f21f9563",
   "metadata": {},
   "outputs": [
    {
     "name": "stdout",
     "output_type": "stream",
     "text": [
      "\u001b[32mSaved Visualization to: ../data/Microbiome/lr-metrics/infant_skin_phyloRPCA-empress.qzv\u001b[0m\n",
      "\u001b[0m"
     ]
    }
   ],
   "source": [
    "!qiime empress community-plot\\\n",
    "    --i-tree ../data/Microbiome/lr-metrics/infant_skin_phyloRPCA-tree.qza\\\n",
    "    --i-feature-table ../data/Microbiome/lr-metrics/infant_skin_phyloRPCA-table.qza\\\n",
    "    --i-pcoa ../data/Microbiome/lr-metrics/infant_skin_phyloRPCA-ordination.qza\\\n",
    "    --m-sample-metadata-file ../data/metadata_combined.txt\\\n",
    "    --m-feature-metadata-file ../data/Microbiome/lr-metrics/infant_skin_phyloRPCA-taxonomy.qza\\\n",
    "    --p-filter-missing-features\\\n",
    "    --p-number-of-features 10\\\n",
    "    --o-visualization ../data/Microbiome/lr-metrics/infant_skin_phyloRPCA-empress.qzv"
   ]
  },
  {
   "cell_type": "code",
   "execution_count": 541,
   "id": "8ad7032d",
   "metadata": {},
   "outputs": [
    {
     "name": "stdout",
     "output_type": "stream",
     "text": [
      "\u001b[32mSaved Visualization to: ../data/Microbiome/lr-metrics/infant_skin_phyloRPCA-empplot.qzv\u001b[0m\n",
      "\u001b[0m"
     ]
    }
   ],
   "source": [
    "!qiime emperor plot \\\n",
    "    --i-pcoa ../data/Microbiome/lr-metrics/infant_skin_phyloRPCA-ordination.qza \\\n",
    "    --m-metadata-file ../data/metadata_combined.txt \\\n",
    "    --p-ignore-pcoa-features True \\\n",
    "    --p-custom-axes  host_age_infant \\\n",
    "    --o-visualization ../data/Microbiome/lr-metrics/infant_skin_phyloRPCA-empplot.qzv"
   ]
  },
  {
   "cell_type": "code",
   "execution_count": 683,
   "id": "23418a31",
   "metadata": {},
   "outputs": [
    {
     "name": "stdout",
     "output_type": "stream",
     "text": [
      "\u001b[32mSaved Visualization to: ../data/Microbiome/lr-metrics/phyloRPCA_iskin_bsig_age-cat.qzv\u001b[0m\n",
      "\u001b[0m\u001b[32mSaved Visualization to: ../data/Microbiome/lr-metrics/phyloRPCA_iskin_bsig_30d-cat.qzv\u001b[0m\n",
      "\u001b[0m"
     ]
    }
   ],
   "source": [
    "!qiime diversity adonis \\\n",
    "    --i-distance-matrix ../data/Microbiome/lr-metrics/infant_skin_phyloRPCA-distance.qza \\\n",
    "    --m-metadata-file ../data/metadata_combined.txt \\\n",
    "    --p-formula 'host_age_infant+host_age_infant_cat' \\\n",
    "    --o-visualization ../data/Microbiome/lr-metrics/phyloRPCA_iskin_bsig_age-cat.qzv\n",
    "\n",
    "!qiime diversity beta-group-significance \\\n",
    "    --i-distance-matrix ../data/Microbiome/lr-metrics/infant_skin_phyloRPCA-distance.qza \\\n",
    "    --m-metadata-file ../data/metadata_combined.txt \\\n",
    "    --m-metadata-column 30d_cat \\\n",
    "    --p-method permanova \\\n",
    "    --p-pairwise True \\\n",
    "    --o-visualization ../data/Microbiome/lr-metrics/phyloRPCA_iskin_bsig_30d-cat.qzv"
   ]
  },
  {
   "cell_type": "markdown",
   "id": "5368358d",
   "metadata": {},
   "source": [
    "### Oral"
   ]
  },
  {
   "cell_type": "code",
   "execution_count": 542,
   "id": "ad5d7ce4",
   "metadata": {},
   "outputs": [
    {
     "name": "stdout",
     "output_type": "stream",
     "text": [
      "\u001b[32mSaved PCoAResults % Properties('biplot') to: ../data/Microbiome/lr-metrics/infant_oral_phyloRPCA-ordination.qza\u001b[0m\n",
      "\u001b[32mSaved DistanceMatrix to: ../data/Microbiome/lr-metrics/infant_oral_phyloRPCA-distance.qza\u001b[0m\n",
      "\u001b[32mSaved Phylogeny[Rooted] to: ../data/Microbiome/lr-metrics/infant_oral_phyloRPCA-tree.qza\u001b[0m\n",
      "\u001b[32mSaved FeatureTable[Frequency] to: ../data/Microbiome/lr-metrics/infant_oral_phyloRPCA-table.qza\u001b[0m\n",
      "\u001b[32mSaved FeatureData[Taxonomy] to: ../data/Microbiome/lr-metrics/infant_oral_phyloRPCA-taxonomy.qza\u001b[0m\n",
      "\u001b[0m"
     ]
    }
   ],
   "source": [
    "!qiime gemelli phylogenetic-rpca-with-taxonomy \\\n",
    "    --i-table ../data/Microbiome/lr-metrics/ftable_infant_tongue_min100000.qza \\\n",
    "    --i-phylogeny ../../greengenes2/2024.09.phylogeny.id.nwk.qza \\\n",
    "    --m-taxonomy-file ../data/Microbiome/sepsis_taxonomy.qza \\\n",
    "    --p-min-feature-count 1000 \\\n",
    "    --o-biplot ../data/Microbiome/lr-metrics/infant_oral_phyloRPCA-ordination.qza \\\n",
    "    --o-distance-matrix ../data/Microbiome/lr-metrics/infant_oral_phyloRPCA-distance.qza \\\n",
    "    --o-counts-by-node-tree ../data/Microbiome/lr-metrics/infant_oral_phyloRPCA-tree.qza \\\n",
    "    --o-counts-by-node ../data/Microbiome/lr-metrics/infant_oral_phyloRPCA-table.qza \\\n",
    "    --o-t2t-taxonomy ../data/Microbiome/lr-metrics/infant_oral_phyloRPCA-taxonomy.qza"
   ]
  },
  {
   "cell_type": "code",
   "execution_count": 543,
   "id": "92b1d899",
   "metadata": {},
   "outputs": [
    {
     "name": "stdout",
     "output_type": "stream",
     "text": [
      "\u001b[32mSaved Visualization to: ../data/Microbiome/lr-metrics/infant_oral_phyloRPCA-empress.qzv\u001b[0m\n",
      "\u001b[0m"
     ]
    }
   ],
   "source": [
    "!qiime empress community-plot\\\n",
    "    --i-tree ../data/Microbiome/lr-metrics/infant_oral_phyloRPCA-tree.qza\\\n",
    "    --i-feature-table ../data/Microbiome/lr-metrics/infant_oral_phyloRPCA-table.qza\\\n",
    "    --i-pcoa ../data/Microbiome/lr-metrics/infant_oral_phyloRPCA-ordination.qza\\\n",
    "    --m-sample-metadata-file ../data/metadata_combined.txt\\\n",
    "    --m-feature-metadata-file ../data/Microbiome/lr-metrics/infant_oral_phyloRPCA-taxonomy.qza\\\n",
    "    --p-filter-missing-features\\\n",
    "    --p-number-of-features 10\\\n",
    "    --o-visualization ../data/Microbiome/lr-metrics/infant_oral_phyloRPCA-empress.qzv"
   ]
  },
  {
   "cell_type": "code",
   "execution_count": 544,
   "id": "1cde5a94",
   "metadata": {},
   "outputs": [
    {
     "name": "stdout",
     "output_type": "stream",
     "text": [
      "\u001b[32mSaved Visualization to: ../data/Microbiome/lr-metrics/infant_oral_phyloRPCA-empplot.qzv\u001b[0m\n",
      "\u001b[0m"
     ]
    }
   ],
   "source": [
    "!qiime emperor plot \\\n",
    "    --i-pcoa ../data/Microbiome/lr-metrics/infant_oral_phyloRPCA-ordination.qza \\\n",
    "    --m-metadata-file ../data/metadata_combined.txt \\\n",
    "    --p-ignore-pcoa-features True \\\n",
    "    --p-custom-axes  host_age_infant \\\n",
    "    --o-visualization ../data/Microbiome/lr-metrics/infant_oral_phyloRPCA-empplot.qzv"
   ]
  },
  {
   "cell_type": "code",
   "execution_count": 682,
   "id": "8228da42",
   "metadata": {},
   "outputs": [
    {
     "name": "stdout",
     "output_type": "stream",
     "text": [
      "\u001b[32mSaved Visualization to: ../data/Microbiome/lr-metrics/phyloRPCA_ioral_bsig_age-cat.qzv\u001b[0m\n",
      "\u001b[0m\u001b[32mSaved Visualization to: ../data/Microbiome/lr-metrics/phyloRPCA_ioral_bsig_30d-cat.qzv\u001b[0m\n",
      "\u001b[0m"
     ]
    }
   ],
   "source": [
    "!qiime diversity adonis \\\n",
    "    --i-distance-matrix ../data/Microbiome/lr-metrics/infant_oral_phyloRPCA-distance.qza \\\n",
    "    --m-metadata-file ../data/metadata_combined.txt \\\n",
    "    --p-formula 'host_age_infant+host_age_infant_cat' \\\n",
    "    --o-visualization ../data/Microbiome/lr-metrics/phyloRPCA_ioral_bsig_age-cat.qzv\n",
    "\n",
    "!qiime diversity beta-group-significance \\\n",
    "    --i-distance-matrix ../data/Microbiome/lr-metrics/infant_oral_phyloRPCA-distance.qza \\\n",
    "    --m-metadata-file ../data/metadata_combined.txt \\\n",
    "    --m-metadata-column 30d_cat \\\n",
    "    --p-method permanova \\\n",
    "    --p-pairwise True \\\n",
    "    --o-visualization ../data/Microbiome/lr-metrics/phyloRPCA_ioral_bsig_30d-cat.qzv"
   ]
  },
  {
   "cell_type": "markdown",
   "id": "4e468350",
   "metadata": {},
   "source": [
    "# TEMPTED"
   ]
  },
  {
   "cell_type": "markdown",
   "id": "f5542265",
   "metadata": {},
   "source": [
    "### Infants - feces"
   ]
  },
  {
   "cell_type": "code",
   "execution_count": 673,
   "id": "e582ad9f",
   "metadata": {},
   "outputs": [
    {
     "name": "stdout",
     "output_type": "stream",
     "text": [
      "\u001b[32mSaved FeatureTable[Frequency] to: ../data/Microbiome/lr-metrics/ftable_infant_feces_min100000_filt.qza\u001b[0m\n",
      "\u001b[0m"
     ]
    }
   ],
   "source": [
    "!qiime feature-table filter-samples \\\n",
    "    --i-table ../data/Microbiome/ftable_infant_feces_min10-5.qza \\\n",
    "    --m-metadata-file ../data/metadata_combined.txt \\\n",
    "    --p-where \"[family_id] IN ('10437', '10571', '12281', '11339')\" \\\n",
    "    --p-exclude-ids True \\\n",
    "    --o-filtered-table ../data/Microbiome/lr-metrics/ftable_infant_feces_min100000_filt.qza\n",
    "#100,000 reads minimum per sample\n",
    "#remove infants with only one timepoint, won't work for tempted"
   ]
  },
  {
   "cell_type": "code",
   "execution_count": 674,
   "id": "422c3b53",
   "metadata": {},
   "outputs": [
    {
     "name": "stdout",
     "output_type": "stream",
     "text": [
      "\u001b[32mSaved FeatureTable[Composition] to: ../data/Microbiome/lr-metrics/tempted/clr_infant_feces_min100000_filt.qza\u001b[0m\n",
      "\u001b[0m"
     ]
    }
   ],
   "source": [
    "!qiime gemelli clr-transformation \\\n",
    "    --i-table ../data/Microbiome/lr-metrics/ftable_infant_feces_min100000_filt.qza \\\n",
    "    --o-clr-table ../data/Microbiome/lr-metrics/tempted/clr_infant_feces_min100000_filt.qza"
   ]
  },
  {
   "cell_type": "code",
   "execution_count": 675,
   "id": "ede1af1d",
   "metadata": {},
   "outputs": [
    {
     "name": "stdout",
     "output_type": "stream",
     "text": [
      "\u001b[32mSaved PCoAResults % Properties('biplot') to: ../data/Microbiome/lr-metrics/tempted/infant_feces_individual_biplot.qza\u001b[0m\n",
      "\u001b[32mSaved SampleData[SampleTrajectory] to: ../data/Microbiome/lr-metrics/tempted/infant_feces_state_loadings.qza\u001b[0m\n",
      "\u001b[32mSaved DistanceMatrix to: ../data/Microbiome/lr-metrics/tempted/infant_feces_distance_matrix.qza\u001b[0m\n",
      "\u001b[32mSaved SampleData[SampleTrajectory] to: ../data/Microbiome/lr-metrics/tempted/infant_feces_svd_center.qza\u001b[0m\n",
      "\u001b[0m"
     ]
    }
   ],
   "source": [
    "!qiime gemelli tempted-factorize \\\n",
    "    --i-table ../data/Microbiome/lr-metrics/tempted/clr_infant_feces_min100000_filt.qza \\\n",
    "    --m-sample-metadata-file ../data/metadata_combined.txt \\\n",
    "    --p-individual-id-column 'host_subject_id' \\\n",
    "    --p-state-column 'host_age_infant' \\\n",
    "    --o-individual-biplot ../data/Microbiome/lr-metrics/tempted/infant_feces_individual_biplot.qza \\\n",
    "    --o-state-loadings ../data/Microbiome/lr-metrics/tempted/infant_feces_state_loadings.qza \\\n",
    "    --o-distance-matrix ../data/Microbiome/lr-metrics/tempted/infant_feces_distance_matrix.qza \\\n",
    "    --o-svd-center ../data/Microbiome/lr-metrics/tempted/infant_feces_svd_center.qza"
   ]
  },
  {
   "cell_type": "code",
   "execution_count": 505,
   "id": "fd0dbb07",
   "metadata": {},
   "outputs": [
    {
     "data": {
      "text/html": [
       "<div>\n",
       "<style scoped>\n",
       "    .dataframe tbody tr th:only-of-type {\n",
       "        vertical-align: middle;\n",
       "    }\n",
       "\n",
       "    .dataframe tbody tr th {\n",
       "        vertical-align: top;\n",
       "    }\n",
       "\n",
       "    .dataframe thead th {\n",
       "        text-align: right;\n",
       "    }\n",
       "</style>\n",
       "<table border=\"1\" class=\"dataframe\">\n",
       "  <thead>\n",
       "    <tr style=\"text-align: right;\">\n",
       "      <th></th>\n",
       "      <th>family_id</th>\n",
       "      <th>host_life_stage</th>\n",
       "      <th>mode_delivery</th>\n",
       "      <th>hmo_Secretor_str</th>\n",
       "      <th>drink_water_safe_simplified</th>\n",
       "      <th>bf_category</th>\n",
       "    </tr>\n",
       "    <tr>\n",
       "      <th>#SampleID</th>\n",
       "      <th></th>\n",
       "      <th></th>\n",
       "      <th></th>\n",
       "      <th></th>\n",
       "      <th></th>\n",
       "      <th></th>\n",
       "    </tr>\n",
       "  </thead>\n",
       "  <tbody>\n",
       "    <tr>\n",
       "      <th>100580</th>\n",
       "      <td>10058</td>\n",
       "      <td>adult</td>\n",
       "      <td>Vaginal</td>\n",
       "      <td>secretor</td>\n",
       "      <td>not filtered</td>\n",
       "      <td>Predominant BF</td>\n",
       "    </tr>\n",
       "    <tr>\n",
       "      <th>100581</th>\n",
       "      <td>10058</td>\n",
       "      <td>infant</td>\n",
       "      <td>Vaginal</td>\n",
       "      <td>secretor</td>\n",
       "      <td>not filtered</td>\n",
       "      <td>Predominant BF</td>\n",
       "    </tr>\n",
       "    <tr>\n",
       "      <th>100770</th>\n",
       "      <td>10077</td>\n",
       "      <td>adult</td>\n",
       "      <td>C-section</td>\n",
       "      <td>secretor</td>\n",
       "      <td>filtered</td>\n",
       "      <td>EBF</td>\n",
       "    </tr>\n",
       "    <tr>\n",
       "      <th>100771</th>\n",
       "      <td>10077</td>\n",
       "      <td>infant</td>\n",
       "      <td>C-section</td>\n",
       "      <td>secretor</td>\n",
       "      <td>filtered</td>\n",
       "      <td>EBF</td>\n",
       "    </tr>\n",
       "    <tr>\n",
       "      <th>101060</th>\n",
       "      <td>10106</td>\n",
       "      <td>adult</td>\n",
       "      <td>Vaginal</td>\n",
       "      <td>not a secretor</td>\n",
       "      <td>filtered</td>\n",
       "      <td>EBF</td>\n",
       "    </tr>\n",
       "  </tbody>\n",
       "</table>\n",
       "</div>"
      ],
      "text/plain": [
       "          family_id host_life_stage mode_delivery hmo_Secretor_str  \\\n",
       "#SampleID                                                            \n",
       "100580        10058           adult       Vaginal         secretor   \n",
       "100581        10058          infant       Vaginal         secretor   \n",
       "100770        10077           adult     C-section         secretor   \n",
       "100771        10077          infant     C-section         secretor   \n",
       "101060        10106           adult       Vaginal   not a secretor   \n",
       "\n",
       "          drink_water_safe_simplified     bf_category  \n",
       "#SampleID                                              \n",
       "100580                   not filtered  Predominant BF  \n",
       "100581                   not filtered  Predominant BF  \n",
       "100770                       filtered             EBF  \n",
       "100771                       filtered             EBF  \n",
       "101060                       filtered             EBF  "
      ]
     },
     "execution_count": 505,
     "metadata": {},
     "output_type": "execute_result"
    }
   ],
   "source": [
    "import pandas as pd\n",
    "\n",
    "# first we import the metdata into pandas\n",
    "mf = pd.read_csv('../data/metadata_combined.txt', sep='\\t',index_col=0)\n",
    "# next we aggregate by subjects (i.e. 'host_subject_id') \n",
    "# and keep the first instance of 'diagnosis_full' by subject.\n",
    "mf = mf.groupby('host_subject_id').agg({'family_id':'first',\n",
    "                                        'host_life_stage':'first',\n",
    "                                        'mode_delivery':'first',\n",
    "                                        'hmo_Secretor_str':'first',\n",
    "                                        'drink_water_safe_simplified':'first',\n",
    "                                       'bf_category':'last'})\n",
    "# now we save the metadata\n",
    "mf.index.name = '#SampleID'\n",
    "mf.index = mf.index.astype(str)\n",
    "mf.to_csv('../data/Microbiome/lr-metrics/tempted/subject-metadata.tsv', sep='\\t')\n",
    "mf.head(5)"
   ]
  },
  {
   "cell_type": "code",
   "execution_count": 506,
   "id": "a3af171a",
   "metadata": {},
   "outputs": [
    {
     "data": {
      "text/html": [
       "<div>\n",
       "<style scoped>\n",
       "    .dataframe tbody tr th:only-of-type {\n",
       "        vertical-align: middle;\n",
       "    }\n",
       "\n",
       "    .dataframe tbody tr th {\n",
       "        vertical-align: top;\n",
       "    }\n",
       "\n",
       "    .dataframe thead th {\n",
       "        text-align: right;\n",
       "    }\n",
       "</style>\n",
       "<table border=\"1\" class=\"dataframe\">\n",
       "  <thead>\n",
       "    <tr style=\"text-align: right;\">\n",
       "      <th></th>\n",
       "      <th>family_id</th>\n",
       "      <th>host_life_stage</th>\n",
       "      <th>mode_delivery</th>\n",
       "      <th>hmo_Secretor_str</th>\n",
       "      <th>drink_water_safe_simplified</th>\n",
       "      <th>bf_category</th>\n",
       "    </tr>\n",
       "    <tr>\n",
       "      <th>#SampleID</th>\n",
       "      <th></th>\n",
       "      <th></th>\n",
       "      <th></th>\n",
       "      <th></th>\n",
       "      <th></th>\n",
       "      <th></th>\n",
       "    </tr>\n",
       "  </thead>\n",
       "  <tbody>\n",
       "    <tr>\n",
       "      <th>blank.sep.9.4.f</th>\n",
       "      <td>blank.sep.9.4.f</td>\n",
       "      <td>not applicable</td>\n",
       "      <td>not applicable</td>\n",
       "      <td>unknown</td>\n",
       "      <td>not filtered</td>\n",
       "      <td>None</td>\n",
       "    </tr>\n",
       "    <tr>\n",
       "      <th>blank.sep.9.4.g</th>\n",
       "      <td>blank.sep.9.4.g</td>\n",
       "      <td>not applicable</td>\n",
       "      <td>not applicable</td>\n",
       "      <td>unknown</td>\n",
       "      <td>not filtered</td>\n",
       "      <td>None</td>\n",
       "    </tr>\n",
       "    <tr>\n",
       "      <th>blank.sep.9.4.h</th>\n",
       "      <td>blank.sep.9.4.h</td>\n",
       "      <td>not applicable</td>\n",
       "      <td>not applicable</td>\n",
       "      <td>unknown</td>\n",
       "      <td>not filtered</td>\n",
       "      <td>None</td>\n",
       "    </tr>\n",
       "    <tr>\n",
       "      <th>donotuse.SEP.15.12E</th>\n",
       "      <td>not applicable</td>\n",
       "      <td>not applicable</td>\n",
       "      <td>not applicable</td>\n",
       "      <td>unknown</td>\n",
       "      <td>not filtered</td>\n",
       "      <td>None</td>\n",
       "    </tr>\n",
       "    <tr>\n",
       "      <th>donotuse.SEP.7.8E</th>\n",
       "      <td>not applicable</td>\n",
       "      <td>not applicable</td>\n",
       "      <td>not applicable</td>\n",
       "      <td>unknown</td>\n",
       "      <td>not filtered</td>\n",
       "      <td>None</td>\n",
       "    </tr>\n",
       "  </tbody>\n",
       "</table>\n",
       "</div>"
      ],
      "text/plain": [
       "                           family_id host_life_stage   mode_delivery  \\\n",
       "#SampleID                                                              \n",
       "blank.sep.9.4.f      blank.sep.9.4.f  not applicable  not applicable   \n",
       "blank.sep.9.4.g      blank.sep.9.4.g  not applicable  not applicable   \n",
       "blank.sep.9.4.h      blank.sep.9.4.h  not applicable  not applicable   \n",
       "donotuse.SEP.15.12E   not applicable  not applicable  not applicable   \n",
       "donotuse.SEP.7.8E     not applicable  not applicable  not applicable   \n",
       "\n",
       "                    hmo_Secretor_str drink_water_safe_simplified bf_category  \n",
       "#SampleID                                                                     \n",
       "blank.sep.9.4.f              unknown                not filtered        None  \n",
       "blank.sep.9.4.g              unknown                not filtered        None  \n",
       "blank.sep.9.4.h              unknown                not filtered        None  \n",
       "donotuse.SEP.15.12E          unknown                not filtered        None  \n",
       "donotuse.SEP.7.8E            unknown                not filtered        None  "
      ]
     },
     "execution_count": 506,
     "metadata": {},
     "output_type": "execute_result"
    }
   ],
   "source": [
    "mf.tail(5)"
   ]
  },
  {
   "cell_type": "code",
   "execution_count": 676,
   "id": "c041c040",
   "metadata": {},
   "outputs": [
    {
     "name": "stdout",
     "output_type": "stream",
     "text": [
      "\u001b[32mSaved Visualization to: ../data/Microbiome/lr-metrics/tempted/infant_feces_subject_biplot.qzv\u001b[0m\n",
      "\u001b[0m"
     ]
    }
   ],
   "source": [
    "!qiime emperor biplot\\\n",
    "    --i-biplot ../data/Microbiome/lr-metrics/tempted/infant_feces_individual_biplot.qza \\\n",
    "    --m-sample-metadata-file ../data/Microbiome/lr-metrics/tempted/subject-metadata.tsv \\\n",
    "    --m-feature-metadata-file ../data/Microbiome/sepsis_taxonomy.qza \\\n",
    "    --p-number-of-features 10 \\\n",
    "    --o-visualization ../data/Microbiome/lr-metrics/tempted/infant_feces_subject_biplot.qzv"
   ]
  },
  {
   "cell_type": "code",
   "execution_count": null,
   "id": "8b0e9e1e",
   "metadata": {},
   "outputs": [],
   "source": [
    "!qiime qurro loading-plot \\\n",
    "    --i-table ../data/Microbiome/ftable_infant_feces_min10-5.qza \\\n",
    "    --i-ranks ../data/Microbiome/lr-metrics/tempted/infant_feces_individual_biplot.qza \\\n",
    "    --m-sample-metadata-file ../data/metadata_combined.txt \\\n",
    "    --m-feature-metadata-file ../data/Microbiome/sepsis_taxonomy.qza \\\n",
    "    --o-visualization ../data/Microbiome/lr-metrics/tempted/infant_feces_qurro.qzv"
   ]
  },
  {
   "cell_type": "code",
   "execution_count": 677,
   "id": "bedfb7b2",
   "metadata": {},
   "outputs": [
    {
     "name": "stdout",
     "output_type": "stream",
     "text": [
      "\u001b[32mSaved Visualization to: ../data/Microbiome/lr-metrics/tempted/infant_feces_bsig_dmode.qzv\u001b[0m\n",
      "\u001b[0m"
     ]
    }
   ],
   "source": [
    "!qiime diversity beta-group-significance \\\n",
    "    --i-distance-matrix ../data/Microbiome/lr-metrics/tempted/infant_feces_distance_matrix.qza \\\n",
    "    --m-metadata-file ../data/Microbiome/lr-metrics/tempted/subject-metadata.tsv \\\n",
    "    --m-metadata-column mode_delivery \\\n",
    "    --p-method permanova \\\n",
    "    --p-pairwise True \\\n",
    "    --o-visualization ../data/Microbiome/lr-metrics/tempted/infant_feces_bsig_dmode.qzv\n",
    "#not significant"
   ]
  },
  {
   "cell_type": "markdown",
   "id": "643c4c77",
   "metadata": {},
   "source": [
    "### Infants - skin"
   ]
  },
  {
   "cell_type": "code",
   "execution_count": 626,
   "id": "5b7e3adc",
   "metadata": {},
   "outputs": [
    {
     "name": "stdout",
     "output_type": "stream",
     "text": [
      "\u001b[32mSaved FeatureTable[Frequency] to: ../data/Microbiome/lr-metrics/ftable_infant_skin_min100000.qza\u001b[0m\n",
      "\u001b[0m"
     ]
    }
   ],
   "source": [
    "!qiime feature-table filter-samples \\\n",
    "    --i-table ../data/Microbiome/combined_ftable_infant_skin.qza \\\n",
    "    --p-min-frequency 100000 \\\n",
    "    --o-filtered-table ../data/Microbiome/lr-metrics/ftable_infant_skin_min100000.qza\n",
    "#100,000"
   ]
  },
  {
   "cell_type": "code",
   "execution_count": 627,
   "id": "b74a97d4",
   "metadata": {},
   "outputs": [
    {
     "name": "stdout",
     "output_type": "stream",
     "text": [
      "\u001b[32mSaved FeatureTable[Composition] to: ../data/Microbiome/lr-metrics/tempted/clr_infant_skin_min100000.qza\u001b[0m\r\n",
      "\u001b[0m"
     ]
    }
   ],
   "source": [
    "!qiime gemelli clr-transformation \\\n",
    "    --i-table ../data/Microbiome/lr-metrics/ftable_infant_skin_min100000.qza \\\n",
    "    --o-clr-table ../data/Microbiome/lr-metrics/tempted/clr_infant_skin_min100000.qza"
   ]
  },
  {
   "cell_type": "code",
   "execution_count": 628,
   "id": "587adf1d",
   "metadata": {},
   "outputs": [
    {
     "name": "stdout",
     "output_type": "stream",
     "text": [
      "\u001b[32mSaved PCoAResults % Properties('biplot') to: ../data/Microbiome/lr-metrics/tempted/infant_skin_individual_biplot.qza\u001b[0m\n",
      "\u001b[32mSaved SampleData[SampleTrajectory] to: ../data/Microbiome/lr-metrics/tempted/infant_skin_state_loadings.qza\u001b[0m\n",
      "\u001b[32mSaved DistanceMatrix to: ../data/Microbiome/lr-metrics/tempted/infant_skin_distance_matrix.qza\u001b[0m\n",
      "\u001b[32mSaved SampleData[SampleTrajectory] to: ../data/Microbiome/lr-metrics/tempted/infant_skin_svd_center.qza\u001b[0m\n",
      "\u001b[0m"
     ]
    }
   ],
   "source": [
    "!qiime gemelli tempted-factorize \\\n",
    "    --i-table ../data/Microbiome/lr-metrics/tempted/clr_infant_skin_min100000.qza \\\n",
    "    --m-sample-metadata-file ../data/metadata_combined.txt \\\n",
    "    --p-individual-id-column 'host_subject_id' \\\n",
    "    --p-state-column 'host_age_infant' \\\n",
    "    --o-individual-biplot ../data/Microbiome/lr-metrics/tempted/infant_skin_individual_biplot.qza \\\n",
    "    --o-state-loadings ../data/Microbiome/lr-metrics/tempted/infant_skin_state_loadings.qza \\\n",
    "    --o-distance-matrix ../data/Microbiome/lr-metrics/tempted/infant_skin_distance_matrix.qza \\\n",
    "    --o-svd-center ../data/Microbiome/lr-metrics/tempted/infant_skin_svd_center.qza"
   ]
  },
  {
   "cell_type": "code",
   "execution_count": 629,
   "id": "a0f26828",
   "metadata": {},
   "outputs": [
    {
     "name": "stdout",
     "output_type": "stream",
     "text": [
      "\u001b[32mSaved Visualization to: ../data/Microbiome/lr-metrics/tempted/infant_skin_subject_biplot.qzv\u001b[0m\n",
      "\u001b[0m"
     ]
    }
   ],
   "source": [
    "!qiime emperor biplot\\\n",
    "    --i-biplot ../data/Microbiome/lr-metrics/tempted/infant_skin_individual_biplot.qza \\\n",
    "    --m-sample-metadata-file ../data/Microbiome/lr-metrics/tempted/subject-metadata.tsv \\\n",
    "    --m-feature-metadata-file ../data/Microbiome/sepsis_taxonomy.qza \\\n",
    "    --p-number-of-features 10 \\\n",
    "    --o-visualization ../data/Microbiome/lr-metrics/tempted/infant_skin_subject_biplot.qzv"
   ]
  },
  {
   "cell_type": "code",
   "execution_count": 630,
   "id": "bf231649",
   "metadata": {},
   "outputs": [
    {
     "name": "stdout",
     "output_type": "stream",
     "text": [
      "\u001b[32mSaved Visualization to: ../data/Microbiome/lr-metrics/tempted/infant_skin_bsig_water.qzv\u001b[0m\r\n",
      "\u001b[0m"
     ]
    }
   ],
   "source": [
    "!qiime diversity beta-group-significance \\\n",
    "    --i-distance-matrix ../data/Microbiome/lr-metrics/tempted/infant_skin_distance_matrix.qza \\\n",
    "    --m-metadata-file ../data/Microbiome/lr-metrics/tempted/subject-metadata.tsv \\\n",
    "    --m-metadata-column drink_water_safe_simplified \\\n",
    "    --p-method permanova \\\n",
    "    --p-pairwise True \\\n",
    "    --o-visualization ../data/Microbiome/lr-metrics/tempted/infant_skin_bsig_water.qzv\n",
    "#no treatment vs filtered significant"
   ]
  },
  {
   "cell_type": "code",
   "execution_count": 631,
   "id": "e40df946",
   "metadata": {},
   "outputs": [
    {
     "name": "stdout",
     "output_type": "stream",
     "text": [
      "\u001b[32mSaved Visualization to: ../data/Microbiome/lr-metrics/tempted/infant_skin_bsig_dmode.qzv\u001b[0m\r\n",
      "\u001b[0m"
     ]
    }
   ],
   "source": [
    "!qiime diversity beta-group-significance \\\n",
    "    --i-distance-matrix ../data/Microbiome/lr-metrics/tempted/infant_skin_distance_matrix.qza \\\n",
    "    --m-metadata-file ../data/Microbiome/lr-metrics/tempted/subject-metadata.tsv \\\n",
    "    --m-metadata-column mode_delivery \\\n",
    "    --p-method permanova \\\n",
    "    --p-pairwise True \\\n",
    "    --o-visualization ../data/Microbiome/lr-metrics/tempted/infant_skin_bsig_dmode.qzv\n",
    "#significant"
   ]
  },
  {
   "cell_type": "code",
   "execution_count": 49,
   "id": "eb46b829",
   "metadata": {},
   "outputs": [
    {
     "name": "stdout",
     "output_type": "stream",
     "text": [
      "\u001b[32mSaved Visualization to: ../data/Microbiome/reads/lr-metrics/tempted/qurro.qzv\u001b[0m\r\n",
      "\u001b[0m"
     ]
    }
   ],
   "source": [
    "!qiime qurro loading-plot \\\n",
    "    --i-table ../data/Microbiome/lr-metrics/ftable_infant_skin_min100000.qza \\\n",
    "    --i-ranks ../data/Microbiome/lr-metrics/tempted/infant_skin_individual_biplot.qza \\\n",
    "    --m-sample-metadata-file ../data/metadata_combined.txt \\\n",
    "    --m-feature-metadata-file ../data/Microbiome/sepsis_taxonomy.qza \\\n",
    "    --o-visualization ../data/Microbiome/lr-metrics/tempted/infant_skin_qurro.qzv"
   ]
  },
  {
   "cell_type": "markdown",
   "id": "7312e598",
   "metadata": {},
   "source": [
    "### Infants - tongue"
   ]
  },
  {
   "cell_type": "code",
   "execution_count": 666,
   "id": "91726ca5",
   "metadata": {},
   "outputs": [
    {
     "name": "stdout",
     "output_type": "stream",
     "text": [
      "\u001b[32mSaved FeatureTable[Frequency] to: ../data/Microbiome/lr-metrics/ftable_infant_tongue_min100000_filt.qza\u001b[0m\r\n",
      "\u001b[0m"
     ]
    }
   ],
   "source": [
    "!qiime feature-table filter-samples \\\n",
    "    --i-table ../data/Microbiome/ftable_infant_tongue_min10-5.qza \\\n",
    "    --m-metadata-file ../data/metadata_combined.txt \\\n",
    "    --p-where \"[family_id] IN ('10314', '11434', '11199')\" \\\n",
    "    --p-exclude-ids True \\\n",
    "    --o-filtered-table ../data/Microbiome/lr-metrics/ftable_infant_tongue_min100000_filt.qza\n",
    "#100,000 reads minimum per sample\n",
    "#remove infants with only one timepoint, won't work for tempted"
   ]
  },
  {
   "cell_type": "code",
   "execution_count": 667,
   "id": "d5596909",
   "metadata": {},
   "outputs": [
    {
     "name": "stdout",
     "output_type": "stream",
     "text": [
      "\u001b[32mSaved FeatureTable[Composition] to: ../data/Microbiome/lr-metrics/tempted/clr_infant_tongue_min100000_filt.qza\u001b[0m\n",
      "\u001b[0m"
     ]
    }
   ],
   "source": [
    "!qiime gemelli clr-transformation \\\n",
    "    --i-table ../data/Microbiome/lr-metrics/ftable_infant_tongue_min100000_filt.qza \\\n",
    "    --o-clr-table ../data/Microbiome/lr-metrics/tempted/clr_infant_tongue_min100000_filt.qza"
   ]
  },
  {
   "cell_type": "code",
   "execution_count": 668,
   "id": "94dd14d2",
   "metadata": {},
   "outputs": [
    {
     "name": "stdout",
     "output_type": "stream",
     "text": [
      "\u001b[32mSaved PCoAResults % Properties('biplot') to: ../data/Microbiome/lr-metrics/tempted/infant_tongue_individual_biplot.qza\u001b[0m\n",
      "\u001b[32mSaved SampleData[SampleTrajectory] to: ../data/Microbiome/lr-metrics/tempted/infant_tongue_state_loadings.qza\u001b[0m\n",
      "\u001b[32mSaved DistanceMatrix to: ../data/Microbiome/lr-metrics/tempted/infant_tongue_distance_matrix.qza\u001b[0m\n",
      "\u001b[32mSaved SampleData[SampleTrajectory] to: ../data/Microbiome/lr-metrics/tempted/infant_tongue_svd_center.qza\u001b[0m\n",
      "\u001b[0m"
     ]
    }
   ],
   "source": [
    "!qiime gemelli tempted-factorize \\\n",
    "    --i-table ../data/Microbiome/lr-metrics/tempted/clr_infant_tongue_min100000_filt.qza \\\n",
    "    --m-sample-metadata-file ../data/metadata_combined.txt \\\n",
    "    --p-individual-id-column 'host_subject_id' \\\n",
    "    --p-state-column 'host_age_infant' \\\n",
    "    --o-individual-biplot ../data/Microbiome/lr-metrics/tempted/infant_tongue_individual_biplot.qza \\\n",
    "    --o-state-loadings ../data/Microbiome/lr-metrics/tempted/infant_tongue_state_loadings.qza \\\n",
    "    --o-distance-matrix ../data/Microbiome/lr-metrics/tempted/infant_tongue_distance_matrix.qza \\\n",
    "    --o-svd-center ../data/Microbiome/lr-metrics/tempted/infant_tongue_svd_center.qza"
   ]
  },
  {
   "cell_type": "code",
   "execution_count": 669,
   "id": "ec04b80f",
   "metadata": {},
   "outputs": [
    {
     "name": "stdout",
     "output_type": "stream",
     "text": [
      "\u001b[32mSaved Visualization to: ../data/Microbiome/lr-metrics/tempted/infant_tongue_subject_biplot.qzv\u001b[0m\n",
      "\u001b[0m"
     ]
    }
   ],
   "source": [
    "!qiime emperor biplot\\\n",
    "    --i-biplot ../data/Microbiome/lr-metrics/tempted/infant_tongue_individual_biplot.qza \\\n",
    "    --m-sample-metadata-file ../data/Microbiome/lr-metrics/tempted/subject-metadata.tsv \\\n",
    "    --m-feature-metadata-file ../data/Microbiome/sepsis_taxonomy.qza \\\n",
    "    --p-number-of-features 10 \\\n",
    "    --o-visualization ../data/Microbiome/lr-metrics/tempted/infant_tongue_subject_biplot.qzv"
   ]
  },
  {
   "cell_type": "code",
   "execution_count": 670,
   "id": "cb9a5a09",
   "metadata": {},
   "outputs": [
    {
     "name": "stdout",
     "output_type": "stream",
     "text": [
      "\u001b[32mSaved Visualization to: ../data/Microbiome/lr-metrics/tempted/infant_oral_bsig_m-hmo.qzv\u001b[0m\n",
      "\u001b[0m"
     ]
    }
   ],
   "source": [
    "!qiime diversity beta-group-significance \\\n",
    "    --i-distance-matrix ../data/Microbiome/lr-metrics/tempted/infant_tongue_distance_matrix.qza \\\n",
    "    --m-metadata-file ../data/Microbiome/lr-metrics/tempted/subject-metadata.tsv \\\n",
    "    --m-metadata-column hmo_Secretor_str \\\n",
    "    --p-method permanova \\\n",
    "    --p-pairwise True \\\n",
    "    --o-visualization ../data/Microbiome/lr-metrics/tempted/infant_oral_bsig_m-hmo.qzv\n",
    "#sig secretor vs not secretor"
   ]
  },
  {
   "cell_type": "code",
   "execution_count": 671,
   "id": "b2ca0d9e",
   "metadata": {},
   "outputs": [
    {
     "name": "stdout",
     "output_type": "stream",
     "text": [
      "\u001b[32mSaved Visualization to: ../data/Microbiome/lr-metrics/tempted/infant_oral_bsig_dmode.qzv\u001b[0m\n",
      "\u001b[0m"
     ]
    }
   ],
   "source": [
    "!qiime diversity beta-group-significance \\\n",
    "    --i-distance-matrix ../data/Microbiome/lr-metrics/tempted/infant_tongue_distance_matrix.qza \\\n",
    "    --m-metadata-file ../data/Microbiome/lr-metrics/tempted/subject-metadata.tsv \\\n",
    "    --m-metadata-column mode_delivery \\\n",
    "    --p-method permanova \\\n",
    "    --p-pairwise True \\\n",
    "    --o-visualization ../data/Microbiome/lr-metrics/tempted/infant_oral_bsig_dmode.qzv\n",
    "#p=0.08, not sig"
   ]
  },
  {
   "cell_type": "code",
   "execution_count": 672,
   "id": "2650af4e",
   "metadata": {},
   "outputs": [
    {
     "name": "stdout",
     "output_type": "stream",
     "text": [
      "\u001b[32mSaved Visualization to: ../data/Microbiome/lr-metrics/tempted/infant_oral_bsig_bf-cat.qzv\u001b[0m\n",
      "\u001b[0m"
     ]
    }
   ],
   "source": [
    "!qiime diversity beta-group-significance \\\n",
    "    --i-distance-matrix ../data/Microbiome/lr-metrics/tempted/infant_tongue_distance_matrix.qza \\\n",
    "    --m-metadata-file ../data/Microbiome/lr-metrics/tempted/subject-metadata.tsv \\\n",
    "    --m-metadata-column bf_category \\\n",
    "    --p-method permanova \\\n",
    "    --p-pairwise True \\\n",
    "    --o-visualization ../data/Microbiome/lr-metrics/tempted/infant_oral_bsig_bf-cat.qzv\n",
    "#not significant"
   ]
  },
  {
   "cell_type": "code",
   "execution_count": 49,
   "id": "2d862944",
   "metadata": {},
   "outputs": [
    {
     "name": "stdout",
     "output_type": "stream",
     "text": [
      "\u001b[32mSaved Visualization to: ../data/Microbiome/reads/lr-metrics/tempted/qurro.qzv\u001b[0m\r\n",
      "\u001b[0m"
     ]
    }
   ],
   "source": [
    "!qiime qurro loading-plot \\\n",
    "    --i-table ../data/Microbiome/ftable_infant_tongue_min10-5.qza \\\n",
    "    --i-ranks ../data/Microbiome/lr-metrics/tempted/infant_tongue_individual_biplot.qza \\\n",
    "    --m-sample-metadata-file ../data/metadata_combined.txt \\\n",
    "    --m-feature-metadata-file ../data/Microbiome/sepsis_taxonomy.qza \\\n",
    "    --o-visualization ../data/Microbiome/lr-metrics/tempted/infant_tongue_qurro.qzv"
   ]
  }
 ],
 "metadata": {
  "kernelspec": {
   "display_name": "Python 3 (ipykernel)",
   "language": "python",
   "name": "python3"
  },
  "language_info": {
   "codemirror_mode": {
    "name": "ipython",
    "version": 3
   },
   "file_extension": ".py",
   "mimetype": "text/x-python",
   "name": "python",
   "nbconvert_exporter": "python",
   "pygments_lexer": "ipython3",
   "version": "3.10.14"
  }
 },
 "nbformat": 4,
 "nbformat_minor": 5
}
